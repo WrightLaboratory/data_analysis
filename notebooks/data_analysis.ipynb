{
 "cells": [
  {
   "cell_type": "code",
   "execution_count": 112,
   "metadata": {
    "slideshow": {
     "slide_type": "skip"
    }
   },
   "outputs": [
    {
     "data": {
      "text/plain": [
       "{'width': 1000, 'height': 600, 'scroll': True}"
      ]
     },
     "execution_count": 112,
     "metadata": {},
     "output_type": "execute_result"
    }
   ],
   "source": [
    "from notebook.services.config import ConfigManager\n",
    "cm = ConfigManager()\n",
    "cm.update('livereveal', {\n",
    "              'width': 1000,\n",
    "              'height': 600,\n",
    "              'scroll': True,\n",
    "})\n"
   ]
  },
  {
   "cell_type": "markdown",
   "metadata": {
    "slideshow": {
     "slide_type": "slide"
    },
    "tags": []
   },
   "source": [
    "# Introduction to Data Analysis with Python\n",
    "_T.J. Langford_  \n",
    "_Vincent Balbarin_  \n",
    "_Yale Center for Reasearch Computing_  \n",
    "_October 25, 2022_  "
   ]
  },
  {
   "cell_type": "markdown",
   "metadata": {
    "slideshow": {
     "slide_type": "slide"
    },
    "tags": []
   },
   "source": [
    "# Overview\n",
    "\n",
    "- Introduction to [Jupiter Docker Stacks](https://jupyter-docker-stacks.readthedocs.io/en/latest/)\n",
    "- Introduction to [podman](https://podman.io/)\n",
    "- Introduction to `numpy` and `matplotlib`\n",
    "- Data processing and analysis with `numpy`\n",
    "- Data visualization with `matplotlib`\n",
    "- Real-world example of data processing "
   ]
  },
  {
   "cell_type": "markdown",
   "metadata": {
    "slideshow": {
     "slide_type": "slide"
    }
   },
   "source": [
    "# Tutorial Requirements"
   ]
  },
  {
   "cell_type": "markdown",
   "metadata": {
    "slideshow": {
     "slide_type": "fragment"
    },
    "tags": []
   },
   "source": [
    "- Repository for this tutorial: https://github.com/WrightLaboratory/data_analysis\n",
    "  - Notebook\n",
    "  - Test data\n",
    "  - Supporting scripts\n"
   ]
  },
  {
   "cell_type": "markdown",
   "metadata": {
    "slideshow": {
     "slide_type": "fragment"
    },
    "tags": []
   },
   "source": [
    "- `jupyter/scipy-notebook` Docker image"
   ]
  },
  {
   "cell_type": "markdown",
   "metadata": {
    "slideshow": {
     "slide_type": "fragment"
    },
    "tags": []
   },
   "source": [
    "- Podman"
   ]
  },
  {
   "cell_type": "markdown",
   "metadata": {
    "slideshow": {
     "slide_type": "slide"
    },
    "tags": []
   },
   "source": [
    "# Jupyter and Docker\n",
    "\n",
    "- The Jupyter project provides provides pre-built Docker images at [Jupyter Docker Stacks](https://jupyter-docker-stacks.readthedocs.io/en/latest/)\n",
    "- No need to install and configure Python virtual environments\n",
    "- [`jupiter/scipy-notebook`](https://jupyter-docker-stacks.readthedocs.io/en/latest/using/selecting.html#jupyter-scipy-notebook) image includes popular packages from the scientific Python ecosystem"
   ]
  },
  {
   "cell_type": "markdown",
   "metadata": {
    "slideshow": {
     "slide_type": "slide"
    }
   },
   "source": [
    "# Podman\n",
    "\n",
    "- Container engine for executing Open Container Initiative (OCI) compliant images\n",
    "- `podman` cli supports many of the same flags as `docker` cli\n",
    "- Available in Linux package repositories, podman machine running on a WSL VM in Windows, and podman machine running on QEMU VM in MacOS"
   ]
  },
  {
   "cell_type": "markdown",
   "metadata": {
    "slideshow": {
     "slide_type": "slide"
    }
   },
   "source": [
    "# Podman Security\n",
    "\n",
    "- Daemon-less and capable of running rootless\n",
    "- Integrates with systemd\n",
    "- Kubernetes-like\n",
    "  - Related application components are grouped into pods\n",
    "  - Namespaces provide another layer of isolation"
   ]
  },
  {
   "cell_type": "markdown",
   "metadata": {
    "slideshow": {
     "slide_type": "slide"
    }
   },
   "source": [
    "# Running This Notebook\n",
    "\n",
    "\n",
    "Follow the [instructions](https://podman.io/getting-started/installation.html#podman-installation-instructions) to install Podman on your operating system of choice.\n",
    " "
   ]
  },
  {
   "cell_type": "markdown",
   "metadata": {
    "slideshow": {
     "slide_type": "subslide"
    }
   },
   "source": [
    "```bash\n",
    "# Clone the repository\n",
    "git clone https://github.com/WrightLaboratory/data_analysis data_analysis\n",
    "```"
   ]
  },
  {
   "cell_type": "markdown",
   "metadata": {
    "slideshow": {
     "slide_type": "subslide"
    }
   },
   "source": [
    "```bash\n",
    "# Use the provided script to launch Jupyter container\n",
    "cd data_analysis\n",
    "bash ./scripts/podman_jupyterlab.sh\n",
    "```"
   ]
  },
  {
   "cell_type": "markdown",
   "metadata": {
    "slideshow": {
     "slide_type": "subslide"
    }
   },
   "source": [
    "  ```bash\n",
    "  # Find the url in the standard output log trace and open in your browser\n",
    "  ...\n",
    "  [C 2022-10-18 03:30:26.665 ServerApp] \n",
    "    \n",
    "    To access the server, open this file in a browser:\n",
    "        file:///home/jovyan/.local/share/jupyter/runtime/jpserver-2-open.html\n",
    "  ```"
   ]
  },
  {
   "cell_type": "markdown",
   "metadata": {
    "slideshow": {
     "slide_type": "fragment"
    },
    "tags": []
   },
   "source": [
    "  ```bash\n",
    "    Or copy and paste one of these URLs:\n",
    "        http://784772c24b81:8888/lab?token=929d6fbdc29185ba5ac86b60c689e84b1f3fa2eb22b46ebc\n",
    "  ```"
   ]
  },
  {
   "cell_type": "markdown",
   "metadata": {
    "slideshow": {
     "slide_type": "fragment"
    },
    "tags": []
   },
   "source": [
    "  ```bash\n",
    "     or http://127.0.0.1:8888/lab?token=929d6fbdc29185ba5ac86b60c689e84b1f3fa2eb22b46ebc\n",
    "  ...\n",
    "  ```"
   ]
  },
  {
   "cell_type": "markdown",
   "metadata": {
    "slideshow": {
     "slide_type": "slide"
    }
   },
   "source": [
    "# Data Processing with `numpy`"
   ]
  },
  {
   "cell_type": "code",
   "execution_count": 113,
   "metadata": {
    "slideshow": {
     "slide_type": "subslide"
    }
   },
   "outputs": [],
   "source": [
    "import numpy as np"
   ]
  },
  {
   "cell_type": "markdown",
   "metadata": {
    "slideshow": {
     "slide_type": "subslide"
    }
   },
   "source": [
    "# What is Numpy?\n",
    "\n",
    "NumPy is the fundamental package for scientific computing with Python. It contains among other things:\n",
    "\n",
    "- a powerful N-dimensional array object\n",
    "- sophisticated (broadcasting) functions\n",
    "- tools for integrating C/C++ and Fortran code\n",
    "- useful linear algebra, Fourier transform, and random number capabilities\n",
    "\n",
    "[User Guide](https://docs.scipy.org/doc/numpy-1.16.1/)"
   ]
  },
  {
   "cell_type": "markdown",
   "metadata": {
    "slideshow": {
     "slide_type": "subslide"
    }
   },
   "source": [
    "## N-dimensional array objects\n",
    "\n",
    "- Fundamental basis of numpy is the `array` object\n",
    "- 1D array ~ vector\n",
    "- 2D array ~ matrix  \n",
    "- nD array (n > 2) ~ tensor"
   ]
  },
  {
   "cell_type": "markdown",
   "metadata": {
    "slideshow": {
     "slide_type": "subslide"
    }
   },
   "source": [
    "### Creating arrays"
   ]
  },
  {
   "cell_type": "markdown",
   "metadata": {
    "slideshow": {
     "slide_type": "fragment"
    }
   },
   "source": [
    "Arrays can be created in a variety of ways. The most common are either empty:"
   ]
  },
  {
   "cell_type": "code",
   "execution_count": 114,
   "metadata": {
    "slideshow": {
     "slide_type": "fragment"
    }
   },
   "outputs": [
    {
     "data": {
      "text/plain": [
       "array([0., 0., 0., 0., 0., 0., 0., 0., 0., 0.])"
      ]
     },
     "execution_count": 114,
     "metadata": {},
     "output_type": "execute_result"
    }
   ],
   "source": [
    "a = np.zeros(10)\n",
    "a"
   ]
  },
  {
   "cell_type": "markdown",
   "metadata": {
    "slideshow": {
     "slide_type": "fragment"
    }
   },
   "source": [
    "or you can create them from an existing `list`:"
   ]
  },
  {
   "cell_type": "code",
   "execution_count": 115,
   "metadata": {
    "slideshow": {
     "slide_type": "fragment"
    }
   },
   "outputs": [
    {
     "data": {
      "text/plain": [
       "array([0, 1, 2, 3, 4, 5, 6, 7, 8, 9])"
      ]
     },
     "execution_count": 115,
     "metadata": {},
     "output_type": "execute_result"
    }
   ],
   "source": [
    "b = np.array([0,1,2,3,4,5,6,7,8,9])\n",
    "b"
   ]
  },
  {
   "cell_type": "markdown",
   "metadata": {
    "slideshow": {
     "slide_type": "subslide"
    }
   },
   "source": [
    "### Array properties"
   ]
  },
  {
   "cell_type": "markdown",
   "metadata": {
    "slideshow": {
     "slide_type": "fragment"
    }
   },
   "source": [
    "Arrays have a few key properties:\n",
    "\n",
    "- Data type (float, int, etc)\n",
    "- Number of dimensions\n",
    "- Shape and Size"
   ]
  },
  {
   "cell_type": "code",
   "execution_count": 116,
   "metadata": {
    "slideshow": {
     "slide_type": "fragment"
    }
   },
   "outputs": [
    {
     "name": "stdout",
     "output_type": "stream",
     "text": [
      "float64\n",
      "int64\n"
     ]
    }
   ],
   "source": [
    "print(a.dtype)\n",
    "print(b.dtype)"
   ]
  },
  {
   "cell_type": "code",
   "execution_count": 117,
   "metadata": {
    "slideshow": {
     "slide_type": "fragment"
    }
   },
   "outputs": [
    {
     "data": {
      "text/plain": [
       "(10,)"
      ]
     },
     "execution_count": 117,
     "metadata": {},
     "output_type": "execute_result"
    }
   ],
   "source": [
    "a.shape"
   ]
  },
  {
   "cell_type": "code",
   "execution_count": 118,
   "metadata": {
    "slideshow": {
     "slide_type": "fragment"
    }
   },
   "outputs": [
    {
     "data": {
      "text/plain": [
       "array([[0, 1, 2, 3],\n",
       "       [4, 5, 6, 7]])"
      ]
     },
     "execution_count": 118,
     "metadata": {},
     "output_type": "execute_result"
    }
   ],
   "source": [
    "c = np.array([[0,1,2,3],[4,5,6,7]])\n",
    "c"
   ]
  },
  {
   "cell_type": "markdown",
   "metadata": {
    "slideshow": {
     "slide_type": "subslide"
    }
   },
   "source": [
    "### Array operations\n",
    "\n",
    "We can also act on these arrays with specific operations:\n",
    "\n",
    "- add, subtract, multiply, and divide by scalars or other arrays"
   ]
  },
  {
   "cell_type": "code",
   "execution_count": 119,
   "metadata": {},
   "outputs": [
    {
     "data": {
      "text/plain": [
       "array([ 0,  4,  8, 12, 16, 20, 24, 28, 32, 36])"
      ]
     },
     "execution_count": 119,
     "metadata": {},
     "output_type": "execute_result"
    }
   ],
   "source": [
    "a = np.multiply(b, 4)\n",
    "a"
   ]
  },
  {
   "cell_type": "code",
   "execution_count": 120,
   "metadata": {
    "slideshow": {
     "slide_type": "fragment"
    }
   },
   "outputs": [
    {
     "data": {
      "text/plain": [
       "array([  0,   4,  16,  36,  64, 100, 144, 196, 256, 324])"
      ]
     },
     "execution_count": 120,
     "metadata": {},
     "output_type": "execute_result"
    }
   ],
   "source": [
    "np.multiply(a, b)"
   ]
  },
  {
   "cell_type": "markdown",
   "metadata": {
    "slideshow": {
     "slide_type": "fragment"
    }
   },
   "source": [
    "- extract statistics about the array (minimum, maximum, RMS, etc)"
   ]
  },
  {
   "cell_type": "code",
   "execution_count": 121,
   "metadata": {
    "slideshow": {
     "slide_type": "fragment"
    }
   },
   "outputs": [
    {
     "data": {
      "text/plain": [
       "9"
      ]
     },
     "execution_count": 121,
     "metadata": {},
     "output_type": "execute_result"
    }
   ],
   "source": [
    "np.max(b)"
   ]
  },
  {
   "cell_type": "code",
   "execution_count": 122,
   "metadata": {
    "slideshow": {
     "slide_type": "fragment"
    }
   },
   "outputs": [
    {
     "data": {
      "text/plain": [
       "18.0"
      ]
     },
     "execution_count": 122,
     "metadata": {},
     "output_type": "execute_result"
    }
   ],
   "source": [
    "np.mean(a)"
   ]
  },
  {
   "cell_type": "code",
   "execution_count": 123,
   "metadata": {
    "slideshow": {
     "slide_type": "fragment"
    }
   },
   "outputs": [
    {
     "data": {
      "text/plain": [
       "11.489125293076057"
      ]
     },
     "execution_count": 123,
     "metadata": {},
     "output_type": "execute_result"
    }
   ],
   "source": [
    "np.std(a)"
   ]
  },
  {
   "cell_type": "markdown",
   "metadata": {},
   "source": [
    "- sum array elements along an axis: "
   ]
  },
  {
   "cell_type": "code",
   "execution_count": 124,
   "metadata": {
    "slideshow": {
     "slide_type": "fragment"
    }
   },
   "outputs": [
    {
     "data": {
      "text/plain": [
       "array([ 4,  6,  8, 10])"
      ]
     },
     "execution_count": 124,
     "metadata": {},
     "output_type": "execute_result"
    }
   ],
   "source": [
    "np.sum(c, axis=0)"
   ]
  },
  {
   "cell_type": "markdown",
   "metadata": {
    "slideshow": {
     "slide_type": "subslide"
    }
   },
   "source": [
    "### Filter based on values \n",
    "\n",
    "Array elements can be selected based on their values (or values of different arrays)"
   ]
  },
  {
   "cell_type": "code",
   "execution_count": 125,
   "metadata": {},
   "outputs": [
    {
     "name": "stdout",
     "output_type": "stream",
     "text": [
      "[ 0  4  8 12 16 20 24 28 32 36]\n"
     ]
    }
   ],
   "source": [
    "print(a)"
   ]
  },
  {
   "cell_type": "code",
   "execution_count": 126,
   "metadata": {
    "slideshow": {
     "slide_type": "fragment"
    }
   },
   "outputs": [
    {
     "data": {
      "text/plain": [
       "array([False, False,  True,  True,  True,  True,  True,  True,  True,\n",
       "        True])"
      ]
     },
     "execution_count": 126,
     "metadata": {},
     "output_type": "execute_result"
    }
   ],
   "source": [
    "a > 5"
   ]
  },
  {
   "cell_type": "markdown",
   "metadata": {
    "slideshow": {
     "slide_type": "fragment"
    }
   },
   "source": [
    "This array of `True`/`False` values can then filter either `a` or other arrays:"
   ]
  },
  {
   "cell_type": "code",
   "execution_count": 127,
   "metadata": {
    "slideshow": {
     "slide_type": "fragment"
    }
   },
   "outputs": [
    {
     "data": {
      "text/plain": [
       "array([ 8, 12, 16, 20, 24, 28, 32, 36])"
      ]
     },
     "execution_count": 127,
     "metadata": {},
     "output_type": "execute_result"
    }
   ],
   "source": [
    "a[a > 5]"
   ]
  },
  {
   "cell_type": "code",
   "execution_count": 128,
   "metadata": {
    "slideshow": {
     "slide_type": "fragment"
    }
   },
   "outputs": [
    {
     "data": {
      "text/plain": [
       "array([2, 3, 4, 5, 6, 7, 8, 9])"
      ]
     },
     "execution_count": 128,
     "metadata": {},
     "output_type": "execute_result"
    }
   ],
   "source": [
    "b[a > 5]"
   ]
  },
  {
   "cell_type": "markdown",
   "metadata": {},
   "source": [
    "We will use this to filter some real data later in the tutorial."
   ]
  },
  {
   "cell_type": "markdown",
   "metadata": {
    "slideshow": {
     "slide_type": "subslide"
    }
   },
   "source": [
    "### Import and Export Arrays \n",
    "\n",
    "Numpy has two main ways of exporting and importing data:"
   ]
  },
  {
   "cell_type": "markdown",
   "metadata": {
    "slideshow": {
     "slide_type": "fragment"
    }
   },
   "source": [
    "- Saving human-readable text file with `np.savetxt`:"
   ]
  },
  {
   "cell_type": "code",
   "execution_count": 129,
   "metadata": {
    "slideshow": {
     "slide_type": "fragment"
    }
   },
   "outputs": [],
   "source": [
    "np.savetxt('test.txt', c, fmt='%f', delimiter=',', header='My favorite array')"
   ]
  },
  {
   "cell_type": "code",
   "execution_count": 130,
   "metadata": {
    "scrolled": true,
    "slideshow": {
     "slide_type": "fragment"
    }
   },
   "outputs": [
    {
     "name": "stdout",
     "output_type": "stream",
     "text": [
      "# My favorite array\n",
      "0.000000,1.000000,2.000000,3.000000\n",
      "4.000000,5.000000,6.000000,7.000000\n"
     ]
    }
   ],
   "source": [
    "cat test.txt"
   ]
  },
  {
   "cell_type": "markdown",
   "metadata": {
    "slideshow": {
     "slide_type": "fragment"
    }
   },
   "source": [
    "- faster, more efficient numpy binary data (`test.npy`):"
   ]
  },
  {
   "cell_type": "code",
   "execution_count": 131,
   "metadata": {
    "slideshow": {
     "slide_type": "fragment"
    }
   },
   "outputs": [],
   "source": [
    "np.save('test.npy', c)"
   ]
  },
  {
   "cell_type": "markdown",
   "metadata": {
    "slideshow": {
     "slide_type": "subslide"
    }
   },
   "source": [
    "- Reading text or binary data with `np.loadtxt` or `np.fromfile`"
   ]
  },
  {
   "cell_type": "code",
   "execution_count": 132,
   "metadata": {
    "slideshow": {
     "slide_type": "fragment"
    }
   },
   "outputs": [
    {
     "data": {
      "text/plain": [
       "array([[0., 1., 2., 3.],\n",
       "       [4., 5., 6., 7.]])"
      ]
     },
     "execution_count": 132,
     "metadata": {},
     "output_type": "execute_result"
    }
   ],
   "source": [
    "np.loadtxt('test.txt',delimiter=',')"
   ]
  },
  {
   "cell_type": "markdown",
   "metadata": {
    "slideshow": {
     "slide_type": "fragment"
    }
   },
   "source": [
    "- `Numpy` and `pandas` also provide a variety of tools to read specific data formats (csv, binary, etc.) "
   ]
  },
  {
   "cell_type": "markdown",
   "metadata": {
    "slideshow": {
     "slide_type": "slide"
    }
   },
   "source": [
    "## Random Number Generation with `numpy`\n",
    "\n",
    "Numpy has a full suite of tools for generating random numbers. Very helpful for Monte Carlo simulations or toy data.\n",
    "\n",
    "Here we will generate 100k random floats from a normal distribution with `mean = 2.0` and `sigma = 1.0`. "
   ]
  },
  {
   "cell_type": "code",
   "execution_count": 133,
   "metadata": {
    "slideshow": {
     "slide_type": "fragment"
    }
   },
   "outputs": [
    {
     "name": "stdout",
     "output_type": "stream",
     "text": [
      "[ 1.87257674  2.01018436  2.17298983  2.2213865   2.01537634  1.17042499\n",
      "  0.87623249 -0.20924695  2.94194271  1.58101212]\n"
     ]
    }
   ],
   "source": [
    "r = np.random.normal(loc=2, scale=1, size=100000)\n",
    "print(r[0:10])"
   ]
  },
  {
   "cell_type": "markdown",
   "metadata": {
    "slideshow": {
     "slide_type": "fragment"
    }
   },
   "source": [
    "We can randomly select elements from an array:"
   ]
  },
  {
   "cell_type": "code",
   "execution_count": 134,
   "metadata": {
    "slideshow": {
     "slide_type": "fragment"
    },
    "tags": []
   },
   "outputs": [
    {
     "data": {
      "text/plain": [
       "array([16, 16])"
      ]
     },
     "execution_count": 134,
     "metadata": {},
     "output_type": "execute_result"
    }
   ],
   "source": [
    "np.random.choice(a, size=2)"
   ]
  },
  {
   "cell_type": "markdown",
   "metadata": {
    "slideshow": {
     "slide_type": "fragment"
    },
    "tags": []
   },
   "source": [
    "All the \"heavy-lifting\" is done in `C`, so `numpy`-based work can be _very_ fast."
   ]
  },
  {
   "cell_type": "markdown",
   "metadata": {
    "slideshow": {
     "slide_type": "subslide"
    }
   },
   "source": [
    "### Random Number Example: Monte Carlo $\\pi$"
   ]
  },
  {
   "cell_type": "markdown",
   "metadata": {
    "slideshow": {
     "slide_type": "fragment"
    }
   },
   "source": [
    "We can perform a Monte Carlo-based simulation to calculate $\\pi$ using two uniform random number generators. "
   ]
  },
  {
   "cell_type": "code",
   "execution_count": 135,
   "metadata": {
    "slideshow": {
     "slide_type": "fragment"
    },
    "tags": []
   },
   "outputs": [],
   "source": [
    "def mc_pi(num_trials):\n",
    "    x = np.random.uniform(low=0.0, high=1.0, size=num_trials)\n",
    "    y = np.random.uniform(low=0.0, high=1.0, size=num_trials)\n",
    "\n",
    "    r = x**2 + y**2\n",
    "    \n",
    "    return len(r[r<1])*4/num_trials\n",
    "    "
   ]
  },
  {
   "cell_type": "code",
   "execution_count": 136,
   "metadata": {
    "slideshow": {
     "slide_type": "subslide"
    }
   },
   "outputs": [
    {
     "name": "stdout",
     "output_type": "stream",
     "text": [
      "10: 2.0\n",
      "100: 3.04\n",
      "1000: 3.18\n",
      "10000: 3.1288\n",
      "100000: 3.14428\n",
      "1000000: 3.139336\n",
      "10000000: 3.1420608\n"
     ]
    }
   ],
   "source": [
    "for n in [10,100,1000,10000,100000,1000000,10000000]:\n",
    "    print(f\"{n}: {mc_pi(n)}\")"
   ]
  },
  {
   "cell_type": "markdown",
   "metadata": {
    "slideshow": {
     "slide_type": "slide"
    }
   },
   "source": [
    "## Plotting with Matplotlib"
   ]
  },
  {
   "cell_type": "code",
   "execution_count": 137,
   "metadata": {
    "slideshow": {
     "slide_type": "fragment"
    },
    "tags": []
   },
   "outputs": [],
   "source": [
    "import matplotlib.pyplot as plt"
   ]
  },
  {
   "cell_type": "markdown",
   "metadata": {
    "slideshow": {
     "slide_type": "fragment"
    },
    "tags": []
   },
   "source": [
    "## Plotting with Matplotlib \n",
    "\n",
    "- Matplotlib is the back-bone of most python plotting and visualization\n",
    "- It's super flexible and produces both interactive and publication-ready plots\n",
    "- We'll touch on a few examples to demonstrate the versitility of this module"
   ]
  },
  {
   "cell_type": "markdown",
   "metadata": {
    "slideshow": {
     "slide_type": "slide"
    },
    "tags": []
   },
   "source": [
    "## Basic 2D Plot"
   ]
  },
  {
   "cell_type": "code",
   "execution_count": 138,
   "metadata": {
    "slideshow": {
     "slide_type": "fragment"
    },
    "tags": []
   },
   "outputs": [
    {
     "data": {
      "image/png": "[encoded data removed]",
      "text/plain": [
       "<Figure size 640x480 with 1 Axes>"
      ]
     },
     "metadata": {},
     "output_type": "display_data"
    }
   ],
   "source": [
    "x = np.array([0,1,2,3,4,5])\n",
    "y = np.power(x, 2)\n",
    "plt.plot(x, y, marker='o', color='k', label='Square');\n",
    "plt.xlabel('X-values');\n",
    "plt.ylabel('Y-values');\n",
    "plt.legend(loc=2);"
   ]
  },
  {
   "cell_type": "markdown",
   "metadata": {
    "slideshow": {
     "slide_type": "slide"
    },
    "tags": []
   },
   "source": [
    "## Scatter plot"
   ]
  },
  {
   "cell_type": "code",
   "execution_count": 139,
   "metadata": {
    "slideshow": {
     "slide_type": "fragment"
    },
    "tags": []
   },
   "outputs": [
    {
     "data": {
      "image/png": "[encoded data removed]",
      "text/plain": [
       "<Figure size 640x480 with 1 Axes>"
      ]
     },
     "metadata": {},
     "output_type": "display_data"
    }
   ],
   "source": [
    "x = np.array([0,2,4,6,8,10])\n",
    "y = np.power(x, 2)\n",
    "r = np.power(x, 3)\n",
    "plt.scatter(x, y, s=r)\n",
    "plt.xlabel('X-values'); plt.ylabel('Y-values');\n"
   ]
  },
  {
   "cell_type": "markdown",
   "metadata": {
    "slideshow": {
     "slide_type": "slide"
    },
    "tags": []
   },
   "source": [
    "## Visualizing Monte Carlo Pi"
   ]
  },
  {
   "cell_type": "markdown",
   "metadata": {
    "slideshow": {
     "slide_type": "subslide"
    },
    "tags": []
   },
   "source": [
    "Using our previously discussed Monte Carlo method for determining $\\pi$, we can visualize this procedure in a few different ways. \n",
    "\n",
    "First, we can make a scatter plot of one determination of Pi and show how the algorithm works. X and Y values are generated with a uniform random distribution and any which fall inside the shaded region (where `x^2 + y^2 <= 1`) are counted. "
   ]
  },
  {
   "cell_type": "code",
   "execution_count": 140,
   "metadata": {
    "slideshow": {
     "slide_type": "subslide"
    },
    "tags": []
   },
   "outputs": [
    {
     "data": {
      "text/plain": [
       "(0.0, 1.0)"
      ]
     },
     "execution_count": 140,
     "metadata": {},
     "output_type": "execute_result"
    },
    {
     "data": {
      "image/png": "[encoded data removed]",
      "text/plain": [
       "<Figure size 500x500 with 1 Axes>"
      ]
     },
     "metadata": {},
     "output_type": "display_data"
    }
   ],
   "source": [
    "plt.figure(figsize=(5,5))\n",
    "ax = plt.gca()\n",
    "circle = plt.Circle((0,0), radius=1, color='C4', alpha=0.3)\n",
    "\n",
    "num_trials = 1000\n",
    "x = np.random.uniform(low=0.0, high=1.0, size=num_trials)\n",
    "y = np.random.uniform(low=0.0, high=1.0, size=num_trials)\n",
    "\n",
    "plt.scatter(x,y,marker='.')\n",
    "ax.add_patch(circle)\n",
    "plt.ylim(0,1)\n",
    "plt.xlim(0,1)\n"
   ]
  },
  {
   "cell_type": "markdown",
   "metadata": {
    "slideshow": {
     "slide_type": "subslide"
    }
   },
   "source": [
    "Next, we can plot the evolution of our MC-generated value of $\\pi$ as we increase the number of samples:"
   ]
  },
  {
   "cell_type": "code",
   "execution_count": 141,
   "metadata": {
    "slideshow": {
     "slide_type": "fragment"
    },
    "tags": []
   },
   "outputs": [
    {
     "data": {
      "text/plain": [
       "Text(0, 0.5, 'Simulated Value of Pi')"
      ]
     },
     "execution_count": 141,
     "metadata": {},
     "output_type": "execute_result"
    },
    {
     "data": {
      "image/png": "[encoded data removed]",
      "text/plain": [
       "<Figure size 640x480 with 1 Axes>"
      ]
     },
     "metadata": {},
     "output_type": "display_data"
    }
   ],
   "source": [
    "mc_pi_samples = np.logspace(start=1, stop=6, num=100, dtype='int')\n",
    "mc_pi_values = [mc_pi(x) for x in mc_pi_samples]\n",
    "\n",
    "plt.plot(mc_pi_samples, mc_pi_values, marker='o', linestyle='None', label='Monte Carlo')\n",
    "plt.ylim(np.pi-1,np.pi+1)\n",
    "plt.hlines(np.pi, xmin=0,xmax=np.max(mc_pi_samples), color='k', linestyle='--', label='Pi')\n",
    "plt.xscale('log');\n",
    "plt.legend()\n",
    "plt.xlabel('MC Samples');\n",
    "plt.ylabel('Simulated Value of Pi')"
   ]
  },
  {
   "cell_type": "markdown",
   "metadata": {
    "slideshow": {
     "slide_type": "slide"
    }
   },
   "source": [
    "## Histograms "
   ]
  },
  {
   "cell_type": "markdown",
   "metadata": {
    "slideshow": {
     "slide_type": "subslide"
    },
    "tags": []
   },
   "source": [
    "Combining `numpy` and `matplotlib` we can begin to generate some of the key plots that are used to display data. One of the most common types of data visualizations are histograms. "
   ]
  },
  {
   "cell_type": "markdown",
   "metadata": {
    "slideshow": {
     "slide_type": "subslide"
    },
    "tags": []
   },
   "source": [
    "To get started, let's generate some random data using `numpy.random`:"
   ]
  },
  {
   "cell_type": "code",
   "execution_count": 142,
   "metadata": {
    "tags": []
   },
   "outputs": [],
   "source": [
    "a = np.random.uniform(low=0, high=10, size=100000)\n",
    "b = np.random.exponential(scale=1, size=100000)"
   ]
  },
  {
   "cell_type": "markdown",
   "metadata": {
    "slideshow": {
     "slide_type": "subslide"
    }
   },
   "source": [
    "Now we can create a histogram (tabulation of values into discrete bins)"
   ]
  },
  {
   "cell_type": "code",
   "execution_count": 143,
   "metadata": {},
   "outputs": [],
   "source": [
    "h, bins = np.histogram(a, bins=20, range=(0,10))"
   ]
  },
  {
   "cell_type": "markdown",
   "metadata": {
    "slideshow": {
     "slide_type": "subslide"
    },
    "tags": []
   },
   "source": [
    "and plot the distributions using `matplotlib`:"
   ]
  },
  {
   "cell_type": "code",
   "execution_count": 144,
   "metadata": {
    "slideshow": {
     "slide_type": "subslide"
    },
    "tags": []
   },
   "outputs": [
    {
     "data": {
      "text/plain": [
       "<matplotlib.legend.Legend at 0xffff5ca663e0>"
      ]
     },
     "execution_count": 144,
     "metadata": {},
     "output_type": "execute_result"
    },
    {
     "data": {
      "image/png": "[encoded data removed]",
      "text/plain": [
       "<Figure size 640x480 with 1 Axes>"
      ]
     },
     "metadata": {},
     "output_type": "display_data"
    }
   ],
   "source": [
    "plt.stairs(h, bins, label='Data')\n",
    "plt.hlines(h.mean(), xmin=-0.25,xmax=10.25,linestyles='--', color='k', alpha=0.5, label='Average')\n",
    "plt.xlabel('Value'); plt.ylabel('Counts/bin')\n",
    "plt.legend(loc=3)"
   ]
  },
  {
   "cell_type": "markdown",
   "metadata": {
    "slideshow": {
     "slide_type": "subslide"
    }
   },
   "source": [
    "We can do the same to plot our exponential distribution of data, but this time we can set the y-scale to be `log` to better highlight the distribution:"
   ]
  },
  {
   "cell_type": "code",
   "execution_count": 145,
   "metadata": {
    "slideshow": {
     "slide_type": "subslide"
    },
    "tags": []
   },
   "outputs": [
    {
     "data": {
      "text/plain": [
       "<matplotlib.legend.Legend at 0xffff5d46d900>"
      ]
     },
     "execution_count": 145,
     "metadata": {},
     "output_type": "execute_result"
    },
    {
     "data": {
      "image/png": "[encoded data removed]",
      "text/plain": [
       "<Figure size 640x480 with 1 Axes>"
      ]
     },
     "metadata": {},
     "output_type": "display_data"
    }
   ],
   "source": [
    "h, bins = np.histogram(b, bins=20, range=(0,10))\n",
    "plt.stairs(h, bins, label='Data')\n",
    "plt.xlabel('Value'); plt.ylabel('Counts/bin'); plt.yscale('log')\n",
    "plt.legend(loc=0)"
   ]
  },
  {
   "cell_type": "markdown",
   "metadata": {
    "slideshow": {
     "slide_type": "slide"
    }
   },
   "source": [
    "## Data Processing with `Numpy`"
   ]
  },
  {
   "cell_type": "markdown",
   "metadata": {
    "slideshow": {
     "slide_type": "subslide"
    },
    "tags": []
   },
   "source": [
    "Now that we have a basic familiarity with `numpy`, we will attempt to process some low-level data produced by a PMT connected to a scintillator cell."
   ]
  },
  {
   "cell_type": "markdown",
   "metadata": {
    "slideshow": {
     "slide_type": "subslide"
    },
    "tags": []
   },
   "source": [
    "A few key details about the data file:\n",
    "- Recorded by a digitizer (similar to an oscilloscope, records triggered waveforms)\n",
    "- 2-character unsigned binary data\n",
    "- Each trigger window is 300 samples long\n",
    "- Each trigger has a 4 long-word header containing information about the event:\n",
    "  Trigger Event Size + Check Bit, Channel, Trigger, Timestamp"
   ]
  },
  {
   "cell_type": "markdown",
   "metadata": {
    "slideshow": {
     "slide_type": "subslide"
    },
    "tags": []
   },
   "source": [
    "Set the path to the data file and specify the trigger event properties."
   ]
  },
  {
   "cell_type": "code",
   "execution_count": 146,
   "metadata": {
    "tags": []
   },
   "outputs": [],
   "source": [
    "from pathlib import Path\n",
    "\n",
    "data_file = '180822-EJ309-1700V-Cf252.dat'\n",
    "\n",
    "HEADER_SIZE = 4\n",
    "WINDOW_SIZE = 300\n",
    "\n",
    "data_file_path = Path.cwd().parent.joinpath('data', data_file)"
   ]
  },
  {
   "cell_type": "markdown",
   "metadata": {
    "slideshow": {
     "slide_type": "subslide"
    },
    "tags": []
   },
   "source": [
    "Get header from the beginning of the file and first event trace."
   ]
  },
  {
   "cell_type": "code",
   "execution_count": 147,
   "metadata": {
    "tags": []
   },
   "outputs": [],
   "source": [
    "header = np.fromfile(data_file_path, dtype=np.uint32,\n",
    "                     count=HEADER_SIZE)\n",
    "\n",
    "# Since each header item is 1 long-word (4 bytes)\n",
    "# The data for 1st event begins 4 * HEADER_SIZE from the beginning of file\n",
    "trace = np.fromfile(data_file_path, dtype=np.uint16,\n",
    "                    count=WINDOW_SIZE, offset=HEADER_SIZE*4)"
   ]
  },
  {
   "cell_type": "markdown",
   "metadata": {
    "slideshow": {
     "slide_type": "subslide"
    },
    "tags": []
   },
   "source": [
    "Plot the first trigger event trace."
   ]
  },
  {
   "cell_type": "code",
   "execution_count": 148,
   "metadata": {
    "slideshow": {
     "slide_type": "fragment"
    },
    "tags": []
   },
   "outputs": [
    {
     "data": {
      "image/png": "[encoded data removed]",
      "text/plain": [
       "<Figure size 640x480 with 1 Axes>"
      ]
     },
     "metadata": {},
     "output_type": "display_data"
    }
   ],
   "source": [
    "plt.title(f\"Channel: {header[1]}, Trigger: {header[2]}, TimeStamp: {header[3]}\")\n",
    "plt.plot(trace)\n",
    "plt.xlabel('Samples');plt.ylabel('ADC');"
   ]
  },
  {
   "cell_type": "markdown",
   "metadata": {
    "slideshow": {
     "slide_type": "subslide"
    },
    "tags": []
   },
   "source": [
    "Remove baseline counts"
   ]
  },
  {
   "cell_type": "code",
   "execution_count": 149,
   "metadata": {
    "slideshow": {
     "slide_type": "fragment"
    },
    "tags": []
   },
   "outputs": [
    {
     "data": {
      "image/png": "[encoded data removed]",
      "text/plain": [
       "<Figure size 640x480 with 1 Axes>"
      ]
     },
     "metadata": {},
     "output_type": "display_data"
    }
   ],
   "source": [
    "plt.title(f\"Channel: {header[1]}, Trigger: {header[2]}, TimeStamp: {header[3]}\")\n",
    "plt.plot(trace)\n",
    "plt.axvspan(xmin=0,xmax=50, color='C2',alpha=0.2)\n",
    "plt.axvspan(xmin=50,xmax=300, color='C3',alpha=0.2)\n",
    "plt.xlabel('Samples'); plt.ylabel('ADC');"
   ]
  },
  {
   "cell_type": "markdown",
   "metadata": {
    "slideshow": {
     "slide_type": "subslide"
    },
    "tags": []
   },
   "source": [
    "Calculate the baseline from the average of the first 51 samples."
   ]
  },
  {
   "cell_type": "code",
   "execution_count": 150,
   "metadata": {
    "tags": []
   },
   "outputs": [
    {
     "name": "stdout",
     "output_type": "stream",
     "text": [
      "baseline: 14614.12ADC\n"
     ]
    }
   ],
   "source": [
    "baseline = np.average(trace[0:50])\n",
    "print(f\"baseline: {baseline:0.2f}ADC\")"
   ]
  },
  {
   "cell_type": "markdown",
   "metadata": {
    "tags": []
   },
   "source": [
    "Subtract the baseline value from all the elments of the `trace` array."
   ]
  },
  {
   "cell_type": "code",
   "execution_count": 151,
   "metadata": {},
   "outputs": [],
   "source": [
    "trace = np.subtract(trace, baseline)"
   ]
  },
  {
   "cell_type": "code",
   "execution_count": 152,
   "metadata": {
    "slideshow": {
     "slide_type": "subslide"
    },
    "tags": []
   },
   "outputs": [
    {
     "data": {
      "image/png": "[encoded data removed]",
      "text/plain": [
       "<Figure size 640x480 with 1 Axes>"
      ]
     },
     "metadata": {},
     "output_type": "display_data"
    }
   ],
   "source": [
    "plt.title(f\"Channel: {header[1]}, Trigger: {header[2]}, TimeStamp: {header[3]}\")\n",
    "plt.plot(trace)\n",
    "plt.axvspan(xmin=0,xmax=50, color='C2',alpha=0.2)\n",
    "plt.axvspan(xmin=50,xmax=300, color='C3',alpha=0.2)\n",
    "plt.xlabel('Samples');plt.ylabel('ADC');"
   ]
  },
  {
   "cell_type": "markdown",
   "metadata": {
    "slideshow": {
     "slide_type": "subslide"
    },
    "tags": []
   },
   "source": [
    "Calculate the signal integral for the trigger event."
   ]
  },
  {
   "cell_type": "code",
   "execution_count": 153,
   "metadata": {
    "tags": []
   },
   "outputs": [
    {
     "name": "stdout",
     "output_type": "stream",
     "text": [
      "signal integral: 913.00ADC counts\n"
     ]
    }
   ],
   "source": [
    "sig_int = -np.sum(trace)\n",
    "print(f\"signal integral: {sig_int:.2f}ADC counts\")"
   ]
  },
  {
   "cell_type": "markdown",
   "metadata": {
    "slideshow": {
     "slide_type": "subslide"
    }
   },
   "source": [
    "### Analysis Function"
   ]
  },
  {
   "cell_type": "code",
   "execution_count": 154,
   "metadata": {
    "slideshow": {
     "slide_type": "subslide"
    },
    "tags": []
   },
   "outputs": [],
   "source": [
    "def data_reader(file_path, header_size=4, window_size=300, num_ev=10000):\n",
    "\n",
    "    with file_path.open(mode='r') as d:\n",
    "        # define data structure\n",
    "        dtype = [('time_stamp','f4'), ('en','f4'), ('psd', 'f4')]\n",
    "        data = np.zeros(shape=num_ev, dtype=dtype)\n",
    "        \n",
    "        for i in range(num_ev):\n",
    "            header = np.fromfile(d, dtype=np.uint32, count=header_size)            \n",
    "            data['time_stamp'][i] = header[3]\n",
    "            trace = np.fromfile(d, dtype=np.uint16, count=window_size)\n",
    "            \n",
    "            # Average the first 30 samples to determine what \"zero\" is\n",
    "            bl = np.average(trace[0:30])\n",
    "\n",
    "            # Subtract off the baseline \n",
    "            trace = np.subtract(trace, bl)\n",
    "\n",
    "            # find the minimum of the pulse\n",
    "            peak_loc = np.argmin(trace)\n",
    "            \n",
    "            # Integrate the full pulse\n",
    "            data['en'][i] = -np.sum(trace[peak_loc-30:peak_loc+100])\n",
    "            \n",
    "            # Integrate the tail of the pulse, then take the ratio to the full\n",
    "            data['psd'][i] = -np.sum(trace[peak_loc+10:peak_loc+100])\n",
    "            data['psd'][i] /= data['en'][i]\n",
    "            \n",
    "    return data"
   ]
  },
  {
   "cell_type": "code",
   "execution_count": 155,
   "metadata": {
    "slideshow": {
     "slide_type": "fragment"
    }
   },
   "outputs": [
    {
     "name": "stderr",
     "output_type": "stream",
     "text": [
      "/tmp/ipykernel_62/2814272060.py:27: RuntimeWarning: divide by zero encountered in float_scalars\n",
      "  data['psd'][i] /= data['en'][i]\n"
     ]
    }
   ],
   "source": [
    "data = data_reader(data_file_path,\n",
    "                   header_size=HEADER_SIZE,\n",
    "                   window_size=WINDOW_SIZE,\n",
    "                   num_ev=50000)"
   ]
  },
  {
   "cell_type": "code",
   "execution_count": 156,
   "metadata": {
    "slideshow": {
     "slide_type": "skip"
    }
   },
   "outputs": [],
   "source": [
    "from matplotlib.colors import LogNorm"
   ]
  },
  {
   "cell_type": "code",
   "execution_count": 157,
   "metadata": {
    "slideshow": {
     "slide_type": "subslide"
    }
   },
   "outputs": [
    {
     "data": {
      "image/png": "[encoded data removed]",
      "text/plain": [
       "<Figure size 640x480 with 1 Axes>"
      ]
     },
     "metadata": {},
     "output_type": "display_data"
    }
   ],
   "source": [
    "plt.plot(data['time_stamp'][0:1000], marker=',')\n",
    "plt.xlabel('Event Counter');\n",
    "plt.ylabel('Time Stamp');"
   ]
  },
  {
   "cell_type": "code",
   "execution_count": 158,
   "metadata": {
    "slideshow": {
     "slide_type": "subslide"
    }
   },
   "outputs": [
    {
     "data": {
      "image/png": "[encoded data removed]",
      "text/plain": [
       "<Figure size 640x480 with 1 Axes>"
      ]
     },
     "metadata": {},
     "output_type": "display_data"
    }
   ],
   "source": [
    "h, bins = np.histogram(data['en'], bins=200, range=(0,100000))\n",
    "\n",
    "plt.stairs(h, bins)\n",
    "plt.yscale('log');\n",
    "plt.xlabel('Pulse Integral (ADC)');\n",
    "plt.ylabel('Counts/bin');"
   ]
  },
  {
   "cell_type": "code",
   "execution_count": 159,
   "metadata": {
    "slideshow": {
     "slide_type": "subslide"
    }
   },
   "outputs": [
    {
     "data": {
      "image/png": "[encoded data removed]",
      "text/plain": [
       "<Figure size 640x480 with 1 Axes>"
      ]
     },
     "metadata": {},
     "output_type": "display_data"
    }
   ],
   "source": [
    "plt.hist2d(data['en'], data['psd'], bins=50, range=((0,50000),(0,0.5)), norm=LogNorm());\n",
    "plt.xlabel('Pulse Integral (ADC)');\n",
    "plt.ylabel('Tail-fraction (%)');"
   ]
  },
  {
   "cell_type": "code",
   "execution_count": 160,
   "metadata": {
    "slideshow": {
     "slide_type": "subslide"
    }
   },
   "outputs": [
    {
     "data": {
      "image/png": "[encoded data removed]",
      "text/plain": [
       "<Figure size 640x480 with 1 Axes>"
      ]
     },
     "metadata": {},
     "output_type": "display_data"
    }
   ],
   "source": [
    "filter = data['en']>15000\n",
    "h, bins = np.histogram(data['psd'][filter], bins=200, range=(0,0.5))\n",
    "plt.stairs(h, bins, label='high-energy');\n",
    "\n",
    "filter = data['en']<15000\n",
    "h, bins = np.histogram(data['psd'][filter], bins=200, range=(0,0.5))\n",
    "plt.stairs(h, bins, label='low-energy');\n",
    "\n",
    "plt.xlabel('Tail-fraction (%)');plt.ylabel('Counts/bin'); plt.legend();"
   ]
  },
  {
   "cell_type": "markdown",
   "metadata": {
    "slideshow": {
     "slide_type": "slide"
    },
    "tags": []
   },
   "source": [
    "## Aside: Data Preparation with `Pandas`"
   ]
  },
  {
   "cell_type": "markdown",
   "metadata": {
    "slideshow": {
     "slide_type": "subslide"
    },
    "tags": []
   },
   "source": [
    "The `pandas` library builds on top of `numpy`. It excels at processing tabular data of heterogenous types."
   ]
  },
  {
   "cell_type": "markdown",
   "metadata": {
    "slideshow": {
     "slide_type": "subslide"
    },
    "tags": []
   },
   "source": [
    "This example deals with an Excel worksheet used to track project activities.\n",
    "- It uses multiple rows to denote column headings.\n",
    "- It comprises columns of data type `string` and `float`.\n",
    "- The data must be prepared so that it maps cleanly to the fields of a relational database."
   ]
  },
  {
   "cell_type": "markdown",
   "metadata": {
    "slideshow": {
     "slide_type": "subslide"
    },
    "tags": []
   },
   "source": [
    "Load the necessary modules"
   ]
  },
  {
   "cell_type": "code",
   "execution_count": 161,
   "metadata": {
    "tags": []
   },
   "outputs": [],
   "source": [
    "import numpy as np\n",
    "import pandas as pd\n",
    "from pathlib import Path"
   ]
  },
  {
   "cell_type": "markdown",
   "metadata": {
    "slideshow": {
     "slide_type": "subslide"
    },
    "tags": []
   },
   "source": [
    "Load the Excel worksheet into a data frame"
   ]
  },
  {
   "cell_type": "code",
   "execution_count": 162,
   "metadata": {},
   "outputs": [],
   "source": [
    "data_file = '02-VA BMTv3 20220225.xlsx'\n",
    "worksheet_name = 'OUTPUT'\n",
    "\n",
    "data_file_path = Path.cwd().parent.joinpath('data', data_file)\n",
    "df = pd.read_excel(data_file_path, sheet_name=worksheet_name, header=[0, 1, 2])"
   ]
  },
  {
   "cell_type": "code",
   "execution_count": 163,
   "metadata": {
    "slideshow": {
     "slide_type": "subslide"
    },
    "tags": []
   },
   "outputs": [
    {
     "data": {
      "text/html": [
       "<div>\n",
       "<style scoped>\n",
       "    .dataframe tbody tr th:only-of-type {\n",
       "        vertical-align: middle;\n",
       "    }\n",
       "\n",
       "    .dataframe tbody tr th {\n",
       "        vertical-align: top;\n",
       "    }\n",
       "\n",
       "    .dataframe thead tr th {\n",
       "        text-align: left;\n",
       "    }\n",
       "</style>\n",
       "<table border=\"1\" class=\"dataframe\">\n",
       "  <thead>\n",
       "    <tr>\n",
       "      <th></th>\n",
       "      <th>INDEX VALUE</th>\n",
       "      <th>Priority</th>\n",
       "      <th>Team</th>\n",
       "      <th>Project Mgr.</th>\n",
       "      <th>Building Code</th>\n",
       "      <th>Building ID</th>\n",
       "      <th>Building Description</th>\n",
       "      <th>Cluster #</th>\n",
       "      <th># closets</th>\n",
       "      <th>Legacy Switch Count</th>\n",
       "      <th>...</th>\n",
       "      <th colspan=\"10\" halign=\"left\">Building Transitions                                                                                                                                                         Building Transitions</th>\n",
       "    </tr>\n",
       "    <tr>\n",
       "      <th></th>\n",
       "      <th>Unnamed: 0_level_1</th>\n",
       "      <th>Unnamed: 1_level_1</th>\n",
       "      <th>Unnamed: 2_level_1</th>\n",
       "      <th>Unnamed: 3_level_1</th>\n",
       "      <th>Unnamed: 4_level_1</th>\n",
       "      <th>Unnamed: 5_level_1</th>\n",
       "      <th>Unnamed: 6_level_1</th>\n",
       "      <th>Unnamed: 7_level_1</th>\n",
       "      <th>Unnamed: 8_level_1</th>\n",
       "      <th>Unnamed: 9_level_1</th>\n",
       "      <th>...</th>\n",
       "      <th>Healthcare_VN</th>\n",
       "      <th>Voice_VN</th>\n",
       "      <th>PCI_VN</th>\n",
       "      <th>Building Communication Wired</th>\n",
       "      <th>Full Building Wired Network Services Cutover to NGN</th>\n",
       "      <th>Building Comms Wireless</th>\n",
       "      <th>Wireless Cutover to NGN</th>\n",
       "      <th>Legacy Cable &amp; Equipment Removal</th>\n",
       "      <th>Building Comms Completion</th>\n",
       "      <th>Lessons Learned</th>\n",
       "    </tr>\n",
       "    <tr>\n",
       "      <th></th>\n",
       "      <th>Unnamed: 0_level_2</th>\n",
       "      <th>Unnamed: 1_level_2</th>\n",
       "      <th>Unnamed: 2_level_2</th>\n",
       "      <th>Unnamed: 3_level_2</th>\n",
       "      <th>Unnamed: 4_level_2</th>\n",
       "      <th>Unnamed: 5_level_2</th>\n",
       "      <th>Unnamed: 6_level_2</th>\n",
       "      <th>Unnamed: 7_level_2</th>\n",
       "      <th>Unnamed: 8_level_2</th>\n",
       "      <th>Unnamed: 9_level_2</th>\n",
       "      <th>...</th>\n",
       "      <th>33</th>\n",
       "      <th>34</th>\n",
       "      <th>35</th>\n",
       "      <th>36</th>\n",
       "      <th>37</th>\n",
       "      <th>38</th>\n",
       "      <th>39</th>\n",
       "      <th>40</th>\n",
       "      <th>41</th>\n",
       "      <th>42</th>\n",
       "    </tr>\n",
       "  </thead>\n",
       "  <tbody>\n",
       "    <tr>\n",
       "      <th>0</th>\n",
       "      <td>1.0</td>\n",
       "      <td>1.0</td>\n",
       "      <td>NaN</td>\n",
       "      <td>NaN</td>\n",
       "      <td>VAMC-01</td>\n",
       "      <td>4160</td>\n",
       "      <td>VA MEDICAL CTR BLDG 01</td>\n",
       "      <td>C02-02 MDF</td>\n",
       "      <td>9</td>\n",
       "      <td>NaN</td>\n",
       "      <td>...</td>\n",
       "      <td>0.0</td>\n",
       "      <td>0.0</td>\n",
       "      <td>0.0</td>\n",
       "      <td>0.0</td>\n",
       "      <td>0.0</td>\n",
       "      <td>0.0</td>\n",
       "      <td>0.0</td>\n",
       "      <td>0.0</td>\n",
       "      <td>0.0</td>\n",
       "      <td>0.0</td>\n",
       "    </tr>\n",
       "    <tr>\n",
       "      <th>1</th>\n",
       "      <td>2.0</td>\n",
       "      <td>2.0</td>\n",
       "      <td>NaN</td>\n",
       "      <td>NaN</td>\n",
       "      <td>VAMC-02</td>\n",
       "      <td>4161</td>\n",
       "      <td>VA MEDICAL CTR BLDG 02</td>\n",
       "      <td>C02-02</td>\n",
       "      <td>4</td>\n",
       "      <td>NaN</td>\n",
       "      <td>...</td>\n",
       "      <td>0.0</td>\n",
       "      <td>0.0</td>\n",
       "      <td>0.0</td>\n",
       "      <td>0.0</td>\n",
       "      <td>0.0</td>\n",
       "      <td>0.0</td>\n",
       "      <td>0.0</td>\n",
       "      <td>0.0</td>\n",
       "      <td>0.0</td>\n",
       "      <td>0.0</td>\n",
       "    </tr>\n",
       "    <tr>\n",
       "      <th>2</th>\n",
       "      <td>3.0</td>\n",
       "      <td>3.0</td>\n",
       "      <td>NaN</td>\n",
       "      <td>NaN</td>\n",
       "      <td>VAMC-03</td>\n",
       "      <td>41??</td>\n",
       "      <td>VA MEDICAL CTR BLDG 03</td>\n",
       "      <td>C02-01</td>\n",
       "      <td>1</td>\n",
       "      <td>NaN</td>\n",
       "      <td>...</td>\n",
       "      <td>0.0</td>\n",
       "      <td>0.0</td>\n",
       "      <td>0.0</td>\n",
       "      <td>0.0</td>\n",
       "      <td>0.0</td>\n",
       "      <td>0.0</td>\n",
       "      <td>0.0</td>\n",
       "      <td>0.0</td>\n",
       "      <td>0.0</td>\n",
       "      <td>0.0</td>\n",
       "    </tr>\n",
       "    <tr>\n",
       "      <th>3</th>\n",
       "      <td>4.0</td>\n",
       "      <td>4.0</td>\n",
       "      <td>NaN</td>\n",
       "      <td>NaN</td>\n",
       "      <td>VAMC-04</td>\n",
       "      <td>4162</td>\n",
       "      <td>VA MEDICAL CTR BLDG 04</td>\n",
       "      <td>C02-01</td>\n",
       "      <td>1</td>\n",
       "      <td>NaN</td>\n",
       "      <td>...</td>\n",
       "      <td>0.0</td>\n",
       "      <td>0.0</td>\n",
       "      <td>0.0</td>\n",
       "      <td>0.0</td>\n",
       "      <td>0.0</td>\n",
       "      <td>0.0</td>\n",
       "      <td>0.0</td>\n",
       "      <td>0.0</td>\n",
       "      <td>0.0</td>\n",
       "      <td>0.0</td>\n",
       "    </tr>\n",
       "    <tr>\n",
       "      <th>4</th>\n",
       "      <td>5.0</td>\n",
       "      <td>5.0</td>\n",
       "      <td>NaN</td>\n",
       "      <td>NaN</td>\n",
       "      <td>VAMC-05</td>\n",
       "      <td>4164</td>\n",
       "      <td>VA MEDICAL CTR BLDG 05</td>\n",
       "      <td>C02-01 MDF</td>\n",
       "      <td>4</td>\n",
       "      <td>NaN</td>\n",
       "      <td>...</td>\n",
       "      <td>0.0</td>\n",
       "      <td>0.0</td>\n",
       "      <td>0.0</td>\n",
       "      <td>0.0</td>\n",
       "      <td>0.0</td>\n",
       "      <td>0.0</td>\n",
       "      <td>0.0</td>\n",
       "      <td>0.0</td>\n",
       "      <td>0.0</td>\n",
       "      <td>0.0</td>\n",
       "    </tr>\n",
       "    <tr>\n",
       "      <th>5</th>\n",
       "      <td>6.0</td>\n",
       "      <td>6.0</td>\n",
       "      <td>NaN</td>\n",
       "      <td>NaN</td>\n",
       "      <td>VAMC-08</td>\n",
       "      <td>41??</td>\n",
       "      <td>VA MEDICAL CTR BLDG 08</td>\n",
       "      <td>C02-01</td>\n",
       "      <td>1</td>\n",
       "      <td>NaN</td>\n",
       "      <td>...</td>\n",
       "      <td>0.0</td>\n",
       "      <td>0.0</td>\n",
       "      <td>0.0</td>\n",
       "      <td>0.0</td>\n",
       "      <td>0.0</td>\n",
       "      <td>0.0</td>\n",
       "      <td>0.0</td>\n",
       "      <td>0.0</td>\n",
       "      <td>0.0</td>\n",
       "      <td>0.0</td>\n",
       "    </tr>\n",
       "    <tr>\n",
       "      <th>6</th>\n",
       "      <td>7.0</td>\n",
       "      <td>7.0</td>\n",
       "      <td>NaN</td>\n",
       "      <td>NaN</td>\n",
       "      <td>VAMC-08.5</td>\n",
       "      <td>41??</td>\n",
       "      <td>VA MEDICAL CTR BLDG 08.5</td>\n",
       "      <td>C02-01</td>\n",
       "      <td>1</td>\n",
       "      <td>NaN</td>\n",
       "      <td>...</td>\n",
       "      <td>0.0</td>\n",
       "      <td>0.0</td>\n",
       "      <td>0.0</td>\n",
       "      <td>0.0</td>\n",
       "      <td>0.0</td>\n",
       "      <td>0.0</td>\n",
       "      <td>0.0</td>\n",
       "      <td>0.0</td>\n",
       "      <td>0.0</td>\n",
       "      <td>0.0</td>\n",
       "    </tr>\n",
       "    <tr>\n",
       "      <th>7</th>\n",
       "      <td>8.0</td>\n",
       "      <td>8.0</td>\n",
       "      <td>NaN</td>\n",
       "      <td>NaN</td>\n",
       "      <td>VAMC-12A</td>\n",
       "      <td>41??</td>\n",
       "      <td>VA MEDICAL CTR BLDG 12A</td>\n",
       "      <td>C02-01</td>\n",
       "      <td>1</td>\n",
       "      <td>NaN</td>\n",
       "      <td>...</td>\n",
       "      <td>0.0</td>\n",
       "      <td>0.0</td>\n",
       "      <td>0.0</td>\n",
       "      <td>0.0</td>\n",
       "      <td>0.0</td>\n",
       "      <td>0.0</td>\n",
       "      <td>0.0</td>\n",
       "      <td>0.0</td>\n",
       "      <td>0.0</td>\n",
       "      <td>0.0</td>\n",
       "    </tr>\n",
       "    <tr>\n",
       "      <th>8</th>\n",
       "      <td>9.0</td>\n",
       "      <td>9.0</td>\n",
       "      <td>NaN</td>\n",
       "      <td>NaN</td>\n",
       "      <td>VAMC-34</td>\n",
       "      <td>4020</td>\n",
       "      <td>VA MEDICAL CTR BLDG 34</td>\n",
       "      <td>C02-01</td>\n",
       "      <td>1</td>\n",
       "      <td>NaN</td>\n",
       "      <td>...</td>\n",
       "      <td>0.0</td>\n",
       "      <td>0.0</td>\n",
       "      <td>0.0</td>\n",
       "      <td>0.0</td>\n",
       "      <td>0.0</td>\n",
       "      <td>0.0</td>\n",
       "      <td>0.0</td>\n",
       "      <td>0.0</td>\n",
       "      <td>0.0</td>\n",
       "      <td>0.0</td>\n",
       "    </tr>\n",
       "    <tr>\n",
       "      <th>9</th>\n",
       "      <td>10.0</td>\n",
       "      <td>10.0</td>\n",
       "      <td>NaN</td>\n",
       "      <td>NaN</td>\n",
       "      <td>VAMC-35</td>\n",
       "      <td>41??</td>\n",
       "      <td>VA MEDICAL CTR BLDG 35</td>\n",
       "      <td>C02-01</td>\n",
       "      <td>2</td>\n",
       "      <td>NaN</td>\n",
       "      <td>...</td>\n",
       "      <td>0.0</td>\n",
       "      <td>0.0</td>\n",
       "      <td>0.0</td>\n",
       "      <td>0.0</td>\n",
       "      <td>0.0</td>\n",
       "      <td>0.0</td>\n",
       "      <td>0.0</td>\n",
       "      <td>0.0</td>\n",
       "      <td>0.0</td>\n",
       "      <td>0.0</td>\n",
       "    </tr>\n",
       "    <tr>\n",
       "      <th>10</th>\n",
       "      <td>11.0</td>\n",
       "      <td>11.0</td>\n",
       "      <td>NaN</td>\n",
       "      <td>NaN</td>\n",
       "      <td>VAMC-35A</td>\n",
       "      <td>4165</td>\n",
       "      <td>VA MEDICAL CTR BLDG 35A</td>\n",
       "      <td>C02-01</td>\n",
       "      <td>2</td>\n",
       "      <td>NaN</td>\n",
       "      <td>...</td>\n",
       "      <td>0.0</td>\n",
       "      <td>0.0</td>\n",
       "      <td>0.0</td>\n",
       "      <td>0.0</td>\n",
       "      <td>0.0</td>\n",
       "      <td>0.0</td>\n",
       "      <td>0.0</td>\n",
       "      <td>0.0</td>\n",
       "      <td>0.0</td>\n",
       "      <td>0.0</td>\n",
       "    </tr>\n",
       "    <tr>\n",
       "      <th>11</th>\n",
       "      <td>12.0</td>\n",
       "      <td>12.0</td>\n",
       "      <td>NaN</td>\n",
       "      <td>NaN</td>\n",
       "      <td>VAMC-36</td>\n",
       "      <td>41??</td>\n",
       "      <td>VA MEDICAL CTR BLDG 36</td>\n",
       "      <td>C02-01</td>\n",
       "      <td>1</td>\n",
       "      <td>NaN</td>\n",
       "      <td>...</td>\n",
       "      <td>0.0</td>\n",
       "      <td>0.0</td>\n",
       "      <td>0.0</td>\n",
       "      <td>0.0</td>\n",
       "      <td>0.0</td>\n",
       "      <td>0.0</td>\n",
       "      <td>0.0</td>\n",
       "      <td>0.0</td>\n",
       "      <td>0.0</td>\n",
       "      <td>0.0</td>\n",
       "    </tr>\n",
       "    <tr>\n",
       "      <th>12</th>\n",
       "      <td>NaN</td>\n",
       "      <td>NaN</td>\n",
       "      <td>NaN</td>\n",
       "      <td>NaN</td>\n",
       "      <td>NaN</td>\n",
       "      <td>NaN</td>\n",
       "      <td>NaN</td>\n",
       "      <td>NaN</td>\n",
       "      <td>28</td>\n",
       "      <td>0.0</td>\n",
       "      <td>...</td>\n",
       "      <td>0.0</td>\n",
       "      <td>0.0</td>\n",
       "      <td>0.0</td>\n",
       "      <td>0.0</td>\n",
       "      <td>0.0</td>\n",
       "      <td>0.0</td>\n",
       "      <td>0.0</td>\n",
       "      <td>0.0</td>\n",
       "      <td>0.0</td>\n",
       "      <td>0.0</td>\n",
       "    </tr>\n",
       "    <tr>\n",
       "      <th>13</th>\n",
       "      <td>NaN</td>\n",
       "      <td>NaN</td>\n",
       "      <td>NaN</td>\n",
       "      <td>NaN</td>\n",
       "      <td>NaN</td>\n",
       "      <td>NaN</td>\n",
       "      <td>NaN</td>\n",
       "      <td>NaN</td>\n",
       "      <td>NaN</td>\n",
       "      <td>NaN</td>\n",
       "      <td>...</td>\n",
       "      <td>NaN</td>\n",
       "      <td>NaN</td>\n",
       "      <td>NaN</td>\n",
       "      <td>NaN</td>\n",
       "      <td>NaN</td>\n",
       "      <td>NaN</td>\n",
       "      <td>NaN</td>\n",
       "      <td>NaN</td>\n",
       "      <td>NaN</td>\n",
       "      <td>NaN</td>\n",
       "    </tr>\n",
       "    <tr>\n",
       "      <th>14</th>\n",
       "      <td>NaN</td>\n",
       "      <td>NaN</td>\n",
       "      <td>NaN</td>\n",
       "      <td>NaN</td>\n",
       "      <td>NaN</td>\n",
       "      <td>NaN</td>\n",
       "      <td>NaN</td>\n",
       "      <td>NaN</td>\n",
       "      <td>NaN</td>\n",
       "      <td>NaN</td>\n",
       "      <td>...</td>\n",
       "      <td>NaN</td>\n",
       "      <td>NaN</td>\n",
       "      <td>NaN</td>\n",
       "      <td>NaN</td>\n",
       "      <td>NaN</td>\n",
       "      <td>NaN</td>\n",
       "      <td>NaN</td>\n",
       "      <td>NaN</td>\n",
       "      <td>NaN</td>\n",
       "      <td>NaN</td>\n",
       "    </tr>\n",
       "    <tr>\n",
       "      <th>15</th>\n",
       "      <td>NaN</td>\n",
       "      <td>NaN</td>\n",
       "      <td>NaN</td>\n",
       "      <td>NaN</td>\n",
       "      <td>NaN</td>\n",
       "      <td>NaN</td>\n",
       "      <td>NaN</td>\n",
       "      <td>NaN</td>\n",
       "      <td></td>\n",
       "      <td>NaN</td>\n",
       "      <td>...</td>\n",
       "      <td>NaN</td>\n",
       "      <td>NaN</td>\n",
       "      <td>NaN</td>\n",
       "      <td>NaN</td>\n",
       "      <td>NaN</td>\n",
       "      <td>NaN</td>\n",
       "      <td>NaN</td>\n",
       "      <td>NaN</td>\n",
       "      <td>NaN</td>\n",
       "      <td>NaN</td>\n",
       "    </tr>\n",
       "    <tr>\n",
       "      <th>16</th>\n",
       "      <td>NaN</td>\n",
       "      <td>NaN</td>\n",
       "      <td>NaN</td>\n",
       "      <td>NaN</td>\n",
       "      <td>NaN</td>\n",
       "      <td>NaN</td>\n",
       "      <td>NaN</td>\n",
       "      <td>NaN</td>\n",
       "      <td>NaN</td>\n",
       "      <td>NaN</td>\n",
       "      <td>...</td>\n",
       "      <td>NaN</td>\n",
       "      <td>NaN</td>\n",
       "      <td>NaN</td>\n",
       "      <td>NaN</td>\n",
       "      <td>NaN</td>\n",
       "      <td>NaN</td>\n",
       "      <td>NaN</td>\n",
       "      <td>NaN</td>\n",
       "      <td>NaN</td>\n",
       "      <td>NaN</td>\n",
       "    </tr>\n",
       "    <tr>\n",
       "      <th>17</th>\n",
       "      <td>NaN</td>\n",
       "      <td>NaN</td>\n",
       "      <td>NaN</td>\n",
       "      <td>NaN</td>\n",
       "      <td>NaN</td>\n",
       "      <td>NaN</td>\n",
       "      <td>NaN</td>\n",
       "      <td>NaN</td>\n",
       "      <td>NaN</td>\n",
       "      <td>NaN</td>\n",
       "      <td>...</td>\n",
       "      <td>NaN</td>\n",
       "      <td>NaN</td>\n",
       "      <td>NaN</td>\n",
       "      <td>NaN</td>\n",
       "      <td>NaN</td>\n",
       "      <td>NaN</td>\n",
       "      <td>NaN</td>\n",
       "      <td>NaN</td>\n",
       "      <td>NaN</td>\n",
       "      <td>NaN</td>\n",
       "    </tr>\n",
       "    <tr>\n",
       "      <th>18</th>\n",
       "      <td>NaN</td>\n",
       "      <td>NaN</td>\n",
       "      <td>NaN</td>\n",
       "      <td>NaN</td>\n",
       "      <td>NaN</td>\n",
       "      <td>NaN</td>\n",
       "      <td>NaN</td>\n",
       "      <td>NaN</td>\n",
       "      <td>NaN</td>\n",
       "      <td>NaN</td>\n",
       "      <td>...</td>\n",
       "      <td>NaN</td>\n",
       "      <td>NaN</td>\n",
       "      <td>NaN</td>\n",
       "      <td>NaN</td>\n",
       "      <td>NaN</td>\n",
       "      <td>NaN</td>\n",
       "      <td>NaN</td>\n",
       "      <td>NaN</td>\n",
       "      <td>NaN</td>\n",
       "      <td>NaN</td>\n",
       "    </tr>\n",
       "    <tr>\n",
       "      <th>19</th>\n",
       "      <td>NaN</td>\n",
       "      <td>NaN</td>\n",
       "      <td>NaN</td>\n",
       "      <td>NaN</td>\n",
       "      <td>NaN</td>\n",
       "      <td>NaN</td>\n",
       "      <td>NaN</td>\n",
       "      <td>NaN</td>\n",
       "      <td>NaN</td>\n",
       "      <td>NaN</td>\n",
       "      <td>...</td>\n",
       "      <td>NaN</td>\n",
       "      <td>NaN</td>\n",
       "      <td>NaN</td>\n",
       "      <td>NaN</td>\n",
       "      <td>12.0</td>\n",
       "      <td>NaN</td>\n",
       "      <td>NaN</td>\n",
       "      <td>NaN</td>\n",
       "      <td>NaN</td>\n",
       "      <td>NaN</td>\n",
       "    </tr>\n",
       "    <tr>\n",
       "      <th>20</th>\n",
       "      <td>NaN</td>\n",
       "      <td>NaN</td>\n",
       "      <td>NaN</td>\n",
       "      <td>NaN</td>\n",
       "      <td>NaN</td>\n",
       "      <td>NaN</td>\n",
       "      <td>NaN</td>\n",
       "      <td>NaN</td>\n",
       "      <td>NaN</td>\n",
       "      <td>NaN</td>\n",
       "      <td>...</td>\n",
       "      <td>NaN</td>\n",
       "      <td>NaN</td>\n",
       "      <td>NaN</td>\n",
       "      <td>NaN</td>\n",
       "      <td>0.0</td>\n",
       "      <td>NaN</td>\n",
       "      <td>NaN</td>\n",
       "      <td>NaN</td>\n",
       "      <td>NaN</td>\n",
       "      <td>NaN</td>\n",
       "    </tr>\n",
       "    <tr>\n",
       "      <th>21</th>\n",
       "      <td>NaN</td>\n",
       "      <td>NaN</td>\n",
       "      <td>NaN</td>\n",
       "      <td>NaN</td>\n",
       "      <td>NaN</td>\n",
       "      <td>NaN</td>\n",
       "      <td>NaN</td>\n",
       "      <td>NaN</td>\n",
       "      <td>NaN</td>\n",
       "      <td>NaN</td>\n",
       "      <td>...</td>\n",
       "      <td>NaN</td>\n",
       "      <td>NaN</td>\n",
       "      <td>NaN</td>\n",
       "      <td>NaN</td>\n",
       "      <td>0.0</td>\n",
       "      <td>NaN</td>\n",
       "      <td>NaN</td>\n",
       "      <td>NaN</td>\n",
       "      <td>NaN</td>\n",
       "      <td>NaN</td>\n",
       "    </tr>\n",
       "    <tr>\n",
       "      <th>22</th>\n",
       "      <td>NaN</td>\n",
       "      <td>NaN</td>\n",
       "      <td>NaN</td>\n",
       "      <td>NaN</td>\n",
       "      <td>NaN</td>\n",
       "      <td>NaN</td>\n",
       "      <td>NaN</td>\n",
       "      <td>NaN</td>\n",
       "      <td>NaN</td>\n",
       "      <td>NaN</td>\n",
       "      <td>...</td>\n",
       "      <td>NaN</td>\n",
       "      <td>NaN</td>\n",
       "      <td>NaN</td>\n",
       "      <td>NaN</td>\n",
       "      <td>0.0</td>\n",
       "      <td>NaN</td>\n",
       "      <td>NaN</td>\n",
       "      <td>NaN</td>\n",
       "      <td>NaN</td>\n",
       "      <td>NaN</td>\n",
       "    </tr>\n",
       "    <tr>\n",
       "      <th>23</th>\n",
       "      <td>NaN</td>\n",
       "      <td>NaN</td>\n",
       "      <td>NaN</td>\n",
       "      <td>NaN</td>\n",
       "      <td>NaN</td>\n",
       "      <td>NaN</td>\n",
       "      <td>NaN</td>\n",
       "      <td>NaN</td>\n",
       "      <td>NaN</td>\n",
       "      <td>NaN</td>\n",
       "      <td>...</td>\n",
       "      <td>NaN</td>\n",
       "      <td>NaN</td>\n",
       "      <td>NaN</td>\n",
       "      <td>NaN</td>\n",
       "      <td>0.0</td>\n",
       "      <td>NaN</td>\n",
       "      <td>NaN</td>\n",
       "      <td>NaN</td>\n",
       "      <td>NaN</td>\n",
       "      <td>NaN</td>\n",
       "    </tr>\n",
       "    <tr>\n",
       "      <th>24</th>\n",
       "      <td>NaN</td>\n",
       "      <td>NaN</td>\n",
       "      <td>NaN</td>\n",
       "      <td>NaN</td>\n",
       "      <td>NaN</td>\n",
       "      <td>NaN</td>\n",
       "      <td>NaN</td>\n",
       "      <td>NaN</td>\n",
       "      <td>NaN</td>\n",
       "      <td>NaN</td>\n",
       "      <td>...</td>\n",
       "      <td>NaN</td>\n",
       "      <td>NaN</td>\n",
       "      <td>NaN</td>\n",
       "      <td>NaN</td>\n",
       "      <td>0.0</td>\n",
       "      <td>NaN</td>\n",
       "      <td>NaN</td>\n",
       "      <td>NaN</td>\n",
       "      <td>NaN</td>\n",
       "      <td>NaN</td>\n",
       "    </tr>\n",
       "    <tr>\n",
       "      <th>25</th>\n",
       "      <td>NaN</td>\n",
       "      <td>NaN</td>\n",
       "      <td>NaN</td>\n",
       "      <td>NaN</td>\n",
       "      <td>NaN</td>\n",
       "      <td>NaN</td>\n",
       "      <td>NaN</td>\n",
       "      <td>NaN</td>\n",
       "      <td>NaN</td>\n",
       "      <td>NaN</td>\n",
       "      <td>...</td>\n",
       "      <td>NaN</td>\n",
       "      <td>NaN</td>\n",
       "      <td>NaN</td>\n",
       "      <td>NaN</td>\n",
       "      <td>0.0</td>\n",
       "      <td>NaN</td>\n",
       "      <td>NaN</td>\n",
       "      <td>NaN</td>\n",
       "      <td>NaN</td>\n",
       "      <td>NaN</td>\n",
       "    </tr>\n",
       "    <tr>\n",
       "      <th>26</th>\n",
       "      <td>NaN</td>\n",
       "      <td>NaN</td>\n",
       "      <td>NaN</td>\n",
       "      <td>NaN</td>\n",
       "      <td>NaN</td>\n",
       "      <td>NaN</td>\n",
       "      <td>NaN</td>\n",
       "      <td>NaN</td>\n",
       "      <td>NaN</td>\n",
       "      <td>NaN</td>\n",
       "      <td>...</td>\n",
       "      <td>NaN</td>\n",
       "      <td>NaN</td>\n",
       "      <td>NaN</td>\n",
       "      <td>NaN</td>\n",
       "      <td>0.0</td>\n",
       "      <td>NaN</td>\n",
       "      <td>NaN</td>\n",
       "      <td>NaN</td>\n",
       "      <td>NaN</td>\n",
       "      <td>NaN</td>\n",
       "    </tr>\n",
       "    <tr>\n",
       "      <th>27</th>\n",
       "      <td>NaN</td>\n",
       "      <td>NaN</td>\n",
       "      <td>NaN</td>\n",
       "      <td>NaN</td>\n",
       "      <td>NaN</td>\n",
       "      <td>NaN</td>\n",
       "      <td>NaN</td>\n",
       "      <td>NaN</td>\n",
       "      <td>NaN</td>\n",
       "      <td>NaN</td>\n",
       "      <td>...</td>\n",
       "      <td>NaN</td>\n",
       "      <td>NaN</td>\n",
       "      <td>NaN</td>\n",
       "      <td>NaN</td>\n",
       "      <td>NaN</td>\n",
       "      <td>NaN</td>\n",
       "      <td>NaN</td>\n",
       "      <td>NaN</td>\n",
       "      <td>NaN</td>\n",
       "      <td>NaN</td>\n",
       "    </tr>\n",
       "    <tr>\n",
       "      <th>28</th>\n",
       "      <td>NaN</td>\n",
       "      <td>NaN</td>\n",
       "      <td>NaN</td>\n",
       "      <td>NaN</td>\n",
       "      <td>NaN</td>\n",
       "      <td>NaN</td>\n",
       "      <td>NaN</td>\n",
       "      <td>NaN</td>\n",
       "      <td>NaN</td>\n",
       "      <td>NaN</td>\n",
       "      <td>...</td>\n",
       "      <td>NaN</td>\n",
       "      <td>NaN</td>\n",
       "      <td>NaN</td>\n",
       "      <td>NaN</td>\n",
       "      <td>12.0</td>\n",
       "      <td>NaN</td>\n",
       "      <td>NaN</td>\n",
       "      <td>NaN</td>\n",
       "      <td>NaN</td>\n",
       "      <td>NaN</td>\n",
       "    </tr>\n",
       "  </tbody>\n",
       "</table>\n",
       "<p>29 rows × 63 columns</p>\n",
       "</div>"
      ],
      "text/plain": [
       "          INDEX VALUE           Priority               Team  \\\n",
       "   Unnamed: 0_level_1 Unnamed: 1_level_1 Unnamed: 2_level_1   \n",
       "   Unnamed: 0_level_2 Unnamed: 1_level_2 Unnamed: 2_level_2   \n",
       "0                 1.0                1.0                NaN   \n",
       "1                 2.0                2.0                NaN   \n",
       "2                 3.0                3.0                NaN   \n",
       "3                 4.0                4.0                NaN   \n",
       "4                 5.0                5.0                NaN   \n",
       "5                 6.0                6.0                NaN   \n",
       "6                 7.0                7.0                NaN   \n",
       "7                 8.0                8.0                NaN   \n",
       "8                 9.0                9.0                NaN   \n",
       "9                10.0               10.0                NaN   \n",
       "10               11.0               11.0                NaN   \n",
       "11               12.0               12.0                NaN   \n",
       "12                NaN                NaN                NaN   \n",
       "13                NaN                NaN                NaN   \n",
       "14                NaN                NaN                NaN   \n",
       "15                NaN                NaN                NaN   \n",
       "16                NaN                NaN                NaN   \n",
       "17                NaN                NaN                NaN   \n",
       "18                NaN                NaN                NaN   \n",
       "19                NaN                NaN                NaN   \n",
       "20                NaN                NaN                NaN   \n",
       "21                NaN                NaN                NaN   \n",
       "22                NaN                NaN                NaN   \n",
       "23                NaN                NaN                NaN   \n",
       "24                NaN                NaN                NaN   \n",
       "25                NaN                NaN                NaN   \n",
       "26                NaN                NaN                NaN   \n",
       "27                NaN                NaN                NaN   \n",
       "28                NaN                NaN                NaN   \n",
       "\n",
       "         Project Mgr.      Building Code        Building ID  \\\n",
       "   Unnamed: 3_level_1 Unnamed: 4_level_1 Unnamed: 5_level_1   \n",
       "   Unnamed: 3_level_2 Unnamed: 4_level_2 Unnamed: 5_level_2   \n",
       "0                 NaN            VAMC-01               4160   \n",
       "1                 NaN            VAMC-02               4161   \n",
       "2                 NaN            VAMC-03               41??   \n",
       "3                 NaN            VAMC-04               4162   \n",
       "4                 NaN            VAMC-05               4164   \n",
       "5                 NaN            VAMC-08               41??   \n",
       "6                 NaN          VAMC-08.5               41??   \n",
       "7                 NaN           VAMC-12A               41??   \n",
       "8                 NaN            VAMC-34               4020   \n",
       "9                 NaN            VAMC-35               41??   \n",
       "10                NaN           VAMC-35A               4165   \n",
       "11                NaN            VAMC-36               41??   \n",
       "12                NaN                NaN                NaN   \n",
       "13                NaN                NaN                NaN   \n",
       "14                NaN                NaN                NaN   \n",
       "15                NaN                NaN                NaN   \n",
       "16                NaN                NaN                NaN   \n",
       "17                NaN                NaN                NaN   \n",
       "18                NaN                NaN                NaN   \n",
       "19                NaN                NaN                NaN   \n",
       "20                NaN                NaN                NaN   \n",
       "21                NaN                NaN                NaN   \n",
       "22                NaN                NaN                NaN   \n",
       "23                NaN                NaN                NaN   \n",
       "24                NaN                NaN                NaN   \n",
       "25                NaN                NaN                NaN   \n",
       "26                NaN                NaN                NaN   \n",
       "27                NaN                NaN                NaN   \n",
       "28                NaN                NaN                NaN   \n",
       "\n",
       "        Building Description          Cluster #          # closets  \\\n",
       "          Unnamed: 6_level_1 Unnamed: 7_level_1 Unnamed: 8_level_1   \n",
       "          Unnamed: 6_level_2 Unnamed: 7_level_2 Unnamed: 8_level_2   \n",
       "0     VA MEDICAL CTR BLDG 01         C02-02 MDF                  9   \n",
       "1     VA MEDICAL CTR BLDG 02             C02-02                  4   \n",
       "2     VA MEDICAL CTR BLDG 03             C02-01                  1   \n",
       "3     VA MEDICAL CTR BLDG 04             C02-01                  1   \n",
       "4     VA MEDICAL CTR BLDG 05         C02-01 MDF                  4   \n",
       "5     VA MEDICAL CTR BLDG 08             C02-01                  1   \n",
       "6   VA MEDICAL CTR BLDG 08.5             C02-01                  1   \n",
       "7    VA MEDICAL CTR BLDG 12A             C02-01                  1   \n",
       "8     VA MEDICAL CTR BLDG 34             C02-01                  1   \n",
       "9     VA MEDICAL CTR BLDG 35             C02-01                  2   \n",
       "10   VA MEDICAL CTR BLDG 35A             C02-01                  2   \n",
       "11    VA MEDICAL CTR BLDG 36             C02-01                  1   \n",
       "12                       NaN                NaN                 28   \n",
       "13                       NaN                NaN                NaN   \n",
       "14                       NaN                NaN                NaN   \n",
       "15                       NaN                NaN                      \n",
       "16                       NaN                NaN                NaN   \n",
       "17                       NaN                NaN                NaN   \n",
       "18                       NaN                NaN                NaN   \n",
       "19                       NaN                NaN                NaN   \n",
       "20                       NaN                NaN                NaN   \n",
       "21                       NaN                NaN                NaN   \n",
       "22                       NaN                NaN                NaN   \n",
       "23                       NaN                NaN                NaN   \n",
       "24                       NaN                NaN                NaN   \n",
       "25                       NaN                NaN                NaN   \n",
       "26                       NaN                NaN                NaN   \n",
       "27                       NaN                NaN                NaN   \n",
       "28                       NaN                NaN                NaN   \n",
       "\n",
       "   Legacy Switch Count  ...  \\\n",
       "    Unnamed: 9_level_1  ...   \n",
       "    Unnamed: 9_level_2  ...   \n",
       "0                  NaN  ...   \n",
       "1                  NaN  ...   \n",
       "2                  NaN  ...   \n",
       "3                  NaN  ...   \n",
       "4                  NaN  ...   \n",
       "5                  NaN  ...   \n",
       "6                  NaN  ...   \n",
       "7                  NaN  ...   \n",
       "8                  NaN  ...   \n",
       "9                  NaN  ...   \n",
       "10                 NaN  ...   \n",
       "11                 NaN  ...   \n",
       "12                 0.0  ...   \n",
       "13                 NaN  ...   \n",
       "14                 NaN  ...   \n",
       "15                 NaN  ...   \n",
       "16                 NaN  ...   \n",
       "17                 NaN  ...   \n",
       "18                 NaN  ...   \n",
       "19                 NaN  ...   \n",
       "20                 NaN  ...   \n",
       "21                 NaN  ...   \n",
       "22                 NaN  ...   \n",
       "23                 NaN  ...   \n",
       "24                 NaN  ...   \n",
       "25                 NaN  ...   \n",
       "26                 NaN  ...   \n",
       "27                 NaN  ...   \n",
       "28                 NaN  ...   \n",
       "\n",
       "   Building Transitions                                                                                                                                                         Building Transitions    \\\n",
       "                                                                                                                                                                                         Healthcare_VN   \n",
       "                                                                                                                                                                                                    33   \n",
       "0                                                 0.0                                                                                                                                                    \n",
       "1                                                 0.0                                                                                                                                                    \n",
       "2                                                 0.0                                                                                                                                                    \n",
       "3                                                 0.0                                                                                                                                                    \n",
       "4                                                 0.0                                                                                                                                                    \n",
       "5                                                 0.0                                                                                                                                                    \n",
       "6                                                 0.0                                                                                                                                                    \n",
       "7                                                 0.0                                                                                                                                                    \n",
       "8                                                 0.0                                                                                                                                                    \n",
       "9                                                 0.0                                                                                                                                                    \n",
       "10                                                0.0                                                                                                                                                    \n",
       "11                                                0.0                                                                                                                                                    \n",
       "12                                                0.0                                                                                                                                                    \n",
       "13                                                NaN                                                                                                                                                    \n",
       "14                                                NaN                                                                                                                                                    \n",
       "15                                                NaN                                                                                                                                                    \n",
       "16                                                NaN                                                                                                                                                    \n",
       "17                                                NaN                                                                                                                                                    \n",
       "18                                                NaN                                                                                                                                                    \n",
       "19                                                NaN                                                                                                                                                    \n",
       "20                                                NaN                                                                                                                                                    \n",
       "21                                                NaN                                                                                                                                                    \n",
       "22                                                NaN                                                                                                                                                    \n",
       "23                                                NaN                                                                                                                                                    \n",
       "24                                                NaN                                                                                                                                                    \n",
       "25                                                NaN                                                                                                                                                    \n",
       "26                                                NaN                                                                                                                                                    \n",
       "27                                                NaN                                                                                                                                                    \n",
       "28                                                NaN                                                                                                                                                    \n",
       "\n",
       "                                                  \\\n",
       "   Voice_VN PCI_VN Building Communication Wired    \n",
       "         34     35                            36   \n",
       "0       0.0    0.0                           0.0   \n",
       "1       0.0    0.0                           0.0   \n",
       "2       0.0    0.0                           0.0   \n",
       "3       0.0    0.0                           0.0   \n",
       "4       0.0    0.0                           0.0   \n",
       "5       0.0    0.0                           0.0   \n",
       "6       0.0    0.0                           0.0   \n",
       "7       0.0    0.0                           0.0   \n",
       "8       0.0    0.0                           0.0   \n",
       "9       0.0    0.0                           0.0   \n",
       "10      0.0    0.0                           0.0   \n",
       "11      0.0    0.0                           0.0   \n",
       "12      0.0    0.0                           0.0   \n",
       "13      NaN    NaN                           NaN   \n",
       "14      NaN    NaN                           NaN   \n",
       "15      NaN    NaN                           NaN   \n",
       "16      NaN    NaN                           NaN   \n",
       "17      NaN    NaN                           NaN   \n",
       "18      NaN    NaN                           NaN   \n",
       "19      NaN    NaN                           NaN   \n",
       "20      NaN    NaN                           NaN   \n",
       "21      NaN    NaN                           NaN   \n",
       "22      NaN    NaN                           NaN   \n",
       "23      NaN    NaN                           NaN   \n",
       "24      NaN    NaN                           NaN   \n",
       "25      NaN    NaN                           NaN   \n",
       "26      NaN    NaN                           NaN   \n",
       "27      NaN    NaN                           NaN   \n",
       "28      NaN    NaN                           NaN   \n",
       "\n",
       "                                                        \\\n",
       "   Full Building Wired Network Services Cutover to NGN   \n",
       "                                                    37   \n",
       "0                                                 0.0    \n",
       "1                                                 0.0    \n",
       "2                                                 0.0    \n",
       "3                                                 0.0    \n",
       "4                                                 0.0    \n",
       "5                                                 0.0    \n",
       "6                                                 0.0    \n",
       "7                                                 0.0    \n",
       "8                                                 0.0    \n",
       "9                                                 0.0    \n",
       "10                                                0.0    \n",
       "11                                                0.0    \n",
       "12                                                0.0    \n",
       "13                                                NaN    \n",
       "14                                                NaN    \n",
       "15                                                NaN    \n",
       "16                                                NaN    \n",
       "17                                                NaN    \n",
       "18                                                NaN    \n",
       "19                                               12.0    \n",
       "20                                                0.0    \n",
       "21                                                0.0    \n",
       "22                                                0.0    \n",
       "23                                                0.0    \n",
       "24                                                0.0    \n",
       "25                                                0.0    \n",
       "26                                                0.0    \n",
       "27                                                NaN    \n",
       "28                                               12.0    \n",
       "\n",
       "                                                     \\\n",
       "   Building Comms Wireless  Wireless Cutover to NGN   \n",
       "                         38                      39   \n",
       "0                       0.0                     0.0   \n",
       "1                       0.0                     0.0   \n",
       "2                       0.0                     0.0   \n",
       "3                       0.0                     0.0   \n",
       "4                       0.0                     0.0   \n",
       "5                       0.0                     0.0   \n",
       "6                       0.0                     0.0   \n",
       "7                       0.0                     0.0   \n",
       "8                       0.0                     0.0   \n",
       "9                       0.0                     0.0   \n",
       "10                      0.0                     0.0   \n",
       "11                      0.0                     0.0   \n",
       "12                      0.0                     0.0   \n",
       "13                      NaN                     NaN   \n",
       "14                      NaN                     NaN   \n",
       "15                      NaN                     NaN   \n",
       "16                      NaN                     NaN   \n",
       "17                      NaN                     NaN   \n",
       "18                      NaN                     NaN   \n",
       "19                      NaN                     NaN   \n",
       "20                      NaN                     NaN   \n",
       "21                      NaN                     NaN   \n",
       "22                      NaN                     NaN   \n",
       "23                      NaN                     NaN   \n",
       "24                      NaN                     NaN   \n",
       "25                      NaN                     NaN   \n",
       "26                      NaN                     NaN   \n",
       "27                      NaN                     NaN   \n",
       "28                      NaN                     NaN   \n",
       "\n",
       "                                                                               \n",
       "   Legacy Cable & Equipment Removal Building Comms Completion Lessons Learned  \n",
       "                                 40                        41              42  \n",
       "0                               0.0                       0.0             0.0  \n",
       "1                               0.0                       0.0             0.0  \n",
       "2                               0.0                       0.0             0.0  \n",
       "3                               0.0                       0.0             0.0  \n",
       "4                               0.0                       0.0             0.0  \n",
       "5                               0.0                       0.0             0.0  \n",
       "6                               0.0                       0.0             0.0  \n",
       "7                               0.0                       0.0             0.0  \n",
       "8                               0.0                       0.0             0.0  \n",
       "9                               0.0                       0.0             0.0  \n",
       "10                              0.0                       0.0             0.0  \n",
       "11                              0.0                       0.0             0.0  \n",
       "12                              0.0                       0.0             0.0  \n",
       "13                              NaN                       NaN             NaN  \n",
       "14                              NaN                       NaN             NaN  \n",
       "15                              NaN                       NaN             NaN  \n",
       "16                              NaN                       NaN             NaN  \n",
       "17                              NaN                       NaN             NaN  \n",
       "18                              NaN                       NaN             NaN  \n",
       "19                              NaN                       NaN             NaN  \n",
       "20                              NaN                       NaN             NaN  \n",
       "21                              NaN                       NaN             NaN  \n",
       "22                              NaN                       NaN             NaN  \n",
       "23                              NaN                       NaN             NaN  \n",
       "24                              NaN                       NaN             NaN  \n",
       "25                              NaN                       NaN             NaN  \n",
       "26                              NaN                       NaN             NaN  \n",
       "27                              NaN                       NaN             NaN  \n",
       "28                              NaN                       NaN             NaN  \n",
       "\n",
       "[29 rows x 63 columns]"
      ]
     },
     "execution_count": 163,
     "metadata": {},
     "output_type": "execute_result"
    }
   ],
   "source": [
    "df"
   ]
  },
  {
   "cell_type": "markdown",
   "metadata": {
    "slideshow": {
     "slide_type": "subslide"
    },
    "tags": []
   },
   "source": [
    "Collapse the column names by iterating through the list of the dataframes columns and creating a new list of column names, replacing any `Unnamed` column with the value of the column name in level `l2`)"
   ]
  },
  {
   "cell_type": "code",
   "execution_count": 164,
   "metadata": {},
   "outputs": [],
   "source": [
    "flattened_column_names = [\n",
    "    (l1 if ('Unnamed:' in l2) else l2 ) for l1, l2, l3 in df.columns]"
   ]
  },
  {
   "cell_type": "code",
   "execution_count": 165,
   "metadata": {
    "slideshow": {
     "slide_type": "subslide"
    },
    "tags": []
   },
   "outputs": [
    {
     "data": {
      "text/plain": [
       "['INDEX VALUE',\n",
       " 'Priority',\n",
       " 'Team',\n",
       " 'Project Mgr.',\n",
       " 'Building Code',\n",
       " 'Building ID',\n",
       " 'Building Description',\n",
       " 'Cluster #',\n",
       " '# closets',\n",
       " 'Legacy Switch Count',\n",
       " 'NGN Switch Count',\n",
       " \"AP's\",\n",
       " 'Assigned General Building VN',\n",
       " 'Cutover Type',\n",
       " 'Known special use networks in building',\n",
       " 'Fabric Site Designation',\n",
       " 'Wired Migration Date\\n(tentative)',\n",
       " 'Wireless Migration Date',\n",
       " 'STAGE 1',\n",
       " 'STAGE 2/3',\n",
       " 'Building',\n",
       " 'Program and Building Communication',\n",
       " 'Switch Discovery',\n",
       " 'Extension Discovery & Design',\n",
       " 'Inter-Fiber Discovery & Deployment',\n",
       " 'Building Comms Closet Communication',\n",
       " 'Closet Surveys',\n",
       " 'Bldg/Clstr -InterConnected Design',\n",
       " 'IP Discovery',\n",
       " 'Speciality VN Device Discovery',\n",
       " 'Firewall Review',\n",
       " 'WAP Predictive Review',\n",
       " 'Business Questionnaire',\n",
       " 'Building Comms DDNS Awareness',\n",
       " 'DDNS',\n",
       " 'IP, AV, & Printer Remediation',\n",
       " 'Walkthrough & Intrabuilding Architecture Design',\n",
       " 'BOM Process',\n",
       " 'Closet Remediation',\n",
       " 'Switch Hardware Staging',\n",
       " 'Logistics',\n",
       " 'Switch Rack & Stack',\n",
       " 'LAN Automation (Fabric Connection)',\n",
       " 'Building Communications',\n",
       " 'WAP Prep',\n",
       " 'QA Testing',\n",
       " 'Printers to NGN',\n",
       " 'Building Comms - User Specific App Testing Awareness - Building Ops Awareness',\n",
       " 'Specialty Devices to NGN',\n",
       " 'User Specific Testing',\n",
       " 'Safety_VN',\n",
       " 'BLDGSYS_VN',\n",
       " 'ScienceNet to NGN',\n",
       " 'Healthcare_VN',\n",
       " 'Voice_VN',\n",
       " 'PCI_VN',\n",
       " 'Building Communication Wired ',\n",
       " 'Full Building Wired Network Services Cutover to NGN',\n",
       " 'Building Comms Wireless ',\n",
       " 'Wireless Cutover to NGN',\n",
       " 'Legacy Cable & Equipment Removal',\n",
       " 'Building Comms Completion',\n",
       " 'Lessons Learned']"
      ]
     },
     "execution_count": 165,
     "metadata": {},
     "output_type": "execute_result"
    }
   ],
   "source": [
    "flattened_column_names"
   ]
  },
  {
   "cell_type": "markdown",
   "metadata": {
    "slideshow": {
     "slide_type": "subslide"
    },
    "tags": []
   },
   "source": [
    "Rename the data frame columns with the `flattened_column_names`"
   ]
  },
  {
   "cell_type": "code",
   "execution_count": 166,
   "metadata": {},
   "outputs": [],
   "source": [
    "df.columns = flattened_column_names"
   ]
  },
  {
   "cell_type": "code",
   "execution_count": 167,
   "metadata": {
    "slideshow": {
     "slide_type": "subslide"
    },
    "tags": []
   },
   "outputs": [
    {
     "data": {
      "text/html": [
       "<div>\n",
       "<style scoped>\n",
       "    .dataframe tbody tr th:only-of-type {\n",
       "        vertical-align: middle;\n",
       "    }\n",
       "\n",
       "    .dataframe tbody tr th {\n",
       "        vertical-align: top;\n",
       "    }\n",
       "\n",
       "    .dataframe thead th {\n",
       "        text-align: right;\n",
       "    }\n",
       "</style>\n",
       "<table border=\"1\" class=\"dataframe\">\n",
       "  <thead>\n",
       "    <tr style=\"text-align: right;\">\n",
       "      <th></th>\n",
       "      <th>INDEX VALUE</th>\n",
       "      <th>Priority</th>\n",
       "      <th>Team</th>\n",
       "      <th>Project Mgr.</th>\n",
       "      <th>Building Code</th>\n",
       "      <th>Building ID</th>\n",
       "      <th>Building Description</th>\n",
       "      <th>Cluster #</th>\n",
       "      <th># closets</th>\n",
       "      <th>Legacy Switch Count</th>\n",
       "      <th>...</th>\n",
       "      <th>Healthcare_VN</th>\n",
       "      <th>Voice_VN</th>\n",
       "      <th>PCI_VN</th>\n",
       "      <th>Building Communication Wired</th>\n",
       "      <th>Full Building Wired Network Services Cutover to NGN</th>\n",
       "      <th>Building Comms Wireless</th>\n",
       "      <th>Wireless Cutover to NGN</th>\n",
       "      <th>Legacy Cable &amp; Equipment Removal</th>\n",
       "      <th>Building Comms Completion</th>\n",
       "      <th>Lessons Learned</th>\n",
       "    </tr>\n",
       "  </thead>\n",
       "  <tbody>\n",
       "    <tr>\n",
       "      <th>0</th>\n",
       "      <td>1.0</td>\n",
       "      <td>1.0</td>\n",
       "      <td>NaN</td>\n",
       "      <td>NaN</td>\n",
       "      <td>VAMC-01</td>\n",
       "      <td>4160</td>\n",
       "      <td>VA MEDICAL CTR BLDG 01</td>\n",
       "      <td>C02-02 MDF</td>\n",
       "      <td>9</td>\n",
       "      <td>NaN</td>\n",
       "      <td>...</td>\n",
       "      <td>0.0</td>\n",
       "      <td>0.0</td>\n",
       "      <td>0.0</td>\n",
       "      <td>0.0</td>\n",
       "      <td>0.0</td>\n",
       "      <td>0.0</td>\n",
       "      <td>0.0</td>\n",
       "      <td>0.0</td>\n",
       "      <td>0.0</td>\n",
       "      <td>0.0</td>\n",
       "    </tr>\n",
       "    <tr>\n",
       "      <th>1</th>\n",
       "      <td>2.0</td>\n",
       "      <td>2.0</td>\n",
       "      <td>NaN</td>\n",
       "      <td>NaN</td>\n",
       "      <td>VAMC-02</td>\n",
       "      <td>4161</td>\n",
       "      <td>VA MEDICAL CTR BLDG 02</td>\n",
       "      <td>C02-02</td>\n",
       "      <td>4</td>\n",
       "      <td>NaN</td>\n",
       "      <td>...</td>\n",
       "      <td>0.0</td>\n",
       "      <td>0.0</td>\n",
       "      <td>0.0</td>\n",
       "      <td>0.0</td>\n",
       "      <td>0.0</td>\n",
       "      <td>0.0</td>\n",
       "      <td>0.0</td>\n",
       "      <td>0.0</td>\n",
       "      <td>0.0</td>\n",
       "      <td>0.0</td>\n",
       "    </tr>\n",
       "    <tr>\n",
       "      <th>2</th>\n",
       "      <td>3.0</td>\n",
       "      <td>3.0</td>\n",
       "      <td>NaN</td>\n",
       "      <td>NaN</td>\n",
       "      <td>VAMC-03</td>\n",
       "      <td>41??</td>\n",
       "      <td>VA MEDICAL CTR BLDG 03</td>\n",
       "      <td>C02-01</td>\n",
       "      <td>1</td>\n",
       "      <td>NaN</td>\n",
       "      <td>...</td>\n",
       "      <td>0.0</td>\n",
       "      <td>0.0</td>\n",
       "      <td>0.0</td>\n",
       "      <td>0.0</td>\n",
       "      <td>0.0</td>\n",
       "      <td>0.0</td>\n",
       "      <td>0.0</td>\n",
       "      <td>0.0</td>\n",
       "      <td>0.0</td>\n",
       "      <td>0.0</td>\n",
       "    </tr>\n",
       "    <tr>\n",
       "      <th>3</th>\n",
       "      <td>4.0</td>\n",
       "      <td>4.0</td>\n",
       "      <td>NaN</td>\n",
       "      <td>NaN</td>\n",
       "      <td>VAMC-04</td>\n",
       "      <td>4162</td>\n",
       "      <td>VA MEDICAL CTR BLDG 04</td>\n",
       "      <td>C02-01</td>\n",
       "      <td>1</td>\n",
       "      <td>NaN</td>\n",
       "      <td>...</td>\n",
       "      <td>0.0</td>\n",
       "      <td>0.0</td>\n",
       "      <td>0.0</td>\n",
       "      <td>0.0</td>\n",
       "      <td>0.0</td>\n",
       "      <td>0.0</td>\n",
       "      <td>0.0</td>\n",
       "      <td>0.0</td>\n",
       "      <td>0.0</td>\n",
       "      <td>0.0</td>\n",
       "    </tr>\n",
       "    <tr>\n",
       "      <th>4</th>\n",
       "      <td>5.0</td>\n",
       "      <td>5.0</td>\n",
       "      <td>NaN</td>\n",
       "      <td>NaN</td>\n",
       "      <td>VAMC-05</td>\n",
       "      <td>4164</td>\n",
       "      <td>VA MEDICAL CTR BLDG 05</td>\n",
       "      <td>C02-01 MDF</td>\n",
       "      <td>4</td>\n",
       "      <td>NaN</td>\n",
       "      <td>...</td>\n",
       "      <td>0.0</td>\n",
       "      <td>0.0</td>\n",
       "      <td>0.0</td>\n",
       "      <td>0.0</td>\n",
       "      <td>0.0</td>\n",
       "      <td>0.0</td>\n",
       "      <td>0.0</td>\n",
       "      <td>0.0</td>\n",
       "      <td>0.0</td>\n",
       "      <td>0.0</td>\n",
       "    </tr>\n",
       "    <tr>\n",
       "      <th>5</th>\n",
       "      <td>6.0</td>\n",
       "      <td>6.0</td>\n",
       "      <td>NaN</td>\n",
       "      <td>NaN</td>\n",
       "      <td>VAMC-08</td>\n",
       "      <td>41??</td>\n",
       "      <td>VA MEDICAL CTR BLDG 08</td>\n",
       "      <td>C02-01</td>\n",
       "      <td>1</td>\n",
       "      <td>NaN</td>\n",
       "      <td>...</td>\n",
       "      <td>0.0</td>\n",
       "      <td>0.0</td>\n",
       "      <td>0.0</td>\n",
       "      <td>0.0</td>\n",
       "      <td>0.0</td>\n",
       "      <td>0.0</td>\n",
       "      <td>0.0</td>\n",
       "      <td>0.0</td>\n",
       "      <td>0.0</td>\n",
       "      <td>0.0</td>\n",
       "    </tr>\n",
       "    <tr>\n",
       "      <th>6</th>\n",
       "      <td>7.0</td>\n",
       "      <td>7.0</td>\n",
       "      <td>NaN</td>\n",
       "      <td>NaN</td>\n",
       "      <td>VAMC-08.5</td>\n",
       "      <td>41??</td>\n",
       "      <td>VA MEDICAL CTR BLDG 08.5</td>\n",
       "      <td>C02-01</td>\n",
       "      <td>1</td>\n",
       "      <td>NaN</td>\n",
       "      <td>...</td>\n",
       "      <td>0.0</td>\n",
       "      <td>0.0</td>\n",
       "      <td>0.0</td>\n",
       "      <td>0.0</td>\n",
       "      <td>0.0</td>\n",
       "      <td>0.0</td>\n",
       "      <td>0.0</td>\n",
       "      <td>0.0</td>\n",
       "      <td>0.0</td>\n",
       "      <td>0.0</td>\n",
       "    </tr>\n",
       "    <tr>\n",
       "      <th>7</th>\n",
       "      <td>8.0</td>\n",
       "      <td>8.0</td>\n",
       "      <td>NaN</td>\n",
       "      <td>NaN</td>\n",
       "      <td>VAMC-12A</td>\n",
       "      <td>41??</td>\n",
       "      <td>VA MEDICAL CTR BLDG 12A</td>\n",
       "      <td>C02-01</td>\n",
       "      <td>1</td>\n",
       "      <td>NaN</td>\n",
       "      <td>...</td>\n",
       "      <td>0.0</td>\n",
       "      <td>0.0</td>\n",
       "      <td>0.0</td>\n",
       "      <td>0.0</td>\n",
       "      <td>0.0</td>\n",
       "      <td>0.0</td>\n",
       "      <td>0.0</td>\n",
       "      <td>0.0</td>\n",
       "      <td>0.0</td>\n",
       "      <td>0.0</td>\n",
       "    </tr>\n",
       "    <tr>\n",
       "      <th>8</th>\n",
       "      <td>9.0</td>\n",
       "      <td>9.0</td>\n",
       "      <td>NaN</td>\n",
       "      <td>NaN</td>\n",
       "      <td>VAMC-34</td>\n",
       "      <td>4020</td>\n",
       "      <td>VA MEDICAL CTR BLDG 34</td>\n",
       "      <td>C02-01</td>\n",
       "      <td>1</td>\n",
       "      <td>NaN</td>\n",
       "      <td>...</td>\n",
       "      <td>0.0</td>\n",
       "      <td>0.0</td>\n",
       "      <td>0.0</td>\n",
       "      <td>0.0</td>\n",
       "      <td>0.0</td>\n",
       "      <td>0.0</td>\n",
       "      <td>0.0</td>\n",
       "      <td>0.0</td>\n",
       "      <td>0.0</td>\n",
       "      <td>0.0</td>\n",
       "    </tr>\n",
       "    <tr>\n",
       "      <th>9</th>\n",
       "      <td>10.0</td>\n",
       "      <td>10.0</td>\n",
       "      <td>NaN</td>\n",
       "      <td>NaN</td>\n",
       "      <td>VAMC-35</td>\n",
       "      <td>41??</td>\n",
       "      <td>VA MEDICAL CTR BLDG 35</td>\n",
       "      <td>C02-01</td>\n",
       "      <td>2</td>\n",
       "      <td>NaN</td>\n",
       "      <td>...</td>\n",
       "      <td>0.0</td>\n",
       "      <td>0.0</td>\n",
       "      <td>0.0</td>\n",
       "      <td>0.0</td>\n",
       "      <td>0.0</td>\n",
       "      <td>0.0</td>\n",
       "      <td>0.0</td>\n",
       "      <td>0.0</td>\n",
       "      <td>0.0</td>\n",
       "      <td>0.0</td>\n",
       "    </tr>\n",
       "    <tr>\n",
       "      <th>10</th>\n",
       "      <td>11.0</td>\n",
       "      <td>11.0</td>\n",
       "      <td>NaN</td>\n",
       "      <td>NaN</td>\n",
       "      <td>VAMC-35A</td>\n",
       "      <td>4165</td>\n",
       "      <td>VA MEDICAL CTR BLDG 35A</td>\n",
       "      <td>C02-01</td>\n",
       "      <td>2</td>\n",
       "      <td>NaN</td>\n",
       "      <td>...</td>\n",
       "      <td>0.0</td>\n",
       "      <td>0.0</td>\n",
       "      <td>0.0</td>\n",
       "      <td>0.0</td>\n",
       "      <td>0.0</td>\n",
       "      <td>0.0</td>\n",
       "      <td>0.0</td>\n",
       "      <td>0.0</td>\n",
       "      <td>0.0</td>\n",
       "      <td>0.0</td>\n",
       "    </tr>\n",
       "    <tr>\n",
       "      <th>11</th>\n",
       "      <td>12.0</td>\n",
       "      <td>12.0</td>\n",
       "      <td>NaN</td>\n",
       "      <td>NaN</td>\n",
       "      <td>VAMC-36</td>\n",
       "      <td>41??</td>\n",
       "      <td>VA MEDICAL CTR BLDG 36</td>\n",
       "      <td>C02-01</td>\n",
       "      <td>1</td>\n",
       "      <td>NaN</td>\n",
       "      <td>...</td>\n",
       "      <td>0.0</td>\n",
       "      <td>0.0</td>\n",
       "      <td>0.0</td>\n",
       "      <td>0.0</td>\n",
       "      <td>0.0</td>\n",
       "      <td>0.0</td>\n",
       "      <td>0.0</td>\n",
       "      <td>0.0</td>\n",
       "      <td>0.0</td>\n",
       "      <td>0.0</td>\n",
       "    </tr>\n",
       "    <tr>\n",
       "      <th>12</th>\n",
       "      <td>NaN</td>\n",
       "      <td>NaN</td>\n",
       "      <td>NaN</td>\n",
       "      <td>NaN</td>\n",
       "      <td>NaN</td>\n",
       "      <td>NaN</td>\n",
       "      <td>NaN</td>\n",
       "      <td>NaN</td>\n",
       "      <td>28</td>\n",
       "      <td>0.0</td>\n",
       "      <td>...</td>\n",
       "      <td>0.0</td>\n",
       "      <td>0.0</td>\n",
       "      <td>0.0</td>\n",
       "      <td>0.0</td>\n",
       "      <td>0.0</td>\n",
       "      <td>0.0</td>\n",
       "      <td>0.0</td>\n",
       "      <td>0.0</td>\n",
       "      <td>0.0</td>\n",
       "      <td>0.0</td>\n",
       "    </tr>\n",
       "    <tr>\n",
       "      <th>13</th>\n",
       "      <td>NaN</td>\n",
       "      <td>NaN</td>\n",
       "      <td>NaN</td>\n",
       "      <td>NaN</td>\n",
       "      <td>NaN</td>\n",
       "      <td>NaN</td>\n",
       "      <td>NaN</td>\n",
       "      <td>NaN</td>\n",
       "      <td>NaN</td>\n",
       "      <td>NaN</td>\n",
       "      <td>...</td>\n",
       "      <td>NaN</td>\n",
       "      <td>NaN</td>\n",
       "      <td>NaN</td>\n",
       "      <td>NaN</td>\n",
       "      <td>NaN</td>\n",
       "      <td>NaN</td>\n",
       "      <td>NaN</td>\n",
       "      <td>NaN</td>\n",
       "      <td>NaN</td>\n",
       "      <td>NaN</td>\n",
       "    </tr>\n",
       "    <tr>\n",
       "      <th>14</th>\n",
       "      <td>NaN</td>\n",
       "      <td>NaN</td>\n",
       "      <td>NaN</td>\n",
       "      <td>NaN</td>\n",
       "      <td>NaN</td>\n",
       "      <td>NaN</td>\n",
       "      <td>NaN</td>\n",
       "      <td>NaN</td>\n",
       "      <td>NaN</td>\n",
       "      <td>NaN</td>\n",
       "      <td>...</td>\n",
       "      <td>NaN</td>\n",
       "      <td>NaN</td>\n",
       "      <td>NaN</td>\n",
       "      <td>NaN</td>\n",
       "      <td>NaN</td>\n",
       "      <td>NaN</td>\n",
       "      <td>NaN</td>\n",
       "      <td>NaN</td>\n",
       "      <td>NaN</td>\n",
       "      <td>NaN</td>\n",
       "    </tr>\n",
       "    <tr>\n",
       "      <th>15</th>\n",
       "      <td>NaN</td>\n",
       "      <td>NaN</td>\n",
       "      <td>NaN</td>\n",
       "      <td>NaN</td>\n",
       "      <td>NaN</td>\n",
       "      <td>NaN</td>\n",
       "      <td>NaN</td>\n",
       "      <td>NaN</td>\n",
       "      <td></td>\n",
       "      <td>NaN</td>\n",
       "      <td>...</td>\n",
       "      <td>NaN</td>\n",
       "      <td>NaN</td>\n",
       "      <td>NaN</td>\n",
       "      <td>NaN</td>\n",
       "      <td>NaN</td>\n",
       "      <td>NaN</td>\n",
       "      <td>NaN</td>\n",
       "      <td>NaN</td>\n",
       "      <td>NaN</td>\n",
       "      <td>NaN</td>\n",
       "    </tr>\n",
       "    <tr>\n",
       "      <th>16</th>\n",
       "      <td>NaN</td>\n",
       "      <td>NaN</td>\n",
       "      <td>NaN</td>\n",
       "      <td>NaN</td>\n",
       "      <td>NaN</td>\n",
       "      <td>NaN</td>\n",
       "      <td>NaN</td>\n",
       "      <td>NaN</td>\n",
       "      <td>NaN</td>\n",
       "      <td>NaN</td>\n",
       "      <td>...</td>\n",
       "      <td>NaN</td>\n",
       "      <td>NaN</td>\n",
       "      <td>NaN</td>\n",
       "      <td>NaN</td>\n",
       "      <td>NaN</td>\n",
       "      <td>NaN</td>\n",
       "      <td>NaN</td>\n",
       "      <td>NaN</td>\n",
       "      <td>NaN</td>\n",
       "      <td>NaN</td>\n",
       "    </tr>\n",
       "    <tr>\n",
       "      <th>17</th>\n",
       "      <td>NaN</td>\n",
       "      <td>NaN</td>\n",
       "      <td>NaN</td>\n",
       "      <td>NaN</td>\n",
       "      <td>NaN</td>\n",
       "      <td>NaN</td>\n",
       "      <td>NaN</td>\n",
       "      <td>NaN</td>\n",
       "      <td>NaN</td>\n",
       "      <td>NaN</td>\n",
       "      <td>...</td>\n",
       "      <td>NaN</td>\n",
       "      <td>NaN</td>\n",
       "      <td>NaN</td>\n",
       "      <td>NaN</td>\n",
       "      <td>NaN</td>\n",
       "      <td>NaN</td>\n",
       "      <td>NaN</td>\n",
       "      <td>NaN</td>\n",
       "      <td>NaN</td>\n",
       "      <td>NaN</td>\n",
       "    </tr>\n",
       "    <tr>\n",
       "      <th>18</th>\n",
       "      <td>NaN</td>\n",
       "      <td>NaN</td>\n",
       "      <td>NaN</td>\n",
       "      <td>NaN</td>\n",
       "      <td>NaN</td>\n",
       "      <td>NaN</td>\n",
       "      <td>NaN</td>\n",
       "      <td>NaN</td>\n",
       "      <td>NaN</td>\n",
       "      <td>NaN</td>\n",
       "      <td>...</td>\n",
       "      <td>NaN</td>\n",
       "      <td>NaN</td>\n",
       "      <td>NaN</td>\n",
       "      <td>NaN</td>\n",
       "      <td>NaN</td>\n",
       "      <td>NaN</td>\n",
       "      <td>NaN</td>\n",
       "      <td>NaN</td>\n",
       "      <td>NaN</td>\n",
       "      <td>NaN</td>\n",
       "    </tr>\n",
       "    <tr>\n",
       "      <th>19</th>\n",
       "      <td>NaN</td>\n",
       "      <td>NaN</td>\n",
       "      <td>NaN</td>\n",
       "      <td>NaN</td>\n",
       "      <td>NaN</td>\n",
       "      <td>NaN</td>\n",
       "      <td>NaN</td>\n",
       "      <td>NaN</td>\n",
       "      <td>NaN</td>\n",
       "      <td>NaN</td>\n",
       "      <td>...</td>\n",
       "      <td>NaN</td>\n",
       "      <td>NaN</td>\n",
       "      <td>NaN</td>\n",
       "      <td>NaN</td>\n",
       "      <td>12.0</td>\n",
       "      <td>NaN</td>\n",
       "      <td>NaN</td>\n",
       "      <td>NaN</td>\n",
       "      <td>NaN</td>\n",
       "      <td>NaN</td>\n",
       "    </tr>\n",
       "    <tr>\n",
       "      <th>20</th>\n",
       "      <td>NaN</td>\n",
       "      <td>NaN</td>\n",
       "      <td>NaN</td>\n",
       "      <td>NaN</td>\n",
       "      <td>NaN</td>\n",
       "      <td>NaN</td>\n",
       "      <td>NaN</td>\n",
       "      <td>NaN</td>\n",
       "      <td>NaN</td>\n",
       "      <td>NaN</td>\n",
       "      <td>...</td>\n",
       "      <td>NaN</td>\n",
       "      <td>NaN</td>\n",
       "      <td>NaN</td>\n",
       "      <td>NaN</td>\n",
       "      <td>0.0</td>\n",
       "      <td>NaN</td>\n",
       "      <td>NaN</td>\n",
       "      <td>NaN</td>\n",
       "      <td>NaN</td>\n",
       "      <td>NaN</td>\n",
       "    </tr>\n",
       "    <tr>\n",
       "      <th>21</th>\n",
       "      <td>NaN</td>\n",
       "      <td>NaN</td>\n",
       "      <td>NaN</td>\n",
       "      <td>NaN</td>\n",
       "      <td>NaN</td>\n",
       "      <td>NaN</td>\n",
       "      <td>NaN</td>\n",
       "      <td>NaN</td>\n",
       "      <td>NaN</td>\n",
       "      <td>NaN</td>\n",
       "      <td>...</td>\n",
       "      <td>NaN</td>\n",
       "      <td>NaN</td>\n",
       "      <td>NaN</td>\n",
       "      <td>NaN</td>\n",
       "      <td>0.0</td>\n",
       "      <td>NaN</td>\n",
       "      <td>NaN</td>\n",
       "      <td>NaN</td>\n",
       "      <td>NaN</td>\n",
       "      <td>NaN</td>\n",
       "    </tr>\n",
       "    <tr>\n",
       "      <th>22</th>\n",
       "      <td>NaN</td>\n",
       "      <td>NaN</td>\n",
       "      <td>NaN</td>\n",
       "      <td>NaN</td>\n",
       "      <td>NaN</td>\n",
       "      <td>NaN</td>\n",
       "      <td>NaN</td>\n",
       "      <td>NaN</td>\n",
       "      <td>NaN</td>\n",
       "      <td>NaN</td>\n",
       "      <td>...</td>\n",
       "      <td>NaN</td>\n",
       "      <td>NaN</td>\n",
       "      <td>NaN</td>\n",
       "      <td>NaN</td>\n",
       "      <td>0.0</td>\n",
       "      <td>NaN</td>\n",
       "      <td>NaN</td>\n",
       "      <td>NaN</td>\n",
       "      <td>NaN</td>\n",
       "      <td>NaN</td>\n",
       "    </tr>\n",
       "    <tr>\n",
       "      <th>23</th>\n",
       "      <td>NaN</td>\n",
       "      <td>NaN</td>\n",
       "      <td>NaN</td>\n",
       "      <td>NaN</td>\n",
       "      <td>NaN</td>\n",
       "      <td>NaN</td>\n",
       "      <td>NaN</td>\n",
       "      <td>NaN</td>\n",
       "      <td>NaN</td>\n",
       "      <td>NaN</td>\n",
       "      <td>...</td>\n",
       "      <td>NaN</td>\n",
       "      <td>NaN</td>\n",
       "      <td>NaN</td>\n",
       "      <td>NaN</td>\n",
       "      <td>0.0</td>\n",
       "      <td>NaN</td>\n",
       "      <td>NaN</td>\n",
       "      <td>NaN</td>\n",
       "      <td>NaN</td>\n",
       "      <td>NaN</td>\n",
       "    </tr>\n",
       "    <tr>\n",
       "      <th>24</th>\n",
       "      <td>NaN</td>\n",
       "      <td>NaN</td>\n",
       "      <td>NaN</td>\n",
       "      <td>NaN</td>\n",
       "      <td>NaN</td>\n",
       "      <td>NaN</td>\n",
       "      <td>NaN</td>\n",
       "      <td>NaN</td>\n",
       "      <td>NaN</td>\n",
       "      <td>NaN</td>\n",
       "      <td>...</td>\n",
       "      <td>NaN</td>\n",
       "      <td>NaN</td>\n",
       "      <td>NaN</td>\n",
       "      <td>NaN</td>\n",
       "      <td>0.0</td>\n",
       "      <td>NaN</td>\n",
       "      <td>NaN</td>\n",
       "      <td>NaN</td>\n",
       "      <td>NaN</td>\n",
       "      <td>NaN</td>\n",
       "    </tr>\n",
       "    <tr>\n",
       "      <th>25</th>\n",
       "      <td>NaN</td>\n",
       "      <td>NaN</td>\n",
       "      <td>NaN</td>\n",
       "      <td>NaN</td>\n",
       "      <td>NaN</td>\n",
       "      <td>NaN</td>\n",
       "      <td>NaN</td>\n",
       "      <td>NaN</td>\n",
       "      <td>NaN</td>\n",
       "      <td>NaN</td>\n",
       "      <td>...</td>\n",
       "      <td>NaN</td>\n",
       "      <td>NaN</td>\n",
       "      <td>NaN</td>\n",
       "      <td>NaN</td>\n",
       "      <td>0.0</td>\n",
       "      <td>NaN</td>\n",
       "      <td>NaN</td>\n",
       "      <td>NaN</td>\n",
       "      <td>NaN</td>\n",
       "      <td>NaN</td>\n",
       "    </tr>\n",
       "    <tr>\n",
       "      <th>26</th>\n",
       "      <td>NaN</td>\n",
       "      <td>NaN</td>\n",
       "      <td>NaN</td>\n",
       "      <td>NaN</td>\n",
       "      <td>NaN</td>\n",
       "      <td>NaN</td>\n",
       "      <td>NaN</td>\n",
       "      <td>NaN</td>\n",
       "      <td>NaN</td>\n",
       "      <td>NaN</td>\n",
       "      <td>...</td>\n",
       "      <td>NaN</td>\n",
       "      <td>NaN</td>\n",
       "      <td>NaN</td>\n",
       "      <td>NaN</td>\n",
       "      <td>0.0</td>\n",
       "      <td>NaN</td>\n",
       "      <td>NaN</td>\n",
       "      <td>NaN</td>\n",
       "      <td>NaN</td>\n",
       "      <td>NaN</td>\n",
       "    </tr>\n",
       "    <tr>\n",
       "      <th>27</th>\n",
       "      <td>NaN</td>\n",
       "      <td>NaN</td>\n",
       "      <td>NaN</td>\n",
       "      <td>NaN</td>\n",
       "      <td>NaN</td>\n",
       "      <td>NaN</td>\n",
       "      <td>NaN</td>\n",
       "      <td>NaN</td>\n",
       "      <td>NaN</td>\n",
       "      <td>NaN</td>\n",
       "      <td>...</td>\n",
       "      <td>NaN</td>\n",
       "      <td>NaN</td>\n",
       "      <td>NaN</td>\n",
       "      <td>NaN</td>\n",
       "      <td>NaN</td>\n",
       "      <td>NaN</td>\n",
       "      <td>NaN</td>\n",
       "      <td>NaN</td>\n",
       "      <td>NaN</td>\n",
       "      <td>NaN</td>\n",
       "    </tr>\n",
       "    <tr>\n",
       "      <th>28</th>\n",
       "      <td>NaN</td>\n",
       "      <td>NaN</td>\n",
       "      <td>NaN</td>\n",
       "      <td>NaN</td>\n",
       "      <td>NaN</td>\n",
       "      <td>NaN</td>\n",
       "      <td>NaN</td>\n",
       "      <td>NaN</td>\n",
       "      <td>NaN</td>\n",
       "      <td>NaN</td>\n",
       "      <td>...</td>\n",
       "      <td>NaN</td>\n",
       "      <td>NaN</td>\n",
       "      <td>NaN</td>\n",
       "      <td>NaN</td>\n",
       "      <td>12.0</td>\n",
       "      <td>NaN</td>\n",
       "      <td>NaN</td>\n",
       "      <td>NaN</td>\n",
       "      <td>NaN</td>\n",
       "      <td>NaN</td>\n",
       "    </tr>\n",
       "  </tbody>\n",
       "</table>\n",
       "<p>29 rows × 63 columns</p>\n",
       "</div>"
      ],
      "text/plain": [
       "    INDEX VALUE  Priority  Team  Project Mgr. Building Code Building ID  \\\n",
       "0           1.0       1.0   NaN           NaN       VAMC-01        4160   \n",
       "1           2.0       2.0   NaN           NaN       VAMC-02        4161   \n",
       "2           3.0       3.0   NaN           NaN       VAMC-03        41??   \n",
       "3           4.0       4.0   NaN           NaN       VAMC-04        4162   \n",
       "4           5.0       5.0   NaN           NaN       VAMC-05        4164   \n",
       "5           6.0       6.0   NaN           NaN       VAMC-08        41??   \n",
       "6           7.0       7.0   NaN           NaN     VAMC-08.5        41??   \n",
       "7           8.0       8.0   NaN           NaN      VAMC-12A        41??   \n",
       "8           9.0       9.0   NaN           NaN       VAMC-34        4020   \n",
       "9          10.0      10.0   NaN           NaN       VAMC-35        41??   \n",
       "10         11.0      11.0   NaN           NaN      VAMC-35A        4165   \n",
       "11         12.0      12.0   NaN           NaN       VAMC-36        41??   \n",
       "12          NaN       NaN   NaN           NaN           NaN         NaN   \n",
       "13          NaN       NaN   NaN           NaN           NaN         NaN   \n",
       "14          NaN       NaN   NaN           NaN           NaN         NaN   \n",
       "15          NaN       NaN   NaN           NaN           NaN         NaN   \n",
       "16          NaN       NaN   NaN           NaN           NaN         NaN   \n",
       "17          NaN       NaN   NaN           NaN           NaN         NaN   \n",
       "18          NaN       NaN   NaN           NaN           NaN         NaN   \n",
       "19          NaN       NaN   NaN           NaN           NaN         NaN   \n",
       "20          NaN       NaN   NaN           NaN           NaN         NaN   \n",
       "21          NaN       NaN   NaN           NaN           NaN         NaN   \n",
       "22          NaN       NaN   NaN           NaN           NaN         NaN   \n",
       "23          NaN       NaN   NaN           NaN           NaN         NaN   \n",
       "24          NaN       NaN   NaN           NaN           NaN         NaN   \n",
       "25          NaN       NaN   NaN           NaN           NaN         NaN   \n",
       "26          NaN       NaN   NaN           NaN           NaN         NaN   \n",
       "27          NaN       NaN   NaN           NaN           NaN         NaN   \n",
       "28          NaN       NaN   NaN           NaN           NaN         NaN   \n",
       "\n",
       "        Building Description   Cluster # # closets  Legacy Switch Count  ...  \\\n",
       "0     VA MEDICAL CTR BLDG 01  C02-02 MDF         9                  NaN  ...   \n",
       "1     VA MEDICAL CTR BLDG 02      C02-02         4                  NaN  ...   \n",
       "2     VA MEDICAL CTR BLDG 03      C02-01         1                  NaN  ...   \n",
       "3     VA MEDICAL CTR BLDG 04      C02-01         1                  NaN  ...   \n",
       "4     VA MEDICAL CTR BLDG 05  C02-01 MDF         4                  NaN  ...   \n",
       "5     VA MEDICAL CTR BLDG 08      C02-01         1                  NaN  ...   \n",
       "6   VA MEDICAL CTR BLDG 08.5      C02-01         1                  NaN  ...   \n",
       "7    VA MEDICAL CTR BLDG 12A      C02-01         1                  NaN  ...   \n",
       "8     VA MEDICAL CTR BLDG 34      C02-01         1                  NaN  ...   \n",
       "9     VA MEDICAL CTR BLDG 35      C02-01         2                  NaN  ...   \n",
       "10   VA MEDICAL CTR BLDG 35A      C02-01         2                  NaN  ...   \n",
       "11    VA MEDICAL CTR BLDG 36      C02-01         1                  NaN  ...   \n",
       "12                       NaN         NaN        28                  0.0  ...   \n",
       "13                       NaN         NaN       NaN                  NaN  ...   \n",
       "14                       NaN         NaN       NaN                  NaN  ...   \n",
       "15                       NaN         NaN                            NaN  ...   \n",
       "16                       NaN         NaN       NaN                  NaN  ...   \n",
       "17                       NaN         NaN       NaN                  NaN  ...   \n",
       "18                       NaN         NaN       NaN                  NaN  ...   \n",
       "19                       NaN         NaN       NaN                  NaN  ...   \n",
       "20                       NaN         NaN       NaN                  NaN  ...   \n",
       "21                       NaN         NaN       NaN                  NaN  ...   \n",
       "22                       NaN         NaN       NaN                  NaN  ...   \n",
       "23                       NaN         NaN       NaN                  NaN  ...   \n",
       "24                       NaN         NaN       NaN                  NaN  ...   \n",
       "25                       NaN         NaN       NaN                  NaN  ...   \n",
       "26                       NaN         NaN       NaN                  NaN  ...   \n",
       "27                       NaN         NaN       NaN                  NaN  ...   \n",
       "28                       NaN         NaN       NaN                  NaN  ...   \n",
       "\n",
       "    Healthcare_VN  Voice_VN  PCI_VN  Building Communication Wired   \\\n",
       "0             0.0       0.0     0.0                            0.0   \n",
       "1             0.0       0.0     0.0                            0.0   \n",
       "2             0.0       0.0     0.0                            0.0   \n",
       "3             0.0       0.0     0.0                            0.0   \n",
       "4             0.0       0.0     0.0                            0.0   \n",
       "5             0.0       0.0     0.0                            0.0   \n",
       "6             0.0       0.0     0.0                            0.0   \n",
       "7             0.0       0.0     0.0                            0.0   \n",
       "8             0.0       0.0     0.0                            0.0   \n",
       "9             0.0       0.0     0.0                            0.0   \n",
       "10            0.0       0.0     0.0                            0.0   \n",
       "11            0.0       0.0     0.0                            0.0   \n",
       "12            0.0       0.0     0.0                            0.0   \n",
       "13            NaN       NaN     NaN                            NaN   \n",
       "14            NaN       NaN     NaN                            NaN   \n",
       "15            NaN       NaN     NaN                            NaN   \n",
       "16            NaN       NaN     NaN                            NaN   \n",
       "17            NaN       NaN     NaN                            NaN   \n",
       "18            NaN       NaN     NaN                            NaN   \n",
       "19            NaN       NaN     NaN                            NaN   \n",
       "20            NaN       NaN     NaN                            NaN   \n",
       "21            NaN       NaN     NaN                            NaN   \n",
       "22            NaN       NaN     NaN                            NaN   \n",
       "23            NaN       NaN     NaN                            NaN   \n",
       "24            NaN       NaN     NaN                            NaN   \n",
       "25            NaN       NaN     NaN                            NaN   \n",
       "26            NaN       NaN     NaN                            NaN   \n",
       "27            NaN       NaN     NaN                            NaN   \n",
       "28            NaN       NaN     NaN                            NaN   \n",
       "\n",
       "    Full Building Wired Network Services Cutover to NGN  \\\n",
       "0                                                 0.0     \n",
       "1                                                 0.0     \n",
       "2                                                 0.0     \n",
       "3                                                 0.0     \n",
       "4                                                 0.0     \n",
       "5                                                 0.0     \n",
       "6                                                 0.0     \n",
       "7                                                 0.0     \n",
       "8                                                 0.0     \n",
       "9                                                 0.0     \n",
       "10                                                0.0     \n",
       "11                                                0.0     \n",
       "12                                                0.0     \n",
       "13                                                NaN     \n",
       "14                                                NaN     \n",
       "15                                                NaN     \n",
       "16                                                NaN     \n",
       "17                                                NaN     \n",
       "18                                                NaN     \n",
       "19                                               12.0     \n",
       "20                                                0.0     \n",
       "21                                                0.0     \n",
       "22                                                0.0     \n",
       "23                                                0.0     \n",
       "24                                                0.0     \n",
       "25                                                0.0     \n",
       "26                                                0.0     \n",
       "27                                                NaN     \n",
       "28                                               12.0     \n",
       "\n",
       "    Building Comms Wireless   Wireless Cutover to NGN  \\\n",
       "0                        0.0                      0.0   \n",
       "1                        0.0                      0.0   \n",
       "2                        0.0                      0.0   \n",
       "3                        0.0                      0.0   \n",
       "4                        0.0                      0.0   \n",
       "5                        0.0                      0.0   \n",
       "6                        0.0                      0.0   \n",
       "7                        0.0                      0.0   \n",
       "8                        0.0                      0.0   \n",
       "9                        0.0                      0.0   \n",
       "10                       0.0                      0.0   \n",
       "11                       0.0                      0.0   \n",
       "12                       0.0                      0.0   \n",
       "13                       NaN                      NaN   \n",
       "14                       NaN                      NaN   \n",
       "15                       NaN                      NaN   \n",
       "16                       NaN                      NaN   \n",
       "17                       NaN                      NaN   \n",
       "18                       NaN                      NaN   \n",
       "19                       NaN                      NaN   \n",
       "20                       NaN                      NaN   \n",
       "21                       NaN                      NaN   \n",
       "22                       NaN                      NaN   \n",
       "23                       NaN                      NaN   \n",
       "24                       NaN                      NaN   \n",
       "25                       NaN                      NaN   \n",
       "26                       NaN                      NaN   \n",
       "27                       NaN                      NaN   \n",
       "28                       NaN                      NaN   \n",
       "\n",
       "   Legacy Cable & Equipment Removal  Building Comms Completion  \\\n",
       "0                               0.0                        0.0   \n",
       "1                               0.0                        0.0   \n",
       "2                               0.0                        0.0   \n",
       "3                               0.0                        0.0   \n",
       "4                               0.0                        0.0   \n",
       "5                               0.0                        0.0   \n",
       "6                               0.0                        0.0   \n",
       "7                               0.0                        0.0   \n",
       "8                               0.0                        0.0   \n",
       "9                               0.0                        0.0   \n",
       "10                              0.0                        0.0   \n",
       "11                              0.0                        0.0   \n",
       "12                              0.0                        0.0   \n",
       "13                              NaN                        NaN   \n",
       "14                              NaN                        NaN   \n",
       "15                              NaN                        NaN   \n",
       "16                              NaN                        NaN   \n",
       "17                              NaN                        NaN   \n",
       "18                              NaN                        NaN   \n",
       "19                              NaN                        NaN   \n",
       "20                              NaN                        NaN   \n",
       "21                              NaN                        NaN   \n",
       "22                              NaN                        NaN   \n",
       "23                              NaN                        NaN   \n",
       "24                              NaN                        NaN   \n",
       "25                              NaN                        NaN   \n",
       "26                              NaN                        NaN   \n",
       "27                              NaN                        NaN   \n",
       "28                              NaN                        NaN   \n",
       "\n",
       "    Lessons Learned  \n",
       "0               0.0  \n",
       "1               0.0  \n",
       "2               0.0  \n",
       "3               0.0  \n",
       "4               0.0  \n",
       "5               0.0  \n",
       "6               0.0  \n",
       "7               0.0  \n",
       "8               0.0  \n",
       "9               0.0  \n",
       "10              0.0  \n",
       "11              0.0  \n",
       "12              0.0  \n",
       "13              NaN  \n",
       "14              NaN  \n",
       "15              NaN  \n",
       "16              NaN  \n",
       "17              NaN  \n",
       "18              NaN  \n",
       "19              NaN  \n",
       "20              NaN  \n",
       "21              NaN  \n",
       "22              NaN  \n",
       "23              NaN  \n",
       "24              NaN  \n",
       "25              NaN  \n",
       "26              NaN  \n",
       "27              NaN  \n",
       "28              NaN  \n",
       "\n",
       "[29 rows x 63 columns]"
      ]
     },
     "execution_count": 167,
     "metadata": {},
     "output_type": "execute_result"
    }
   ],
   "source": [
    "df"
   ]
  },
  {
   "cell_type": "markdown",
   "metadata": {
    "slideshow": {
     "slide_type": "subslide"
    },
    "tags": []
   },
   "source": [
    "The column names should be converted the names of the fields used by the relational database."
   ]
  },
  {
   "cell_type": "code",
   "execution_count": 168,
   "metadata": {},
   "outputs": [],
   "source": [
    "sql_table_fields = [\n",
    "    'index',\n",
    "    'priority',\n",
    "    'team',\n",
    "    'project_manager',\n",
    "    'building_code',\n",
    "    'building_id',\n",
    "    'building_description',\n",
    "    'cluster_number',\n",
    "    'number_closets',\n",
    "    'legacy_switch_count',\n",
    "    'ngn_switch_count',\n",
    "    'aps',\n",
    "    'assigned_building_vn',\n",
    "    'cutover_type',\n",
    "    'known_special_networks',\n",
    "    'fabric_site_designation',\n",
    "    'wired_migration_date',\n",
    "    'wireless_migration_date',\n",
    "    'stage_1_complete',\n",
    "    'stage_2_3_complete',\n",
    "    'building_complete',\n",
    "    'program_building_communication',\n",
    "    'switch_discovery',\n",
    "    'extension_discovery',\n",
    "    'inter_fiber',\n",
    "    'building_coms_closet',\n",
    "    'closet_surveys',\n",
    "    'bldg_clstr_design',\n",
    "    'ip_discovery',\n",
    "    'speciality_vn',\n",
    "    'firewall_review',\n",
    "    'wap_predictive_review',\n",
    "    'business_questionnaire',\n",
    "    'building_comms_ddns',\n",
    "    'ddns',\n",
    "    'ip_av_printer_remediation',\n",
    "    'walkthrough_intrabuilding',\n",
    "    'bom_process',\n",
    "    'closet_remediation',\n",
    "    'switch_hardware_staging',\n",
    "    'logistics',\n",
    "    'switch_rack_stack',\n",
    "    'lan_automation',\n",
    "    'building_comms',\n",
    "    'wap_prep',\n",
    "    'qa_testing',\n",
    "    'printers_ngn',\n",
    "    'building_comms_app_testing',\n",
    "    'specialty_devices',\n",
    "    'user_specific_testing',\n",
    "    'safety_vn',\n",
    "    'bldgsys_vn',\n",
    "    'sciencenet_ngn',\n",
    "    'healthcare_vn',\n",
    "    'voice_vn',\n",
    "    'pci_vn',\n",
    "    'building_comms_wired',\n",
    "    'full_building_wired_cutover_ngn',\n",
    "    'building_comms_wireless',\n",
    "    'wireless_cutover_ngn',\n",
    "    'legacy_cable_removal',\n",
    "    'building_comms_completion',\n",
    "    'lessons_learned']"
   ]
  },
  {
   "cell_type": "markdown",
   "metadata": {
    "slideshow": {
     "slide_type": "subslide"
    },
    "tags": []
   },
   "source": [
    "Construct a lookup dictionary of `flattened_column_names` to `sql_table_fields`"
   ]
  },
  {
   "cell_type": "code",
   "execution_count": 169,
   "metadata": {},
   "outputs": [],
   "source": [
    "rename_map = dict(zip(flattened_column_names, sql_table_fields))"
   ]
  },
  {
   "cell_type": "code",
   "execution_count": 170,
   "metadata": {
    "slideshow": {
     "slide_type": "subslide"
    },
    "tags": []
   },
   "outputs": [
    {
     "data": {
      "text/plain": [
       "{'INDEX VALUE': 'index',\n",
       " 'Priority': 'priority',\n",
       " 'Team': 'team',\n",
       " 'Project Mgr.': 'project_manager',\n",
       " 'Building Code': 'building_code',\n",
       " 'Building ID': 'building_id',\n",
       " 'Building Description': 'building_description',\n",
       " 'Cluster #': 'cluster_number',\n",
       " '# closets': 'number_closets',\n",
       " 'Legacy Switch Count': 'legacy_switch_count',\n",
       " 'NGN Switch Count': 'ngn_switch_count',\n",
       " \"AP's\": 'aps',\n",
       " 'Assigned General Building VN': 'assigned_building_vn',\n",
       " 'Cutover Type': 'cutover_type',\n",
       " 'Known special use networks in building': 'known_special_networks',\n",
       " 'Fabric Site Designation': 'fabric_site_designation',\n",
       " 'Wired Migration Date\\n(tentative)': 'wired_migration_date',\n",
       " 'Wireless Migration Date': 'wireless_migration_date',\n",
       " 'STAGE 1': 'stage_1_complete',\n",
       " 'STAGE 2/3': 'stage_2_3_complete',\n",
       " 'Building': 'building_complete',\n",
       " 'Program and Building Communication': 'program_building_communication',\n",
       " 'Switch Discovery': 'switch_discovery',\n",
       " 'Extension Discovery & Design': 'extension_discovery',\n",
       " 'Inter-Fiber Discovery & Deployment': 'inter_fiber',\n",
       " 'Building Comms Closet Communication': 'building_coms_closet',\n",
       " 'Closet Surveys': 'closet_surveys',\n",
       " 'Bldg/Clstr -InterConnected Design': 'bldg_clstr_design',\n",
       " 'IP Discovery': 'ip_discovery',\n",
       " 'Speciality VN Device Discovery': 'speciality_vn',\n",
       " 'Firewall Review': 'firewall_review',\n",
       " 'WAP Predictive Review': 'wap_predictive_review',\n",
       " 'Business Questionnaire': 'business_questionnaire',\n",
       " 'Building Comms DDNS Awareness': 'building_comms_ddns',\n",
       " 'DDNS': 'ddns',\n",
       " 'IP, AV, & Printer Remediation': 'ip_av_printer_remediation',\n",
       " 'Walkthrough & Intrabuilding Architecture Design': 'walkthrough_intrabuilding',\n",
       " 'BOM Process': 'bom_process',\n",
       " 'Closet Remediation': 'closet_remediation',\n",
       " 'Switch Hardware Staging': 'switch_hardware_staging',\n",
       " 'Logistics': 'logistics',\n",
       " 'Switch Rack & Stack': 'switch_rack_stack',\n",
       " 'LAN Automation (Fabric Connection)': 'lan_automation',\n",
       " 'Building Communications': 'building_comms',\n",
       " 'WAP Prep': 'wap_prep',\n",
       " 'QA Testing': 'qa_testing',\n",
       " 'Printers to NGN': 'printers_ngn',\n",
       " 'Building Comms - User Specific App Testing Awareness - Building Ops Awareness': 'building_comms_app_testing',\n",
       " 'Specialty Devices to NGN': 'specialty_devices',\n",
       " 'User Specific Testing': 'user_specific_testing',\n",
       " 'Safety_VN': 'safety_vn',\n",
       " 'BLDGSYS_VN': 'bldgsys_vn',\n",
       " 'ScienceNet to NGN': 'sciencenet_ngn',\n",
       " 'Healthcare_VN': 'healthcare_vn',\n",
       " 'Voice_VN': 'voice_vn',\n",
       " 'PCI_VN': 'pci_vn',\n",
       " 'Building Communication Wired ': 'building_comms_wired',\n",
       " 'Full Building Wired Network Services Cutover to NGN': 'full_building_wired_cutover_ngn',\n",
       " 'Building Comms Wireless ': 'building_comms_wireless',\n",
       " 'Wireless Cutover to NGN': 'wireless_cutover_ngn',\n",
       " 'Legacy Cable & Equipment Removal': 'legacy_cable_removal',\n",
       " 'Building Comms Completion': 'building_comms_completion',\n",
       " 'Lessons Learned': 'lessons_learned'}"
      ]
     },
     "execution_count": 170,
     "metadata": {},
     "output_type": "execute_result"
    }
   ],
   "source": [
    "rename_map"
   ]
  },
  {
   "cell_type": "markdown",
   "metadata": {
    "slideshow": {
     "slide_type": "subslide"
    },
    "tags": []
   },
   "source": [
    "Rename the dataframe fields"
   ]
  },
  {
   "cell_type": "code",
   "execution_count": 171,
   "metadata": {
    "slideshow": {
     "slide_type": "subslide"
    },
    "tags": []
   },
   "outputs": [],
   "source": [
    "df.rename(columns=rename_map, inplace=True)"
   ]
  },
  {
   "cell_type": "code",
   "execution_count": 176,
   "metadata": {
    "tags": []
   },
   "outputs": [
    {
     "data": {
      "text/html": [
       "<div>\n",
       "<style scoped>\n",
       "    .dataframe tbody tr th:only-of-type {\n",
       "        vertical-align: middle;\n",
       "    }\n",
       "\n",
       "    .dataframe tbody tr th {\n",
       "        vertical-align: top;\n",
       "    }\n",
       "\n",
       "    .dataframe thead th {\n",
       "        text-align: right;\n",
       "    }\n",
       "</style>\n",
       "<table border=\"1\" class=\"dataframe\">\n",
       "  <thead>\n",
       "    <tr style=\"text-align: right;\">\n",
       "      <th></th>\n",
       "      <th>index</th>\n",
       "      <th>priority</th>\n",
       "      <th>team</th>\n",
       "      <th>project_manager</th>\n",
       "      <th>building_code</th>\n",
       "      <th>building_id</th>\n",
       "      <th>building_description</th>\n",
       "      <th>cluster_number</th>\n",
       "      <th>number_closets</th>\n",
       "      <th>legacy_switch_count</th>\n",
       "      <th>...</th>\n",
       "      <th>healthcare_vn</th>\n",
       "      <th>voice_vn</th>\n",
       "      <th>pci_vn</th>\n",
       "      <th>building_comms_wired</th>\n",
       "      <th>full_building_wired_cutover_ngn</th>\n",
       "      <th>building_comms_wireless</th>\n",
       "      <th>wireless_cutover_ngn</th>\n",
       "      <th>legacy_cable_removal</th>\n",
       "      <th>building_comms_completion</th>\n",
       "      <th>lessons_learned</th>\n",
       "    </tr>\n",
       "  </thead>\n",
       "  <tbody>\n",
       "    <tr>\n",
       "      <th>0</th>\n",
       "      <td>1.0</td>\n",
       "      <td>1.0</td>\n",
       "      <td>NaN</td>\n",
       "      <td>NaN</td>\n",
       "      <td>VAMC-01</td>\n",
       "      <td>4160</td>\n",
       "      <td>VA MEDICAL CTR BLDG 01</td>\n",
       "      <td>C02-02 MDF</td>\n",
       "      <td>9</td>\n",
       "      <td>NaN</td>\n",
       "      <td>...</td>\n",
       "      <td>0.0</td>\n",
       "      <td>0.0</td>\n",
       "      <td>0.0</td>\n",
       "      <td>0.0</td>\n",
       "      <td>0.0</td>\n",
       "      <td>0.0</td>\n",
       "      <td>0.0</td>\n",
       "      <td>0.0</td>\n",
       "      <td>0.0</td>\n",
       "      <td>0.0</td>\n",
       "    </tr>\n",
       "    <tr>\n",
       "      <th>1</th>\n",
       "      <td>2.0</td>\n",
       "      <td>2.0</td>\n",
       "      <td>NaN</td>\n",
       "      <td>NaN</td>\n",
       "      <td>VAMC-02</td>\n",
       "      <td>4161</td>\n",
       "      <td>VA MEDICAL CTR BLDG 02</td>\n",
       "      <td>C02-02</td>\n",
       "      <td>4</td>\n",
       "      <td>NaN</td>\n",
       "      <td>...</td>\n",
       "      <td>0.0</td>\n",
       "      <td>0.0</td>\n",
       "      <td>0.0</td>\n",
       "      <td>0.0</td>\n",
       "      <td>0.0</td>\n",
       "      <td>0.0</td>\n",
       "      <td>0.0</td>\n",
       "      <td>0.0</td>\n",
       "      <td>0.0</td>\n",
       "      <td>0.0</td>\n",
       "    </tr>\n",
       "    <tr>\n",
       "      <th>2</th>\n",
       "      <td>3.0</td>\n",
       "      <td>3.0</td>\n",
       "      <td>NaN</td>\n",
       "      <td>NaN</td>\n",
       "      <td>VAMC-03</td>\n",
       "      <td>41??</td>\n",
       "      <td>VA MEDICAL CTR BLDG 03</td>\n",
       "      <td>C02-01</td>\n",
       "      <td>1</td>\n",
       "      <td>NaN</td>\n",
       "      <td>...</td>\n",
       "      <td>0.0</td>\n",
       "      <td>0.0</td>\n",
       "      <td>0.0</td>\n",
       "      <td>0.0</td>\n",
       "      <td>0.0</td>\n",
       "      <td>0.0</td>\n",
       "      <td>0.0</td>\n",
       "      <td>0.0</td>\n",
       "      <td>0.0</td>\n",
       "      <td>0.0</td>\n",
       "    </tr>\n",
       "    <tr>\n",
       "      <th>3</th>\n",
       "      <td>4.0</td>\n",
       "      <td>4.0</td>\n",
       "      <td>NaN</td>\n",
       "      <td>NaN</td>\n",
       "      <td>VAMC-04</td>\n",
       "      <td>4162</td>\n",
       "      <td>VA MEDICAL CTR BLDG 04</td>\n",
       "      <td>C02-01</td>\n",
       "      <td>1</td>\n",
       "      <td>NaN</td>\n",
       "      <td>...</td>\n",
       "      <td>0.0</td>\n",
       "      <td>0.0</td>\n",
       "      <td>0.0</td>\n",
       "      <td>0.0</td>\n",
       "      <td>0.0</td>\n",
       "      <td>0.0</td>\n",
       "      <td>0.0</td>\n",
       "      <td>0.0</td>\n",
       "      <td>0.0</td>\n",
       "      <td>0.0</td>\n",
       "    </tr>\n",
       "    <tr>\n",
       "      <th>4</th>\n",
       "      <td>5.0</td>\n",
       "      <td>5.0</td>\n",
       "      <td>NaN</td>\n",
       "      <td>NaN</td>\n",
       "      <td>VAMC-05</td>\n",
       "      <td>4164</td>\n",
       "      <td>VA MEDICAL CTR BLDG 05</td>\n",
       "      <td>C02-01 MDF</td>\n",
       "      <td>4</td>\n",
       "      <td>NaN</td>\n",
       "      <td>...</td>\n",
       "      <td>0.0</td>\n",
       "      <td>0.0</td>\n",
       "      <td>0.0</td>\n",
       "      <td>0.0</td>\n",
       "      <td>0.0</td>\n",
       "      <td>0.0</td>\n",
       "      <td>0.0</td>\n",
       "      <td>0.0</td>\n",
       "      <td>0.0</td>\n",
       "      <td>0.0</td>\n",
       "    </tr>\n",
       "    <tr>\n",
       "      <th>5</th>\n",
       "      <td>6.0</td>\n",
       "      <td>6.0</td>\n",
       "      <td>NaN</td>\n",
       "      <td>NaN</td>\n",
       "      <td>VAMC-08</td>\n",
       "      <td>41??</td>\n",
       "      <td>VA MEDICAL CTR BLDG 08</td>\n",
       "      <td>C02-01</td>\n",
       "      <td>1</td>\n",
       "      <td>NaN</td>\n",
       "      <td>...</td>\n",
       "      <td>0.0</td>\n",
       "      <td>0.0</td>\n",
       "      <td>0.0</td>\n",
       "      <td>0.0</td>\n",
       "      <td>0.0</td>\n",
       "      <td>0.0</td>\n",
       "      <td>0.0</td>\n",
       "      <td>0.0</td>\n",
       "      <td>0.0</td>\n",
       "      <td>0.0</td>\n",
       "    </tr>\n",
       "    <tr>\n",
       "      <th>6</th>\n",
       "      <td>7.0</td>\n",
       "      <td>7.0</td>\n",
       "      <td>NaN</td>\n",
       "      <td>NaN</td>\n",
       "      <td>VAMC-08.5</td>\n",
       "      <td>41??</td>\n",
       "      <td>VA MEDICAL CTR BLDG 08.5</td>\n",
       "      <td>C02-01</td>\n",
       "      <td>1</td>\n",
       "      <td>NaN</td>\n",
       "      <td>...</td>\n",
       "      <td>0.0</td>\n",
       "      <td>0.0</td>\n",
       "      <td>0.0</td>\n",
       "      <td>0.0</td>\n",
       "      <td>0.0</td>\n",
       "      <td>0.0</td>\n",
       "      <td>0.0</td>\n",
       "      <td>0.0</td>\n",
       "      <td>0.0</td>\n",
       "      <td>0.0</td>\n",
       "    </tr>\n",
       "    <tr>\n",
       "      <th>7</th>\n",
       "      <td>8.0</td>\n",
       "      <td>8.0</td>\n",
       "      <td>NaN</td>\n",
       "      <td>NaN</td>\n",
       "      <td>VAMC-12A</td>\n",
       "      <td>41??</td>\n",
       "      <td>VA MEDICAL CTR BLDG 12A</td>\n",
       "      <td>C02-01</td>\n",
       "      <td>1</td>\n",
       "      <td>NaN</td>\n",
       "      <td>...</td>\n",
       "      <td>0.0</td>\n",
       "      <td>0.0</td>\n",
       "      <td>0.0</td>\n",
       "      <td>0.0</td>\n",
       "      <td>0.0</td>\n",
       "      <td>0.0</td>\n",
       "      <td>0.0</td>\n",
       "      <td>0.0</td>\n",
       "      <td>0.0</td>\n",
       "      <td>0.0</td>\n",
       "    </tr>\n",
       "    <tr>\n",
       "      <th>8</th>\n",
       "      <td>9.0</td>\n",
       "      <td>9.0</td>\n",
       "      <td>NaN</td>\n",
       "      <td>NaN</td>\n",
       "      <td>VAMC-34</td>\n",
       "      <td>4020</td>\n",
       "      <td>VA MEDICAL CTR BLDG 34</td>\n",
       "      <td>C02-01</td>\n",
       "      <td>1</td>\n",
       "      <td>NaN</td>\n",
       "      <td>...</td>\n",
       "      <td>0.0</td>\n",
       "      <td>0.0</td>\n",
       "      <td>0.0</td>\n",
       "      <td>0.0</td>\n",
       "      <td>0.0</td>\n",
       "      <td>0.0</td>\n",
       "      <td>0.0</td>\n",
       "      <td>0.0</td>\n",
       "      <td>0.0</td>\n",
       "      <td>0.0</td>\n",
       "    </tr>\n",
       "    <tr>\n",
       "      <th>9</th>\n",
       "      <td>10.0</td>\n",
       "      <td>10.0</td>\n",
       "      <td>NaN</td>\n",
       "      <td>NaN</td>\n",
       "      <td>VAMC-35</td>\n",
       "      <td>41??</td>\n",
       "      <td>VA MEDICAL CTR BLDG 35</td>\n",
       "      <td>C02-01</td>\n",
       "      <td>2</td>\n",
       "      <td>NaN</td>\n",
       "      <td>...</td>\n",
       "      <td>0.0</td>\n",
       "      <td>0.0</td>\n",
       "      <td>0.0</td>\n",
       "      <td>0.0</td>\n",
       "      <td>0.0</td>\n",
       "      <td>0.0</td>\n",
       "      <td>0.0</td>\n",
       "      <td>0.0</td>\n",
       "      <td>0.0</td>\n",
       "      <td>0.0</td>\n",
       "    </tr>\n",
       "    <tr>\n",
       "      <th>10</th>\n",
       "      <td>11.0</td>\n",
       "      <td>11.0</td>\n",
       "      <td>NaN</td>\n",
       "      <td>NaN</td>\n",
       "      <td>VAMC-35A</td>\n",
       "      <td>4165</td>\n",
       "      <td>VA MEDICAL CTR BLDG 35A</td>\n",
       "      <td>C02-01</td>\n",
       "      <td>2</td>\n",
       "      <td>NaN</td>\n",
       "      <td>...</td>\n",
       "      <td>0.0</td>\n",
       "      <td>0.0</td>\n",
       "      <td>0.0</td>\n",
       "      <td>0.0</td>\n",
       "      <td>0.0</td>\n",
       "      <td>0.0</td>\n",
       "      <td>0.0</td>\n",
       "      <td>0.0</td>\n",
       "      <td>0.0</td>\n",
       "      <td>0.0</td>\n",
       "    </tr>\n",
       "    <tr>\n",
       "      <th>11</th>\n",
       "      <td>12.0</td>\n",
       "      <td>12.0</td>\n",
       "      <td>NaN</td>\n",
       "      <td>NaN</td>\n",
       "      <td>VAMC-36</td>\n",
       "      <td>41??</td>\n",
       "      <td>VA MEDICAL CTR BLDG 36</td>\n",
       "      <td>C02-01</td>\n",
       "      <td>1</td>\n",
       "      <td>NaN</td>\n",
       "      <td>...</td>\n",
       "      <td>0.0</td>\n",
       "      <td>0.0</td>\n",
       "      <td>0.0</td>\n",
       "      <td>0.0</td>\n",
       "      <td>0.0</td>\n",
       "      <td>0.0</td>\n",
       "      <td>0.0</td>\n",
       "      <td>0.0</td>\n",
       "      <td>0.0</td>\n",
       "      <td>0.0</td>\n",
       "    </tr>\n",
       "    <tr>\n",
       "      <th>12</th>\n",
       "      <td>NaN</td>\n",
       "      <td>NaN</td>\n",
       "      <td>NaN</td>\n",
       "      <td>NaN</td>\n",
       "      <td>NaN</td>\n",
       "      <td>NaN</td>\n",
       "      <td>NaN</td>\n",
       "      <td>NaN</td>\n",
       "      <td>28</td>\n",
       "      <td>0.0</td>\n",
       "      <td>...</td>\n",
       "      <td>0.0</td>\n",
       "      <td>0.0</td>\n",
       "      <td>0.0</td>\n",
       "      <td>0.0</td>\n",
       "      <td>0.0</td>\n",
       "      <td>0.0</td>\n",
       "      <td>0.0</td>\n",
       "      <td>0.0</td>\n",
       "      <td>0.0</td>\n",
       "      <td>0.0</td>\n",
       "    </tr>\n",
       "    <tr>\n",
       "      <th>13</th>\n",
       "      <td>NaN</td>\n",
       "      <td>NaN</td>\n",
       "      <td>NaN</td>\n",
       "      <td>NaN</td>\n",
       "      <td>NaN</td>\n",
       "      <td>NaN</td>\n",
       "      <td>NaN</td>\n",
       "      <td>NaN</td>\n",
       "      <td>NaN</td>\n",
       "      <td>NaN</td>\n",
       "      <td>...</td>\n",
       "      <td>NaN</td>\n",
       "      <td>NaN</td>\n",
       "      <td>NaN</td>\n",
       "      <td>NaN</td>\n",
       "      <td>NaN</td>\n",
       "      <td>NaN</td>\n",
       "      <td>NaN</td>\n",
       "      <td>NaN</td>\n",
       "      <td>NaN</td>\n",
       "      <td>NaN</td>\n",
       "    </tr>\n",
       "    <tr>\n",
       "      <th>14</th>\n",
       "      <td>NaN</td>\n",
       "      <td>NaN</td>\n",
       "      <td>NaN</td>\n",
       "      <td>NaN</td>\n",
       "      <td>NaN</td>\n",
       "      <td>NaN</td>\n",
       "      <td>NaN</td>\n",
       "      <td>NaN</td>\n",
       "      <td>NaN</td>\n",
       "      <td>NaN</td>\n",
       "      <td>...</td>\n",
       "      <td>NaN</td>\n",
       "      <td>NaN</td>\n",
       "      <td>NaN</td>\n",
       "      <td>NaN</td>\n",
       "      <td>NaN</td>\n",
       "      <td>NaN</td>\n",
       "      <td>NaN</td>\n",
       "      <td>NaN</td>\n",
       "      <td>NaN</td>\n",
       "      <td>NaN</td>\n",
       "    </tr>\n",
       "    <tr>\n",
       "      <th>15</th>\n",
       "      <td>NaN</td>\n",
       "      <td>NaN</td>\n",
       "      <td>NaN</td>\n",
       "      <td>NaN</td>\n",
       "      <td>NaN</td>\n",
       "      <td>NaN</td>\n",
       "      <td>NaN</td>\n",
       "      <td>NaN</td>\n",
       "      <td></td>\n",
       "      <td>NaN</td>\n",
       "      <td>...</td>\n",
       "      <td>NaN</td>\n",
       "      <td>NaN</td>\n",
       "      <td>NaN</td>\n",
       "      <td>NaN</td>\n",
       "      <td>NaN</td>\n",
       "      <td>NaN</td>\n",
       "      <td>NaN</td>\n",
       "      <td>NaN</td>\n",
       "      <td>NaN</td>\n",
       "      <td>NaN</td>\n",
       "    </tr>\n",
       "    <tr>\n",
       "      <th>16</th>\n",
       "      <td>NaN</td>\n",
       "      <td>NaN</td>\n",
       "      <td>NaN</td>\n",
       "      <td>NaN</td>\n",
       "      <td>NaN</td>\n",
       "      <td>NaN</td>\n",
       "      <td>NaN</td>\n",
       "      <td>NaN</td>\n",
       "      <td>NaN</td>\n",
       "      <td>NaN</td>\n",
       "      <td>...</td>\n",
       "      <td>NaN</td>\n",
       "      <td>NaN</td>\n",
       "      <td>NaN</td>\n",
       "      <td>NaN</td>\n",
       "      <td>NaN</td>\n",
       "      <td>NaN</td>\n",
       "      <td>NaN</td>\n",
       "      <td>NaN</td>\n",
       "      <td>NaN</td>\n",
       "      <td>NaN</td>\n",
       "    </tr>\n",
       "    <tr>\n",
       "      <th>17</th>\n",
       "      <td>NaN</td>\n",
       "      <td>NaN</td>\n",
       "      <td>NaN</td>\n",
       "      <td>NaN</td>\n",
       "      <td>NaN</td>\n",
       "      <td>NaN</td>\n",
       "      <td>NaN</td>\n",
       "      <td>NaN</td>\n",
       "      <td>NaN</td>\n",
       "      <td>NaN</td>\n",
       "      <td>...</td>\n",
       "      <td>NaN</td>\n",
       "      <td>NaN</td>\n",
       "      <td>NaN</td>\n",
       "      <td>NaN</td>\n",
       "      <td>NaN</td>\n",
       "      <td>NaN</td>\n",
       "      <td>NaN</td>\n",
       "      <td>NaN</td>\n",
       "      <td>NaN</td>\n",
       "      <td>NaN</td>\n",
       "    </tr>\n",
       "    <tr>\n",
       "      <th>18</th>\n",
       "      <td>NaN</td>\n",
       "      <td>NaN</td>\n",
       "      <td>NaN</td>\n",
       "      <td>NaN</td>\n",
       "      <td>NaN</td>\n",
       "      <td>NaN</td>\n",
       "      <td>NaN</td>\n",
       "      <td>NaN</td>\n",
       "      <td>NaN</td>\n",
       "      <td>NaN</td>\n",
       "      <td>...</td>\n",
       "      <td>NaN</td>\n",
       "      <td>NaN</td>\n",
       "      <td>NaN</td>\n",
       "      <td>NaN</td>\n",
       "      <td>NaN</td>\n",
       "      <td>NaN</td>\n",
       "      <td>NaN</td>\n",
       "      <td>NaN</td>\n",
       "      <td>NaN</td>\n",
       "      <td>NaN</td>\n",
       "    </tr>\n",
       "    <tr>\n",
       "      <th>19</th>\n",
       "      <td>NaN</td>\n",
       "      <td>NaN</td>\n",
       "      <td>NaN</td>\n",
       "      <td>NaN</td>\n",
       "      <td>NaN</td>\n",
       "      <td>NaN</td>\n",
       "      <td>NaN</td>\n",
       "      <td>NaN</td>\n",
       "      <td>NaN</td>\n",
       "      <td>NaN</td>\n",
       "      <td>...</td>\n",
       "      <td>NaN</td>\n",
       "      <td>NaN</td>\n",
       "      <td>NaN</td>\n",
       "      <td>NaN</td>\n",
       "      <td>12.0</td>\n",
       "      <td>NaN</td>\n",
       "      <td>NaN</td>\n",
       "      <td>NaN</td>\n",
       "      <td>NaN</td>\n",
       "      <td>NaN</td>\n",
       "    </tr>\n",
       "    <tr>\n",
       "      <th>20</th>\n",
       "      <td>NaN</td>\n",
       "      <td>NaN</td>\n",
       "      <td>NaN</td>\n",
       "      <td>NaN</td>\n",
       "      <td>NaN</td>\n",
       "      <td>NaN</td>\n",
       "      <td>NaN</td>\n",
       "      <td>NaN</td>\n",
       "      <td>NaN</td>\n",
       "      <td>NaN</td>\n",
       "      <td>...</td>\n",
       "      <td>NaN</td>\n",
       "      <td>NaN</td>\n",
       "      <td>NaN</td>\n",
       "      <td>NaN</td>\n",
       "      <td>0.0</td>\n",
       "      <td>NaN</td>\n",
       "      <td>NaN</td>\n",
       "      <td>NaN</td>\n",
       "      <td>NaN</td>\n",
       "      <td>NaN</td>\n",
       "    </tr>\n",
       "    <tr>\n",
       "      <th>21</th>\n",
       "      <td>NaN</td>\n",
       "      <td>NaN</td>\n",
       "      <td>NaN</td>\n",
       "      <td>NaN</td>\n",
       "      <td>NaN</td>\n",
       "      <td>NaN</td>\n",
       "      <td>NaN</td>\n",
       "      <td>NaN</td>\n",
       "      <td>NaN</td>\n",
       "      <td>NaN</td>\n",
       "      <td>...</td>\n",
       "      <td>NaN</td>\n",
       "      <td>NaN</td>\n",
       "      <td>NaN</td>\n",
       "      <td>NaN</td>\n",
       "      <td>0.0</td>\n",
       "      <td>NaN</td>\n",
       "      <td>NaN</td>\n",
       "      <td>NaN</td>\n",
       "      <td>NaN</td>\n",
       "      <td>NaN</td>\n",
       "    </tr>\n",
       "    <tr>\n",
       "      <th>22</th>\n",
       "      <td>NaN</td>\n",
       "      <td>NaN</td>\n",
       "      <td>NaN</td>\n",
       "      <td>NaN</td>\n",
       "      <td>NaN</td>\n",
       "      <td>NaN</td>\n",
       "      <td>NaN</td>\n",
       "      <td>NaN</td>\n",
       "      <td>NaN</td>\n",
       "      <td>NaN</td>\n",
       "      <td>...</td>\n",
       "      <td>NaN</td>\n",
       "      <td>NaN</td>\n",
       "      <td>NaN</td>\n",
       "      <td>NaN</td>\n",
       "      <td>0.0</td>\n",
       "      <td>NaN</td>\n",
       "      <td>NaN</td>\n",
       "      <td>NaN</td>\n",
       "      <td>NaN</td>\n",
       "      <td>NaN</td>\n",
       "    </tr>\n",
       "    <tr>\n",
       "      <th>23</th>\n",
       "      <td>NaN</td>\n",
       "      <td>NaN</td>\n",
       "      <td>NaN</td>\n",
       "      <td>NaN</td>\n",
       "      <td>NaN</td>\n",
       "      <td>NaN</td>\n",
       "      <td>NaN</td>\n",
       "      <td>NaN</td>\n",
       "      <td>NaN</td>\n",
       "      <td>NaN</td>\n",
       "      <td>...</td>\n",
       "      <td>NaN</td>\n",
       "      <td>NaN</td>\n",
       "      <td>NaN</td>\n",
       "      <td>NaN</td>\n",
       "      <td>0.0</td>\n",
       "      <td>NaN</td>\n",
       "      <td>NaN</td>\n",
       "      <td>NaN</td>\n",
       "      <td>NaN</td>\n",
       "      <td>NaN</td>\n",
       "    </tr>\n",
       "    <tr>\n",
       "      <th>24</th>\n",
       "      <td>NaN</td>\n",
       "      <td>NaN</td>\n",
       "      <td>NaN</td>\n",
       "      <td>NaN</td>\n",
       "      <td>NaN</td>\n",
       "      <td>NaN</td>\n",
       "      <td>NaN</td>\n",
       "      <td>NaN</td>\n",
       "      <td>NaN</td>\n",
       "      <td>NaN</td>\n",
       "      <td>...</td>\n",
       "      <td>NaN</td>\n",
       "      <td>NaN</td>\n",
       "      <td>NaN</td>\n",
       "      <td>NaN</td>\n",
       "      <td>0.0</td>\n",
       "      <td>NaN</td>\n",
       "      <td>NaN</td>\n",
       "      <td>NaN</td>\n",
       "      <td>NaN</td>\n",
       "      <td>NaN</td>\n",
       "    </tr>\n",
       "    <tr>\n",
       "      <th>25</th>\n",
       "      <td>NaN</td>\n",
       "      <td>NaN</td>\n",
       "      <td>NaN</td>\n",
       "      <td>NaN</td>\n",
       "      <td>NaN</td>\n",
       "      <td>NaN</td>\n",
       "      <td>NaN</td>\n",
       "      <td>NaN</td>\n",
       "      <td>NaN</td>\n",
       "      <td>NaN</td>\n",
       "      <td>...</td>\n",
       "      <td>NaN</td>\n",
       "      <td>NaN</td>\n",
       "      <td>NaN</td>\n",
       "      <td>NaN</td>\n",
       "      <td>0.0</td>\n",
       "      <td>NaN</td>\n",
       "      <td>NaN</td>\n",
       "      <td>NaN</td>\n",
       "      <td>NaN</td>\n",
       "      <td>NaN</td>\n",
       "    </tr>\n",
       "    <tr>\n",
       "      <th>26</th>\n",
       "      <td>NaN</td>\n",
       "      <td>NaN</td>\n",
       "      <td>NaN</td>\n",
       "      <td>NaN</td>\n",
       "      <td>NaN</td>\n",
       "      <td>NaN</td>\n",
       "      <td>NaN</td>\n",
       "      <td>NaN</td>\n",
       "      <td>NaN</td>\n",
       "      <td>NaN</td>\n",
       "      <td>...</td>\n",
       "      <td>NaN</td>\n",
       "      <td>NaN</td>\n",
       "      <td>NaN</td>\n",
       "      <td>NaN</td>\n",
       "      <td>0.0</td>\n",
       "      <td>NaN</td>\n",
       "      <td>NaN</td>\n",
       "      <td>NaN</td>\n",
       "      <td>NaN</td>\n",
       "      <td>NaN</td>\n",
       "    </tr>\n",
       "    <tr>\n",
       "      <th>27</th>\n",
       "      <td>NaN</td>\n",
       "      <td>NaN</td>\n",
       "      <td>NaN</td>\n",
       "      <td>NaN</td>\n",
       "      <td>NaN</td>\n",
       "      <td>NaN</td>\n",
       "      <td>NaN</td>\n",
       "      <td>NaN</td>\n",
       "      <td>NaN</td>\n",
       "      <td>NaN</td>\n",
       "      <td>...</td>\n",
       "      <td>NaN</td>\n",
       "      <td>NaN</td>\n",
       "      <td>NaN</td>\n",
       "      <td>NaN</td>\n",
       "      <td>NaN</td>\n",
       "      <td>NaN</td>\n",
       "      <td>NaN</td>\n",
       "      <td>NaN</td>\n",
       "      <td>NaN</td>\n",
       "      <td>NaN</td>\n",
       "    </tr>\n",
       "    <tr>\n",
       "      <th>28</th>\n",
       "      <td>NaN</td>\n",
       "      <td>NaN</td>\n",
       "      <td>NaN</td>\n",
       "      <td>NaN</td>\n",
       "      <td>NaN</td>\n",
       "      <td>NaN</td>\n",
       "      <td>NaN</td>\n",
       "      <td>NaN</td>\n",
       "      <td>NaN</td>\n",
       "      <td>NaN</td>\n",
       "      <td>...</td>\n",
       "      <td>NaN</td>\n",
       "      <td>NaN</td>\n",
       "      <td>NaN</td>\n",
       "      <td>NaN</td>\n",
       "      <td>12.0</td>\n",
       "      <td>NaN</td>\n",
       "      <td>NaN</td>\n",
       "      <td>NaN</td>\n",
       "      <td>NaN</td>\n",
       "      <td>NaN</td>\n",
       "    </tr>\n",
       "  </tbody>\n",
       "</table>\n",
       "<p>29 rows × 63 columns</p>\n",
       "</div>"
      ],
      "text/plain": [
       "    index  priority  team  project_manager building_code building_id  \\\n",
       "0     1.0       1.0   NaN              NaN       VAMC-01        4160   \n",
       "1     2.0       2.0   NaN              NaN       VAMC-02        4161   \n",
       "2     3.0       3.0   NaN              NaN       VAMC-03        41??   \n",
       "3     4.0       4.0   NaN              NaN       VAMC-04        4162   \n",
       "4     5.0       5.0   NaN              NaN       VAMC-05        4164   \n",
       "5     6.0       6.0   NaN              NaN       VAMC-08        41??   \n",
       "6     7.0       7.0   NaN              NaN     VAMC-08.5        41??   \n",
       "7     8.0       8.0   NaN              NaN      VAMC-12A        41??   \n",
       "8     9.0       9.0   NaN              NaN       VAMC-34        4020   \n",
       "9    10.0      10.0   NaN              NaN       VAMC-35        41??   \n",
       "10   11.0      11.0   NaN              NaN      VAMC-35A        4165   \n",
       "11   12.0      12.0   NaN              NaN       VAMC-36        41??   \n",
       "12    NaN       NaN   NaN              NaN           NaN         NaN   \n",
       "13    NaN       NaN   NaN              NaN           NaN         NaN   \n",
       "14    NaN       NaN   NaN              NaN           NaN         NaN   \n",
       "15    NaN       NaN   NaN              NaN           NaN         NaN   \n",
       "16    NaN       NaN   NaN              NaN           NaN         NaN   \n",
       "17    NaN       NaN   NaN              NaN           NaN         NaN   \n",
       "18    NaN       NaN   NaN              NaN           NaN         NaN   \n",
       "19    NaN       NaN   NaN              NaN           NaN         NaN   \n",
       "20    NaN       NaN   NaN              NaN           NaN         NaN   \n",
       "21    NaN       NaN   NaN              NaN           NaN         NaN   \n",
       "22    NaN       NaN   NaN              NaN           NaN         NaN   \n",
       "23    NaN       NaN   NaN              NaN           NaN         NaN   \n",
       "24    NaN       NaN   NaN              NaN           NaN         NaN   \n",
       "25    NaN       NaN   NaN              NaN           NaN         NaN   \n",
       "26    NaN       NaN   NaN              NaN           NaN         NaN   \n",
       "27    NaN       NaN   NaN              NaN           NaN         NaN   \n",
       "28    NaN       NaN   NaN              NaN           NaN         NaN   \n",
       "\n",
       "        building_description cluster_number number_closets  \\\n",
       "0     VA MEDICAL CTR BLDG 01     C02-02 MDF              9   \n",
       "1     VA MEDICAL CTR BLDG 02         C02-02              4   \n",
       "2     VA MEDICAL CTR BLDG 03         C02-01              1   \n",
       "3     VA MEDICAL CTR BLDG 04         C02-01              1   \n",
       "4     VA MEDICAL CTR BLDG 05     C02-01 MDF              4   \n",
       "5     VA MEDICAL CTR BLDG 08         C02-01              1   \n",
       "6   VA MEDICAL CTR BLDG 08.5         C02-01              1   \n",
       "7    VA MEDICAL CTR BLDG 12A         C02-01              1   \n",
       "8     VA MEDICAL CTR BLDG 34         C02-01              1   \n",
       "9     VA MEDICAL CTR BLDG 35         C02-01              2   \n",
       "10   VA MEDICAL CTR BLDG 35A         C02-01              2   \n",
       "11    VA MEDICAL CTR BLDG 36         C02-01              1   \n",
       "12                       NaN            NaN             28   \n",
       "13                       NaN            NaN            NaN   \n",
       "14                       NaN            NaN            NaN   \n",
       "15                       NaN            NaN                  \n",
       "16                       NaN            NaN            NaN   \n",
       "17                       NaN            NaN            NaN   \n",
       "18                       NaN            NaN            NaN   \n",
       "19                       NaN            NaN            NaN   \n",
       "20                       NaN            NaN            NaN   \n",
       "21                       NaN            NaN            NaN   \n",
       "22                       NaN            NaN            NaN   \n",
       "23                       NaN            NaN            NaN   \n",
       "24                       NaN            NaN            NaN   \n",
       "25                       NaN            NaN            NaN   \n",
       "26                       NaN            NaN            NaN   \n",
       "27                       NaN            NaN            NaN   \n",
       "28                       NaN            NaN            NaN   \n",
       "\n",
       "    legacy_switch_count  ...  healthcare_vn  voice_vn  pci_vn  \\\n",
       "0                   NaN  ...            0.0       0.0     0.0   \n",
       "1                   NaN  ...            0.0       0.0     0.0   \n",
       "2                   NaN  ...            0.0       0.0     0.0   \n",
       "3                   NaN  ...            0.0       0.0     0.0   \n",
       "4                   NaN  ...            0.0       0.0     0.0   \n",
       "5                   NaN  ...            0.0       0.0     0.0   \n",
       "6                   NaN  ...            0.0       0.0     0.0   \n",
       "7                   NaN  ...            0.0       0.0     0.0   \n",
       "8                   NaN  ...            0.0       0.0     0.0   \n",
       "9                   NaN  ...            0.0       0.0     0.0   \n",
       "10                  NaN  ...            0.0       0.0     0.0   \n",
       "11                  NaN  ...            0.0       0.0     0.0   \n",
       "12                  0.0  ...            0.0       0.0     0.0   \n",
       "13                  NaN  ...            NaN       NaN     NaN   \n",
       "14                  NaN  ...            NaN       NaN     NaN   \n",
       "15                  NaN  ...            NaN       NaN     NaN   \n",
       "16                  NaN  ...            NaN       NaN     NaN   \n",
       "17                  NaN  ...            NaN       NaN     NaN   \n",
       "18                  NaN  ...            NaN       NaN     NaN   \n",
       "19                  NaN  ...            NaN       NaN     NaN   \n",
       "20                  NaN  ...            NaN       NaN     NaN   \n",
       "21                  NaN  ...            NaN       NaN     NaN   \n",
       "22                  NaN  ...            NaN       NaN     NaN   \n",
       "23                  NaN  ...            NaN       NaN     NaN   \n",
       "24                  NaN  ...            NaN       NaN     NaN   \n",
       "25                  NaN  ...            NaN       NaN     NaN   \n",
       "26                  NaN  ...            NaN       NaN     NaN   \n",
       "27                  NaN  ...            NaN       NaN     NaN   \n",
       "28                  NaN  ...            NaN       NaN     NaN   \n",
       "\n",
       "    building_comms_wired  full_building_wired_cutover_ngn  \\\n",
       "0                    0.0                              0.0   \n",
       "1                    0.0                              0.0   \n",
       "2                    0.0                              0.0   \n",
       "3                    0.0                              0.0   \n",
       "4                    0.0                              0.0   \n",
       "5                    0.0                              0.0   \n",
       "6                    0.0                              0.0   \n",
       "7                    0.0                              0.0   \n",
       "8                    0.0                              0.0   \n",
       "9                    0.0                              0.0   \n",
       "10                   0.0                              0.0   \n",
       "11                   0.0                              0.0   \n",
       "12                   0.0                              0.0   \n",
       "13                   NaN                              NaN   \n",
       "14                   NaN                              NaN   \n",
       "15                   NaN                              NaN   \n",
       "16                   NaN                              NaN   \n",
       "17                   NaN                              NaN   \n",
       "18                   NaN                              NaN   \n",
       "19                   NaN                             12.0   \n",
       "20                   NaN                              0.0   \n",
       "21                   NaN                              0.0   \n",
       "22                   NaN                              0.0   \n",
       "23                   NaN                              0.0   \n",
       "24                   NaN                              0.0   \n",
       "25                   NaN                              0.0   \n",
       "26                   NaN                              0.0   \n",
       "27                   NaN                              NaN   \n",
       "28                   NaN                             12.0   \n",
       "\n",
       "    building_comms_wireless  wireless_cutover_ngn legacy_cable_removal  \\\n",
       "0                       0.0                   0.0                  0.0   \n",
       "1                       0.0                   0.0                  0.0   \n",
       "2                       0.0                   0.0                  0.0   \n",
       "3                       0.0                   0.0                  0.0   \n",
       "4                       0.0                   0.0                  0.0   \n",
       "5                       0.0                   0.0                  0.0   \n",
       "6                       0.0                   0.0                  0.0   \n",
       "7                       0.0                   0.0                  0.0   \n",
       "8                       0.0                   0.0                  0.0   \n",
       "9                       0.0                   0.0                  0.0   \n",
       "10                      0.0                   0.0                  0.0   \n",
       "11                      0.0                   0.0                  0.0   \n",
       "12                      0.0                   0.0                  0.0   \n",
       "13                      NaN                   NaN                  NaN   \n",
       "14                      NaN                   NaN                  NaN   \n",
       "15                      NaN                   NaN                  NaN   \n",
       "16                      NaN                   NaN                  NaN   \n",
       "17                      NaN                   NaN                  NaN   \n",
       "18                      NaN                   NaN                  NaN   \n",
       "19                      NaN                   NaN                  NaN   \n",
       "20                      NaN                   NaN                  NaN   \n",
       "21                      NaN                   NaN                  NaN   \n",
       "22                      NaN                   NaN                  NaN   \n",
       "23                      NaN                   NaN                  NaN   \n",
       "24                      NaN                   NaN                  NaN   \n",
       "25                      NaN                   NaN                  NaN   \n",
       "26                      NaN                   NaN                  NaN   \n",
       "27                      NaN                   NaN                  NaN   \n",
       "28                      NaN                   NaN                  NaN   \n",
       "\n",
       "    building_comms_completion  lessons_learned  \n",
       "0                         0.0              0.0  \n",
       "1                         0.0              0.0  \n",
       "2                         0.0              0.0  \n",
       "3                         0.0              0.0  \n",
       "4                         0.0              0.0  \n",
       "5                         0.0              0.0  \n",
       "6                         0.0              0.0  \n",
       "7                         0.0              0.0  \n",
       "8                         0.0              0.0  \n",
       "9                         0.0              0.0  \n",
       "10                        0.0              0.0  \n",
       "11                        0.0              0.0  \n",
       "12                        0.0              0.0  \n",
       "13                        NaN              NaN  \n",
       "14                        NaN              NaN  \n",
       "15                        NaN              NaN  \n",
       "16                        NaN              NaN  \n",
       "17                        NaN              NaN  \n",
       "18                        NaN              NaN  \n",
       "19                        NaN              NaN  \n",
       "20                        NaN              NaN  \n",
       "21                        NaN              NaN  \n",
       "22                        NaN              NaN  \n",
       "23                        NaN              NaN  \n",
       "24                        NaN              NaN  \n",
       "25                        NaN              NaN  \n",
       "26                        NaN              NaN  \n",
       "27                        NaN              NaN  \n",
       "28                        NaN              NaN  \n",
       "\n",
       "[29 rows x 63 columns]"
      ]
     },
     "execution_count": 176,
     "metadata": {},
     "output_type": "execute_result"
    }
   ],
   "source": [
    "df"
   ]
  },
  {
   "cell_type": "markdown",
   "metadata": {
    "jp-MarkdownHeadingCollapsed": true,
    "slideshow": {
     "slide_type": "subslide"
    },
    "tags": []
   },
   "source": [
    "## Further Cleanup\n",
    "\n",
    "- Replace new line characters with a single space\n",
    "- Remove rows that begin with `NaN`\n",
    "- Remove index column; (Database will recreate on import to table)\n",
    "- Add `archive_date column` with current date to note date of import into table\n",
    "- Set data `string` data type for columns with strings and standardize string values\n",
    "- Set columns that are not `string` to `float`"
   ]
  },
  {
   "cell_type": "markdown",
   "metadata": {
    "slideshow": {
     "slide_type": "slide"
    },
    "tags": []
   },
   "source": [
    "## Conclusion"
   ]
  },
  {
   "cell_type": "markdown",
   "metadata": {
    "slideshow": {
     "slide_type": "-"
    }
   },
   "source": [
    "- We've only scratched the surface of what python can do for data analysis. \n",
    "- JupyterLab lends itself well to exploratory data analysis.  \n",
    "- Online Resources:\n",
    "    - Numpy (https://numpy.org)\n",
    "    - Matplotlib (https://matplotlib.org)\n",
    "    - HEP-specific tools: SciKit-HEP (https://scikit-hep.org)\n",
    "    - The repository for this tutorial: https://github.com/WrightLaboratory/data_analysis\n",
    "    - Slides can be viewed here: https://wrightlaboratory.github.io/data_analysis/#/\n",
    "    - Live notebook environment here: https://mybinder.org/v2/gh/WrightLaboratory/data_analysis/HEAD\n",
    "    \n",
    "- Further reading (O'Reilly Books available through Yale Library):\n",
    "    - [Data Analysis with Python by Wes McKinney](https://learning.oreilly.com/library/view/python-for-data/9781491957653/)\n",
    "    - [High Performance Python](https://learning.oreilly.com/library/view/high-performance-python/9781492055013/)\n"
   ]
  }
 ],
 "metadata": {
  "celltoolbar": "Slideshow",
  "kernelspec": {
   "display_name": "Python 3 (ipykernel)",
   "language": "python",
   "name": "python3"
  },
  "language_info": {
   "codemirror_mode": {
    "name": "ipython",
    "version": 3
   },
   "file_extension": ".py",
   "mimetype": "text/x-python",
   "name": "python",
   "nbconvert_exporter": "python",
   "pygments_lexer": "ipython3",
   "version": "3.10.6"
  }
 },
 "nbformat": 4,
 "nbformat_minor": 4
}
