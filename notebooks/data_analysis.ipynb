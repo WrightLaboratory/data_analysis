{
 "cells": [
  {
   "cell_type": "code",
   "execution_count": 135,
   "metadata": {
    "slideshow": {
     "slide_type": "skip"
    }
   },
   "outputs": [
    {
     "data": {
      "text/plain": [
       "{'width': 1000, 'height': 600, 'scroll': True}"
      ]
     },
     "execution_count": 135,
     "metadata": {},
     "output_type": "execute_result"
    }
   ],
   "source": [
    "from notebook.services.config import ConfigManager\n",
    "cm = ConfigManager()\n",
    "cm.update('livereveal', {\n",
    "              'width': 1000,\n",
    "              'height': 600,\n",
    "              'scroll': True,\n",
    "})\n"
   ]
  },
  {
   "cell_type": "markdown",
   "metadata": {
    "slideshow": {
     "slide_type": "slide"
    },
    "tags": []
   },
   "source": [
    "# Introduction to Data Analysis with Python\n",
    "_T.J. Langford_  \n",
    "_Vincent Balbarin_  \n",
    "_Yale Center for Reasearch Computing_  \n",
    "_October 25, 2022_  "
   ]
  },
  {
   "cell_type": "markdown",
   "metadata": {
    "slideshow": {
     "slide_type": "slide"
    },
    "tags": []
   },
   "source": [
    "# Overview\n",
    "\n",
    "- Introduction to [Jupiter Docker Stacks](https://jupyter-docker-stacks.readthedocs.io/en/latest/)\n",
    "- Introduction to [podman](https://podman.io/)\n",
    "- Introduction to `numpy` and `matplotlib`\n",
    "- Data processing and analysis with `numpy`\n",
    "- Data visualization with `matplotlib`\n",
    "- Real-world example of data processing "
   ]
  },
  {
   "cell_type": "markdown",
   "metadata": {
    "slideshow": {
     "slide_type": "slide"
    }
   },
   "source": [
    "# Tutorial Requirements"
   ]
  },
  {
   "cell_type": "markdown",
   "metadata": {
    "slideshow": {
     "slide_type": "fragment"
    },
    "tags": []
   },
   "source": [
    "- Repository for this tutorial: https://github.com/WrightLaboratory/data_analysis\n",
    "  - Notebook\n",
    "  - Test data\n",
    "  - Supporting scripts\n"
   ]
  },
  {
   "cell_type": "markdown",
   "metadata": {
    "slideshow": {
     "slide_type": "fragment"
    },
    "tags": []
   },
   "source": [
    "- `jupyter/scipy-notebook` Docker image"
   ]
  },
  {
   "cell_type": "markdown",
   "metadata": {
    "slideshow": {
     "slide_type": "fragment"
    },
    "tags": []
   },
   "source": [
    "- Podman"
   ]
  },
  {
   "cell_type": "markdown",
   "metadata": {
    "slideshow": {
     "slide_type": "slide"
    },
    "tags": []
   },
   "source": [
    "# Jupyter and Docker\n",
    "\n",
    "- The Jupyter project provides provides pre-built Docker images at [Jupyter Docker Stacks](https://jupyter-docker-stacks.readthedocs.io/en/latest/)\n",
    "- No need to install and configure Python virtual environments\n",
    "- [`jupiter/scipy-notebook`](https://jupyter-docker-stacks.readthedocs.io/en/latest/using/selecting.html#jupyter-scipy-notebook) image includes popular packages from the scientific Python ecosystem"
   ]
  },
  {
   "cell_type": "markdown",
   "metadata": {
    "slideshow": {
     "slide_type": "slide"
    }
   },
   "source": [
    "# Podman\n",
    "\n",
    "- Container engine for executing Open Container Initiative (OCI) compliant images\n",
    "- `podman` cli supports many of the same flags as `docker` cli\n",
    "- Available in Linux package repositories, podman machine running on a WSL VM in Windows, and podman machine running on QEMU VM in MacOS"
   ]
  },
  {
   "cell_type": "markdown",
   "metadata": {
    "slideshow": {
     "slide_type": "slide"
    }
   },
   "source": [
    "# Podman Security\n",
    "\n",
    "- Daemon-less and capable of running rootless\n",
    "- Integrates with systemd\n",
    "- Kubernetes-like\n",
    "  - Related application components are grouped into pods\n",
    "  - Namespaces provide another layer of isolation"
   ]
  },
  {
   "cell_type": "markdown",
   "metadata": {
    "slideshow": {
     "slide_type": "slide"
    }
   },
   "source": [
    "# Running This Notebook\n",
    "\n",
    "\n",
    "Follow the [instructions](https://podman.io/getting-started/installation.html#podman-installation-instructions) to install Podman on your operating system of choice.\n",
    " "
   ]
  },
  {
   "cell_type": "markdown",
   "metadata": {
    "slideshow": {
     "slide_type": "subslide"
    }
   },
   "source": [
    "```bash\n",
    "# Clone the repository\n",
    "git clone https://github.com/WrightLaboratory/data_analysis data_analysis\n",
    "```"
   ]
  },
  {
   "cell_type": "markdown",
   "metadata": {
    "slideshow": {
     "slide_type": "subslide"
    }
   },
   "source": [
    "```bash\n",
    "# Use the provided script to launch Jupyter container\n",
    "cd data_analysis\n",
    "bash ./scripts/podman_jupyterlab.sh\n",
    "```"
   ]
  },
  {
   "cell_type": "markdown",
   "metadata": {
    "slideshow": {
     "slide_type": "subslide"
    }
   },
   "source": [
    "  ```bash\n",
    "  # Find the url in the standard output log trace and open in your browser\n",
    "  ...\n",
    "  [C 2022-10-18 03:30:26.665 ServerApp] \n",
    "    \n",
    "    To access the server, open this file in a browser:\n",
    "        file:///home/jovyan/.local/share/jupyter/runtime/jpserver-2-open.html\n",
    "  ```"
   ]
  },
  {
   "cell_type": "markdown",
   "metadata": {
    "slideshow": {
     "slide_type": "fragment"
    },
    "tags": []
   },
   "source": [
    "  ```bash\n",
    "    Or copy and paste one of these URLs:\n",
    "        http://784772c24b81:8888/lab?token=929d6fbdc29185ba5ac86b60c689e84b1f3fa2eb22b46ebc\n",
    "  ```"
   ]
  },
  {
   "cell_type": "markdown",
   "metadata": {
    "slideshow": {
     "slide_type": "fragment"
    },
    "tags": []
   },
   "source": [
    "  ```bash\n",
    "     or http://127.0.0.1:8888/lab?token=929d6fbdc29185ba5ac86b60c689e84b1f3fa2eb22b46ebc\n",
    "  ...\n",
    "  ```"
   ]
  },
  {
   "cell_type": "markdown",
   "metadata": {
    "slideshow": {
     "slide_type": "slide"
    }
   },
   "source": [
    "# Data Processing with `numpy`"
   ]
  },
  {
   "cell_type": "code",
   "execution_count": 136,
   "metadata": {
    "slideshow": {
     "slide_type": "subslide"
    }
   },
   "outputs": [],
   "source": [
    "import numpy as np"
   ]
  },
  {
   "cell_type": "markdown",
   "metadata": {
    "slideshow": {
     "slide_type": "subslide"
    }
   },
   "source": [
    "# What is Numpy?\n",
    "\n",
    "NumPy is the fundamental package for scientific computing with Python. It contains among other things:\n",
    "\n",
    "- a powerful N-dimensional array object\n",
    "- sophisticated (broadcasting) functions\n",
    "- tools for integrating C/C++ and Fortran code\n",
    "- useful linear algebra, Fourier transform, and random number capabilities\n",
    "\n",
    "[User Guide](https://docs.scipy.org/doc/numpy-1.16.1/)"
   ]
  },
  {
   "cell_type": "markdown",
   "metadata": {
    "slideshow": {
     "slide_type": "subslide"
    }
   },
   "source": [
    "## N-dimensional array objects\n",
    "\n",
    "- Fundamental basis of numpy is the `array` object\n",
    "- 1D array ~ vector\n",
    "- 2D array ~ matrix  \n",
    "- nD array (n > 2) ~ tensor"
   ]
  },
  {
   "cell_type": "markdown",
   "metadata": {
    "slideshow": {
     "slide_type": "subslide"
    }
   },
   "source": [
    "### Creating arrays"
   ]
  },
  {
   "cell_type": "markdown",
   "metadata": {
    "slideshow": {
     "slide_type": "fragment"
    }
   },
   "source": [
    "Arrays can be created in a variety of ways. The most common are either empty:"
   ]
  },
  {
   "cell_type": "code",
   "execution_count": 137,
   "metadata": {
    "slideshow": {
     "slide_type": "fragment"
    }
   },
   "outputs": [
    {
     "data": {
      "text/plain": [
       "array([0., 0., 0., 0., 0., 0., 0., 0., 0., 0.])"
      ]
     },
     "execution_count": 137,
     "metadata": {},
     "output_type": "execute_result"
    }
   ],
   "source": [
    "a = np.zeros(10)\n",
    "a"
   ]
  },
  {
   "cell_type": "markdown",
   "metadata": {
    "slideshow": {
     "slide_type": "fragment"
    }
   },
   "source": [
    "or you can create them from an existing `list`:"
   ]
  },
  {
   "cell_type": "code",
   "execution_count": 138,
   "metadata": {
    "slideshow": {
     "slide_type": "fragment"
    }
   },
   "outputs": [
    {
     "data": {
      "text/plain": [
       "array([0, 1, 2, 3, 4, 5, 6, 7, 8, 9])"
      ]
     },
     "execution_count": 138,
     "metadata": {},
     "output_type": "execute_result"
    }
   ],
   "source": [
    "b = np.array([0,1,2,3,4,5,6,7,8,9])\n",
    "b"
   ]
  },
  {
   "cell_type": "markdown",
   "metadata": {
    "slideshow": {
     "slide_type": "subslide"
    }
   },
   "source": [
    "### Array properties"
   ]
  },
  {
   "cell_type": "markdown",
   "metadata": {
    "slideshow": {
     "slide_type": "fragment"
    }
   },
   "source": [
    "Arrays have a few key properties:\n",
    "\n",
    "- Data type (float, int, etc)\n",
    "- Number of dimensions\n",
    "- Shape and Size"
   ]
  },
  {
   "cell_type": "code",
   "execution_count": 139,
   "metadata": {
    "slideshow": {
     "slide_type": "fragment"
    }
   },
   "outputs": [
    {
     "name": "stdout",
     "output_type": "stream",
     "text": [
      "float64\n",
      "int64\n"
     ]
    }
   ],
   "source": [
    "print(a.dtype)\n",
    "print(b.dtype)"
   ]
  },
  {
   "cell_type": "code",
   "execution_count": 140,
   "metadata": {
    "slideshow": {
     "slide_type": "fragment"
    }
   },
   "outputs": [
    {
     "data": {
      "text/plain": [
       "(10,)"
      ]
     },
     "execution_count": 140,
     "metadata": {},
     "output_type": "execute_result"
    }
   ],
   "source": [
    "a.shape"
   ]
  },
  {
   "cell_type": "code",
   "execution_count": 141,
   "metadata": {
    "slideshow": {
     "slide_type": "fragment"
    }
   },
   "outputs": [
    {
     "data": {
      "text/plain": [
       "array([[0, 1, 2, 3],\n",
       "       [4, 5, 6, 7]])"
      ]
     },
     "execution_count": 141,
     "metadata": {},
     "output_type": "execute_result"
    }
   ],
   "source": [
    "c = np.array([[0,1,2,3],[4,5,6,7]])\n",
    "c"
   ]
  },
  {
   "cell_type": "markdown",
   "metadata": {
    "slideshow": {
     "slide_type": "subslide"
    }
   },
   "source": [
    "### Array operations\n",
    "\n",
    "We can also act on these arrays with specific operations:\n",
    "\n",
    "- add, subtract, multiply, and divide by scalars or other arrays"
   ]
  },
  {
   "cell_type": "code",
   "execution_count": 142,
   "metadata": {},
   "outputs": [
    {
     "data": {
      "text/plain": [
       "array([ 0,  4,  8, 12, 16, 20, 24, 28, 32, 36])"
      ]
     },
     "execution_count": 142,
     "metadata": {},
     "output_type": "execute_result"
    }
   ],
   "source": [
    "a = np.multiply(b, 4)\n",
    "a"
   ]
  },
  {
   "cell_type": "code",
   "execution_count": 143,
   "metadata": {
    "slideshow": {
     "slide_type": "fragment"
    }
   },
   "outputs": [
    {
     "data": {
      "text/plain": [
       "array([  0,   4,  16,  36,  64, 100, 144, 196, 256, 324])"
      ]
     },
     "execution_count": 143,
     "metadata": {},
     "output_type": "execute_result"
    }
   ],
   "source": [
    "np.multiply(a, b)"
   ]
  },
  {
   "cell_type": "markdown",
   "metadata": {
    "slideshow": {
     "slide_type": "fragment"
    }
   },
   "source": [
    "- extract statistics about the array (minimum, maximum, RMS, etc)"
   ]
  },
  {
   "cell_type": "code",
   "execution_count": 144,
   "metadata": {
    "slideshow": {
     "slide_type": "fragment"
    }
   },
   "outputs": [
    {
     "data": {
      "text/plain": [
       "9"
      ]
     },
     "execution_count": 144,
     "metadata": {},
     "output_type": "execute_result"
    }
   ],
   "source": [
    "np.max(b)"
   ]
  },
  {
   "cell_type": "code",
   "execution_count": 145,
   "metadata": {
    "slideshow": {
     "slide_type": "fragment"
    }
   },
   "outputs": [
    {
     "data": {
      "text/plain": [
       "18.0"
      ]
     },
     "execution_count": 145,
     "metadata": {},
     "output_type": "execute_result"
    }
   ],
   "source": [
    "np.mean(a)"
   ]
  },
  {
   "cell_type": "code",
   "execution_count": 146,
   "metadata": {
    "slideshow": {
     "slide_type": "fragment"
    }
   },
   "outputs": [
    {
     "data": {
      "text/plain": [
       "11.489125293076057"
      ]
     },
     "execution_count": 146,
     "metadata": {},
     "output_type": "execute_result"
    }
   ],
   "source": [
    "np.std(a)"
   ]
  },
  {
   "cell_type": "markdown",
   "metadata": {},
   "source": [
    "- sum array elements along an axis: "
   ]
  },
  {
   "cell_type": "code",
   "execution_count": 147,
   "metadata": {
    "slideshow": {
     "slide_type": "fragment"
    }
   },
   "outputs": [
    {
     "data": {
      "text/plain": [
       "array([ 4,  6,  8, 10])"
      ]
     },
     "execution_count": 147,
     "metadata": {},
     "output_type": "execute_result"
    }
   ],
   "source": [
    "np.sum(c, axis=0)"
   ]
  },
  {
   "cell_type": "markdown",
   "metadata": {
    "slideshow": {
     "slide_type": "subslide"
    }
   },
   "source": [
    "### Filter based on values \n",
    "\n",
    "Array elements can be selected based on their values (or values of different arrays)"
   ]
  },
  {
   "cell_type": "code",
   "execution_count": 148,
   "metadata": {},
   "outputs": [
    {
     "name": "stdout",
     "output_type": "stream",
     "text": [
      "[ 0  4  8 12 16 20 24 28 32 36]\n"
     ]
    }
   ],
   "source": [
    "print(a)"
   ]
  },
  {
   "cell_type": "code",
   "execution_count": 149,
   "metadata": {
    "slideshow": {
     "slide_type": "fragment"
    }
   },
   "outputs": [
    {
     "data": {
      "text/plain": [
       "array([False, False,  True,  True,  True,  True,  True,  True,  True,\n",
       "        True])"
      ]
     },
     "execution_count": 149,
     "metadata": {},
     "output_type": "execute_result"
    }
   ],
   "source": [
    "a > 5"
   ]
  },
  {
   "cell_type": "markdown",
   "metadata": {
    "slideshow": {
     "slide_type": "fragment"
    }
   },
   "source": [
    "This array of `True`/`False` values can then filter either `a` or other arrays:"
   ]
  },
  {
   "cell_type": "code",
   "execution_count": 150,
   "metadata": {
    "slideshow": {
     "slide_type": "fragment"
    }
   },
   "outputs": [
    {
     "data": {
      "text/plain": [
       "array([ 8, 12, 16, 20, 24, 28, 32, 36])"
      ]
     },
     "execution_count": 150,
     "metadata": {},
     "output_type": "execute_result"
    }
   ],
   "source": [
    "a[a > 5]"
   ]
  },
  {
   "cell_type": "code",
   "execution_count": 151,
   "metadata": {
    "slideshow": {
     "slide_type": "fragment"
    }
   },
   "outputs": [
    {
     "data": {
      "text/plain": [
       "array([2, 3, 4, 5, 6, 7, 8, 9])"
      ]
     },
     "execution_count": 151,
     "metadata": {},
     "output_type": "execute_result"
    }
   ],
   "source": [
    "b[a > 5]"
   ]
  },
  {
   "cell_type": "markdown",
   "metadata": {},
   "source": [
    "We will use this to filter some real data later in the tutorial."
   ]
  },
  {
   "cell_type": "markdown",
   "metadata": {
    "slideshow": {
     "slide_type": "subslide"
    }
   },
   "source": [
    "### Import and Export Arrays \n",
    "\n",
    "Numpy has two main ways of exporting and importing data:"
   ]
  },
  {
   "cell_type": "markdown",
   "metadata": {
    "slideshow": {
     "slide_type": "fragment"
    }
   },
   "source": [
    "- Saving human-readable text file with `np.savetxt`:"
   ]
  },
  {
   "cell_type": "code",
   "execution_count": 152,
   "metadata": {
    "slideshow": {
     "slide_type": "fragment"
    }
   },
   "outputs": [],
   "source": [
    "np.savetxt('test.txt', c, fmt='%f', delimiter=',', header='My favorite array')"
   ]
  },
  {
   "cell_type": "code",
   "execution_count": 153,
   "metadata": {
    "scrolled": true,
    "slideshow": {
     "slide_type": "fragment"
    }
   },
   "outputs": [
    {
     "name": "stdout",
     "output_type": "stream",
     "text": [
      "# My favorite array\n",
      "0.000000,1.000000,2.000000,3.000000\n",
      "4.000000,5.000000,6.000000,7.000000\n"
     ]
    }
   ],
   "source": [
    "cat test.txt"
   ]
  },
  {
   "cell_type": "markdown",
   "metadata": {
    "slideshow": {
     "slide_type": "fragment"
    }
   },
   "source": [
    "- faster, more efficient numpy binary data (`test.npy`):"
   ]
  },
  {
   "cell_type": "code",
   "execution_count": 154,
   "metadata": {
    "slideshow": {
     "slide_type": "fragment"
    }
   },
   "outputs": [],
   "source": [
    "np.save('test.npy', c)"
   ]
  },
  {
   "cell_type": "markdown",
   "metadata": {
    "slideshow": {
     "slide_type": "subslide"
    }
   },
   "source": [
    "- Reading text or binary data with `np.loadtxt` or `np.fromfile`"
   ]
  },
  {
   "cell_type": "code",
   "execution_count": 155,
   "metadata": {
    "slideshow": {
     "slide_type": "fragment"
    }
   },
   "outputs": [
    {
     "data": {
      "text/plain": [
       "array([[0., 1., 2., 3.],\n",
       "       [4., 5., 6., 7.]])"
      ]
     },
     "execution_count": 155,
     "metadata": {},
     "output_type": "execute_result"
    }
   ],
   "source": [
    "np.loadtxt('test.txt',delimiter=',')"
   ]
  },
  {
   "cell_type": "markdown",
   "metadata": {
    "slideshow": {
     "slide_type": "fragment"
    }
   },
   "source": [
    "- `Numpy` and `pandas` also provide a variety of tools to read specific data formats (csv, binary, etc.) "
   ]
  },
  {
   "cell_type": "markdown",
   "metadata": {
    "slideshow": {
     "slide_type": "slide"
    }
   },
   "source": [
    "## Random Number Generation with `numpy`\n",
    "\n",
    "Numpy has a full suite of tools for generating random numbers. Very helpful for Monte Carlo simulations or toy data.\n",
    "\n",
    "Here we will generate 100k random floats from a normal distribution with `mean = 2.0` and `sigma = 1.0`. "
   ]
  },
  {
   "cell_type": "code",
   "execution_count": 156,
   "metadata": {
    "slideshow": {
     "slide_type": "fragment"
    }
   },
   "outputs": [
    {
     "name": "stdout",
     "output_type": "stream",
     "text": [
      "[ 1.72121791  3.03042305 -0.1810737   4.37696538  1.94268835  0.93539525\n",
      "  1.18737561  3.12239909  1.89638123  0.88044299]\n"
     ]
    }
   ],
   "source": [
    "r = np.random.normal(loc=2, scale=1, size=100000)\n",
    "print(r[0:10])"
   ]
  },
  {
   "cell_type": "markdown",
   "metadata": {
    "slideshow": {
     "slide_type": "fragment"
    }
   },
   "source": [
    "We can randomly select elements from an array:"
   ]
  },
  {
   "cell_type": "code",
   "execution_count": 157,
   "metadata": {
    "slideshow": {
     "slide_type": "fragment"
    },
    "tags": []
   },
   "outputs": [
    {
     "data": {
      "text/plain": [
       "array([ 4, 36])"
      ]
     },
     "execution_count": 157,
     "metadata": {},
     "output_type": "execute_result"
    }
   ],
   "source": [
    "np.random.choice(a, size=2)"
   ]
  },
  {
   "cell_type": "markdown",
   "metadata": {
    "slideshow": {
     "slide_type": "fragment"
    },
    "tags": []
   },
   "source": [
    "All the \"heavy-lifting\" is done in `C`, so `numpy`-based work can be _very_ fast."
   ]
  },
  {
   "cell_type": "markdown",
   "metadata": {
    "slideshow": {
     "slide_type": "subslide"
    }
   },
   "source": [
    "### Random Number Example: Monte Carlo $\\pi$"
   ]
  },
  {
   "cell_type": "markdown",
   "metadata": {
    "slideshow": {
     "slide_type": "fragment"
    }
   },
   "source": [
    "We can perform a Monte Carlo-based simulation to calculate $\\pi$ using two uniform random number generators. "
   ]
  },
  {
   "cell_type": "code",
   "execution_count": 158,
   "metadata": {
    "slideshow": {
     "slide_type": "fragment"
    },
    "tags": []
   },
   "outputs": [],
   "source": [
    "def mc_pi(num_trials):\n",
    "    x = np.random.uniform(low=0.0, high=1.0, size=num_trials)\n",
    "    y = np.random.uniform(low=0.0, high=1.0, size=num_trials)\n",
    "\n",
    "    r = x**2 + y**2\n",
    "    \n",
    "    return len(r[r<1])*4/num_trials\n",
    "    "
   ]
  },
  {
   "cell_type": "code",
   "execution_count": 159,
   "metadata": {
    "slideshow": {
     "slide_type": "subslide"
    }
   },
   "outputs": [
    {
     "name": "stdout",
     "output_type": "stream",
     "text": [
      "10: 3.6\n",
      "100: 3.32\n",
      "1000: 3.136\n",
      "10000: 3.1436\n",
      "100000: 3.1518\n",
      "1000000: 3.139652\n",
      "10000000: 3.1414564\n"
     ]
    }
   ],
   "source": [
    "for n in [10,100,1000,10000,100000,1000000,10000000]:\n",
    "    print(f\"{n}: {mc_pi(n)}\")"
   ]
  },
  {
   "cell_type": "markdown",
   "metadata": {
    "slideshow": {
     "slide_type": "slide"
    }
   },
   "source": [
    "## Plotting with Matplotlib"
   ]
  },
  {
   "cell_type": "code",
   "execution_count": 160,
   "metadata": {
    "slideshow": {
     "slide_type": "subslide"
    }
   },
   "outputs": [],
   "source": [
    "import matplotlib.pyplot as plt"
   ]
  },
  {
   "cell_type": "markdown",
   "metadata": {
    "slideshow": {
     "slide_type": "subslide"
    }
   },
   "source": [
    "## Plotting with Matplotlib \n",
    "\n",
    "- Matplotlib is the back-bone of most python plotting and visualization\n",
    "- It's super flexible and produces both interactive and publication-ready plots\n",
    "- We'll touch on a few examples to demonstrate the versitility of this module"
   ]
  },
  {
   "cell_type": "markdown",
   "metadata": {
    "slideshow": {
     "slide_type": "subslide"
    }
   },
   "source": [
    "## Basic 2D Plot"
   ]
  },
  {
   "cell_type": "code",
   "execution_count": 161,
   "metadata": {},
   "outputs": [
    {
     "data": {
      "image/png": "[encoded data removed]",
      "text/plain": [
       "<Figure size 640x480 with 1 Axes>"
      ]
     },
     "metadata": {},
     "output_type": "display_data"
    }
   ],
   "source": [
    "x = np.array([0,1,2,3,4,5])\n",
    "y = np.power(x, 2)\n",
    "plt.plot(x, y, marker='o', color='k', label='Square');\n",
    "plt.xlabel('X-values');\n",
    "plt.ylabel('Y-values');\n",
    "plt.legend(loc=2);"
   ]
  },
  {
   "cell_type": "markdown",
   "metadata": {
    "slideshow": {
     "slide_type": "subslide"
    }
   },
   "source": [
    "## Scatter plot"
   ]
  },
  {
   "cell_type": "code",
   "execution_count": 162,
   "metadata": {
    "slideshow": {
     "slide_type": "-"
    }
   },
   "outputs": [
    {
     "data": {
      "image/png": "[encoded data removed]",
      "text/plain": [
       "<Figure size 640x480 with 1 Axes>"
      ]
     },
     "metadata": {},
     "output_type": "display_data"
    }
   ],
   "source": [
    "x = np.array([0,2,4,6,8,10])\n",
    "y = np.power(x, 2)\n",
    "r = np.power(x, 3)\n",
    "plt.scatter(x, y, s=r)\n",
    "plt.xlabel('X-values'); plt.ylabel('Y-values');\n"
   ]
  },
  {
   "cell_type": "markdown",
   "metadata": {
    "slideshow": {
     "slide_type": "subslide"
    }
   },
   "source": [
    "## Visualizing Monte Carlo Pi"
   ]
  },
  {
   "cell_type": "markdown",
   "metadata": {
    "slideshow": {
     "slide_type": "fragment"
    },
    "tags": []
   },
   "source": [
    "Using our previously discussed Monte Carlo method for determining $\\pi$, we can visualize this procedure in a few different ways. \n",
    "\n",
    "First, we can make a scatter plot of one determination of Pi and show how the algorithm works. X and Y values are generated with a uniform random distribution and any which fall inside the shaded region (where `x^2 + y^2 <= 1`) are counted. "
   ]
  },
  {
   "cell_type": "code",
   "execution_count": 163,
   "metadata": {
    "slideshow": {
     "slide_type": "fragment"
    },
    "tags": []
   },
   "outputs": [
    {
     "data": {
      "text/plain": [
       "(0.0, 1.0)"
      ]
     },
     "execution_count": 163,
     "metadata": {},
     "output_type": "execute_result"
    },
    {
     "data": {
      "image/png": "[encoded data removed]",
      "text/plain": [
       "<Figure size 500x500 with 1 Axes>"
      ]
     },
     "metadata": {},
     "output_type": "display_data"
    }
   ],
   "source": [
    "plt.figure(figsize=(5,5))\n",
    "ax = plt.gca()\n",
    "circle = plt.Circle((0,0), radius=1, color='C4', alpha=0.3)\n",
    "\n",
    "num_trials = 1000\n",
    "x = np.random.uniform(low=0.0, high=1.0, size=num_trials)\n",
    "y = np.random.uniform(low=0.0, high=1.0, size=num_trials)\n",
    "\n",
    "plt.scatter(x,y,marker='.')\n",
    "ax.add_patch(circle)\n",
    "plt.ylim(0,1)\n",
    "plt.xlim(0,1)\n"
   ]
  },
  {
   "cell_type": "markdown",
   "metadata": {
    "slideshow": {
     "slide_type": "subslide"
    }
   },
   "source": [
    "Next, we can plot the evolution of our MC-generated value of $\\pi$ as we increase the number of samples:"
   ]
  },
  {
   "cell_type": "code",
   "execution_count": 164,
   "metadata": {
    "slideshow": {
     "slide_type": "fragment"
    },
    "tags": []
   },
   "outputs": [
    {
     "data": {
      "text/plain": [
       "Text(0, 0.5, 'Simulated Value of Pi')"
      ]
     },
     "execution_count": 164,
     "metadata": {},
     "output_type": "execute_result"
    },
    {
     "data": {
      "image/png": "[encoded data removed]",
      "text/plain": [
       "<Figure size 640x480 with 1 Axes>"
      ]
     },
     "metadata": {},
     "output_type": "display_data"
    }
   ],
   "source": [
    "mc_pi_samples = np.logspace(start=1, stop=6, num=100, dtype='int')\n",
    "mc_pi_values = [mc_pi(x) for x in mc_pi_samples]\n",
    "\n",
    "plt.plot(mc_pi_samples, mc_pi_values, marker='o', linestyle='None', label='Monte Carlo')\n",
    "plt.ylim(np.pi-1,np.pi+1)\n",
    "plt.hlines(np.pi, xmin=0,xmax=np.max(mc_pi_samples), color='k', linestyle='--', label='Pi')\n",
    "plt.xscale('log');\n",
    "plt.legend()\n",
    "plt.xlabel('MC Samples');\n",
    "plt.ylabel('Simulated Value of Pi')"
   ]
  },
  {
   "cell_type": "markdown",
   "metadata": {
    "slideshow": {
     "slide_type": "slide"
    }
   },
   "source": [
    "## Histograms "
   ]
  },
  {
   "cell_type": "markdown",
   "metadata": {
    "slideshow": {
     "slide_type": "fragment"
    }
   },
   "source": [
    "Combining `numpy` and `matplotlib` we can begin to generate some of the key plots that are used to display data. One of the most common types of data visualizations are histograms. \n",
    "\n",
    "To get started, let's generate some random data using `numpy.random`:"
   ]
  },
  {
   "cell_type": "code",
   "execution_count": 165,
   "metadata": {
    "slideshow": {
     "slide_type": "fragment"
    }
   },
   "outputs": [],
   "source": [
    "a = np.random.uniform(low=0, high=10, size=100000)\n",
    "b = np.random.exponential(scale=1, size=100000)"
   ]
  },
  {
   "cell_type": "markdown",
   "metadata": {
    "slideshow": {
     "slide_type": "subslide"
    }
   },
   "source": [
    "Now we can create a histogram (tabulation of values into discrete bins) and plot the distributions using `matplotlib`:"
   ]
  },
  {
   "cell_type": "code",
   "execution_count": 166,
   "metadata": {
    "slideshow": {
     "slide_type": "fragment"
    }
   },
   "outputs": [
    {
     "data": {
      "text/plain": [
       "<matplotlib.legend.Legend at 0xffff6f2324a0>"
      ]
     },
     "execution_count": 166,
     "metadata": {},
     "output_type": "execute_result"
    },
    {
     "data": {
      "image/png": "[encoded data removed]",
      "text/plain": [
       "<Figure size 640x480 with 1 Axes>"
      ]
     },
     "metadata": {},
     "output_type": "display_data"
    }
   ],
   "source": [
    "h, bins = np.histogram(a, bins=20, range=(0,10))\n",
    "\n",
    "plt.stairs(h, bins, label='Data')\n",
    "plt.hlines(h.mean(), xmin=-0.25,xmax=10.25,linestyles='--', color='k', alpha=0.5, label='Average')\n",
    "\n",
    "plt.xlabel('Value')\n",
    "plt.ylabel('Counts/bin')\n",
    "plt.legend(loc=3)"
   ]
  },
  {
   "cell_type": "markdown",
   "metadata": {
    "slideshow": {
     "slide_type": "subslide"
    }
   },
   "source": [
    "We can do the same to plot our exponential distribution of data, but this time we can set the y-scale to be `log` to better highlight the distribution:"
   ]
  },
  {
   "cell_type": "code",
   "execution_count": 167,
   "metadata": {
    "slideshow": {
     "slide_type": "fragment"
    }
   },
   "outputs": [
    {
     "data": {
      "image/png": "[encoded data removed]",
      "text/plain": [
       "<Figure size 640x480 with 1 Axes>"
      ]
     },
     "metadata": {},
     "output_type": "display_data"
    }
   ],
   "source": [
    "h, bins = np.histogram(b, bins=20, range=(0,10))\n",
    "\n",
    "plt.stairs(h, bins, label='Data')\n",
    "plt.xlabel('Value')\n",
    "plt.ylabel('Counts/bin')\n",
    "plt.legend(loc=0);\n",
    "\n",
    "plt.yscale('log')"
   ]
  },
  {
   "cell_type": "markdown",
   "metadata": {
    "slideshow": {
     "slide_type": "slide"
    }
   },
   "source": [
    "## Data Processing with `Numpy`"
   ]
  },
  {
   "cell_type": "markdown",
   "metadata": {
    "slideshow": {
     "slide_type": "fragment"
    },
    "tags": []
   },
   "source": [
    "Now that we have a basic familiarity with `numpy`, we will attempt to process some low-level data produced by a PMT connected to a scintillator cell."
   ]
  },
  {
   "cell_type": "markdown",
   "metadata": {
    "slideshow": {
     "slide_type": "fragment"
    },
    "tags": []
   },
   "source": [
    "A few key details about the data file:\n",
    "- Recorded by a digitizer (similar to an oscilloscope, records triggered waveforms)\n",
    "- 2-character unsigned binary data\n",
    "- Each trigger window is 300 samples long\n",
    "- Each trigger has a 4 long-word header containing information about the event:\n",
    "  Trigger Event Size + Check Bit, Channel, Trigger, Timestamp"
   ]
  },
  {
   "cell_type": "markdown",
   "metadata": {
    "slideshow": {
     "slide_type": "fragment"
    },
    "tags": []
   },
   "source": [
    "Set the path to the data file and specify the trigger event properties."
   ]
  },
  {
   "cell_type": "code",
   "execution_count": 168,
   "metadata": {
    "slideshow": {
     "slide_type": "fragment"
    }
   },
   "outputs": [],
   "source": [
    "from pathlib import Path\n",
    "\n",
    "data_file = '180822-EJ309-1700V-Cf252.dat'\n",
    "\n",
    "HEADER_SIZE = 4\n",
    "WINDOW_SIZE = 300\n",
    "\n",
    "data_file_path = Path.cwd().parent.joinpath('data', data_file)\n"
   ]
  },
  {
   "cell_type": "markdown",
   "metadata": {
    "slideshow": {
     "slide_type": "fragment"
    },
    "tags": []
   },
   "source": [
    "Get header from the beginning of the file and first event trace."
   ]
  },
  {
   "cell_type": "code",
   "execution_count": 169,
   "metadata": {
    "slideshow": {
     "slide_type": "fragment"
    },
    "tags": []
   },
   "outputs": [],
   "source": [
    "header = np.fromfile(data_file_path, dtype=np.uint32,\n",
    "                     count=HEADER_SIZE)\n",
    "\n",
    "# Since each header item is 1 long-word (4 bytes)\n",
    "# The data for 1st event begins 4 * HEADER_SIZE from the beginning of file\n",
    "trace = np.fromfile(data_file_path, dtype=np.uint16,\n",
    "                    count=WINDOW_SIZE, offset=HEADER_SIZE*4)\n"
   ]
  },
  {
   "cell_type": "markdown",
   "metadata": {
    "slideshow": {
     "slide_type": "fragment"
    },
    "tags": []
   },
   "source": [
    "Plot the first trigger event trace."
   ]
  },
  {
   "cell_type": "code",
   "execution_count": 170,
   "metadata": {
    "slideshow": {
     "slide_type": "fragment"
    },
    "tags": []
   },
   "outputs": [
    {
     "data": {
      "text/plain": [
       "Text(0, 0.5, 'ADC')"
      ]
     },
     "execution_count": 170,
     "metadata": {},
     "output_type": "execute_result"
    },
    {
     "data": {
      "image/png": "[encoded data removed]",
      "text/plain": [
       "<Figure size 640x480 with 1 Axes>"
      ]
     },
     "metadata": {},
     "output_type": "display_data"
    }
   ],
   "source": [
    "plt.title(f\"Channel: {header[1]}, Trigger: {header[2]}, TimeStamp: {header[3]}\")\n",
    "plt.plot(trace)\n",
    "plt.xlabel('Samples');plt.ylabel('ADC')"
   ]
  },
  {
   "cell_type": "markdown",
   "metadata": {
    "slideshow": {
     "slide_type": "subslide"
    },
    "tags": []
   },
   "source": [
    "Remove baseline counts"
   ]
  },
  {
   "cell_type": "code",
   "execution_count": 171,
   "metadata": {
    "slideshow": {
     "slide_type": "fragment"
    },
    "tags": []
   },
   "outputs": [
    {
     "data": {
      "text/plain": [
       "Text(0, 0.5, 'ADC')"
      ]
     },
     "execution_count": 171,
     "metadata": {},
     "output_type": "execute_result"
    },
    {
     "data": {
      "image/png": "[encoded data removed]",
      "text/plain": [
       "<Figure size 640x480 with 1 Axes>"
      ]
     },
     "metadata": {},
     "output_type": "display_data"
    }
   ],
   "source": [
    "plt.title(f\"Channel: {header[1]}, Trigger: {header[2]}, TimeStamp: {header[3]}\")\n",
    "plt.plot(trace)\n",
    "plt.axvspan(xmin=0,xmax=50, color='C2',alpha=0.2)\n",
    "plt.axvspan(xmin=50,xmax=300, color='C3',alpha=0.2)\n",
    "plt.xlabel('Samples');plt.ylabel('ADC')"
   ]
  },
  {
   "cell_type": "markdown",
   "metadata": {
    "slideshow": {
     "slide_type": "fragment"
    },
    "tags": []
   },
   "source": [
    "Calculate the baseline from the average of the first 51 samples."
   ]
  },
  {
   "cell_type": "code",
   "execution_count": 172,
   "metadata": {
    "slideshow": {
     "slide_type": "fragment"
    },
    "tags": []
   },
   "outputs": [
    {
     "name": "stdout",
     "output_type": "stream",
     "text": [
      "baseline: 14614.12ADC\n"
     ]
    }
   ],
   "source": [
    "baseline = np.average(trace[0:50])\n",
    "print(f\"baseline: {baseline:0.2f}ADC\")"
   ]
  },
  {
   "cell_type": "markdown",
   "metadata": {
    "slideshow": {
     "slide_type": "fragment"
    },
    "tags": []
   },
   "source": [
    "Subtract the baseline value from all the elments of the `trace` array."
   ]
  },
  {
   "cell_type": "code",
   "execution_count": 173,
   "metadata": {
    "slideshow": {
     "slide_type": "fragment"
    }
   },
   "outputs": [
    {
     "data": {
      "image/png": "[encoded data removed]",
      "text/plain": [
       "<Figure size 640x480 with 1 Axes>"
      ]
     },
     "metadata": {},
     "output_type": "display_data"
    }
   ],
   "source": [
    "trace = np.subtract(trace, baseline)\n",
    "\n",
    "plt.title(f\"Channel: {header[1]}, Trigger: {header[2]}, TimeStamp: {header[3]}\")\n",
    "plt.plot(trace)\n",
    "plt.axvspan(xmin=0,xmax=50, color='C2',alpha=0.2)\n",
    "plt.axvspan(xmin=50,xmax=300, color='C3',alpha=0.2)\n",
    "plt.xlabel('Samples');plt.ylabel('ADC');"
   ]
  },
  {
   "cell_type": "markdown",
   "metadata": {
    "slideshow": {
     "slide_type": "fragment"
    },
    "tags": []
   },
   "source": [
    "Calculate the signal integral for the trigger event."
   ]
  },
  {
   "cell_type": "code",
   "execution_count": 174,
   "metadata": {
    "slideshow": {
     "slide_type": "fragment"
    },
    "tags": []
   },
   "outputs": [
    {
     "name": "stdout",
     "output_type": "stream",
     "text": [
      "signal integral: 913.00ADC counts\n"
     ]
    }
   ],
   "source": [
    "sig_int = -np.sum(trace)\n",
    "print(f\"signal integral: {sig_int:.2f}ADC counts\")"
   ]
  },
  {
   "cell_type": "markdown",
   "metadata": {
    "slideshow": {
     "slide_type": "subslide"
    }
   },
   "source": [
    "### Analysis Function"
   ]
  },
  {
   "cell_type": "code",
   "execution_count": 175,
   "metadata": {
    "slideshow": {
     "slide_type": "fragment"
    }
   },
   "outputs": [],
   "source": [
    "def data_reader(file_name, num_ev=10000):\n",
    "    header_size = 4\n",
    "    window_size = 300\n",
    "    \n",
    "    with open(file_name, 'r') as d:\n",
    "        # define data structure\n",
    "        dtype = [('time_stamp','f4'), ('en','f4'), ('psd', 'f4')]\n",
    "        data = np.zeros(shape=num_ev, dtype=dtype)\n",
    "        \n",
    "        for i in range(num_ev):\n",
    "            header = np.fromfile(d, dtype='I', count=header_size)\n",
    "            \n",
    "            data['time_stamp'][i] = header[3]\n",
    "            \n",
    "            trace = np.fromfile(d, dtype='<H', count=window_size)\n",
    "            \n",
    "            # Average the first 30 samples to determine what \"zero\" is\n",
    "            bl = np.average(trace[0:30])\n",
    "\n",
    "            # Subtract off the baseline \n",
    "            trace = np.subtract(trace, bl)\n",
    "\n",
    "            # find the minimum of the pulse\n",
    "            peak_loc = np.argmin(trace)\n",
    "            \n",
    "            # Integrate the full pulse\n",
    "            data['en'][i] = -np.sum(trace[peak_loc-30:peak_loc+100])\n",
    "            \n",
    "            # Integrate the tail of the pulse, then take the ratio to the full\n",
    "            data['psd'][i] = -np.sum(trace[peak_loc+10:peak_loc+100])\n",
    "            data['psd'][i] /= data['en'][i]\n",
    "            \n",
    "    return data"
   ]
  },
  {
   "cell_type": "code",
   "execution_count": 176,
   "metadata": {
    "slideshow": {
     "slide_type": "fragment"
    }
   },
   "outputs": [
    {
     "ename": "FileNotFoundError",
     "evalue": "[Errno 2] No such file or directory: '180822-EJ309-1700V-Cf252.dat'",
     "output_type": "error",
     "traceback": [
      "\u001b[0;31m---------------------------------------------------------------------------\u001b[0m",
      "\u001b[0;31mFileNotFoundError\u001b[0m                         Traceback (most recent call last)",
      "Cell \u001b[0;32mIn [176], line 1\u001b[0m\n\u001b[0;32m----> 1\u001b[0m data \u001b[38;5;241m=\u001b[39m \u001b[43mdata_reader\u001b[49m\u001b[43m(\u001b[49m\u001b[43mdata_file\u001b[49m\u001b[43m,\u001b[49m\u001b[43m \u001b[49m\u001b[43mnum_ev\u001b[49m\u001b[38;5;241;43m=\u001b[39;49m\u001b[38;5;241;43m50000\u001b[39;49m\u001b[43m)\u001b[49m\n",
      "Cell \u001b[0;32mIn [175], line 5\u001b[0m, in \u001b[0;36mdata_reader\u001b[0;34m(file_name, num_ev)\u001b[0m\n\u001b[1;32m      2\u001b[0m header_size \u001b[38;5;241m=\u001b[39m \u001b[38;5;241m4\u001b[39m\n\u001b[1;32m      3\u001b[0m window_size \u001b[38;5;241m=\u001b[39m \u001b[38;5;241m300\u001b[39m\n\u001b[0;32m----> 5\u001b[0m \u001b[38;5;28;01mwith\u001b[39;00m \u001b[38;5;28;43mopen\u001b[39;49m\u001b[43m(\u001b[49m\u001b[43mfile_name\u001b[49m\u001b[43m,\u001b[49m\u001b[43m \u001b[49m\u001b[38;5;124;43m'\u001b[39;49m\u001b[38;5;124;43mr\u001b[39;49m\u001b[38;5;124;43m'\u001b[39;49m\u001b[43m)\u001b[49m \u001b[38;5;28;01mas\u001b[39;00m d:\n\u001b[1;32m      6\u001b[0m     \u001b[38;5;66;03m# define data structure\u001b[39;00m\n\u001b[1;32m      7\u001b[0m     dtype \u001b[38;5;241m=\u001b[39m [(\u001b[38;5;124m'\u001b[39m\u001b[38;5;124mtime_stamp\u001b[39m\u001b[38;5;124m'\u001b[39m,\u001b[38;5;124m'\u001b[39m\u001b[38;5;124mf4\u001b[39m\u001b[38;5;124m'\u001b[39m), (\u001b[38;5;124m'\u001b[39m\u001b[38;5;124men\u001b[39m\u001b[38;5;124m'\u001b[39m,\u001b[38;5;124m'\u001b[39m\u001b[38;5;124mf4\u001b[39m\u001b[38;5;124m'\u001b[39m), (\u001b[38;5;124m'\u001b[39m\u001b[38;5;124mpsd\u001b[39m\u001b[38;5;124m'\u001b[39m, \u001b[38;5;124m'\u001b[39m\u001b[38;5;124mf4\u001b[39m\u001b[38;5;124m'\u001b[39m)]\n\u001b[1;32m      8\u001b[0m     data \u001b[38;5;241m=\u001b[39m np\u001b[38;5;241m.\u001b[39mzeros(shape\u001b[38;5;241m=\u001b[39mnum_ev, dtype\u001b[38;5;241m=\u001b[39mdtype)\n",
      "\u001b[0;31mFileNotFoundError\u001b[0m: [Errno 2] No such file or directory: '180822-EJ309-1700V-Cf252.dat'"
     ]
    }
   ],
   "source": [
    "data = data_reader(data_file, num_ev=50000)"
   ]
  },
  {
   "cell_type": "code",
   "execution_count": null,
   "metadata": {
    "slideshow": {
     "slide_type": "skip"
    }
   },
   "outputs": [],
   "source": [
    "from matplotlib.colors import LogNorm"
   ]
  },
  {
   "cell_type": "code",
   "execution_count": null,
   "metadata": {
    "slideshow": {
     "slide_type": "subslide"
    }
   },
   "outputs": [],
   "source": [
    "plt.plot(data['time_stamp'][0:1000], marker=',')\n",
    "plt.xlabel('Event Counter');\n",
    "plt.ylabel('Time Stamp');"
   ]
  },
  {
   "cell_type": "code",
   "execution_count": null,
   "metadata": {
    "slideshow": {
     "slide_type": "subslide"
    }
   },
   "outputs": [],
   "source": [
    "h, bins = np.histogram(data['en'], bins=200, range=(0,100000))\n",
    "\n",
    "plt.stairs(h, bins)\n",
    "plt.yscale('log');\n",
    "plt.xlabel('Pulse Integral (ADC)');\n",
    "plt.ylabel('Counts/bin');"
   ]
  },
  {
   "cell_type": "code",
   "execution_count": null,
   "metadata": {
    "slideshow": {
     "slide_type": "subslide"
    }
   },
   "outputs": [],
   "source": [
    "plt.hist2d(data['en'], data['psd'], bins=50, range=((0,50000),(0,0.5)), norm=LogNorm());\n",
    "plt.xlabel('Pulse Integral (ADC)');\n",
    "plt.ylabel('Tail-fraction (%)');"
   ]
  },
  {
   "cell_type": "code",
   "execution_count": null,
   "metadata": {
    "slideshow": {
     "slide_type": "subslide"
    }
   },
   "outputs": [],
   "source": [
    "filter = data['en']>15000\n",
    "h, bins = np.histogram(data['psd'][filter], bins=200, range=(0,0.5))\n",
    "plt.stairs(h, bins, label='high-energy');\n",
    "\n",
    "filter = data['en']<15000\n",
    "h, bins = np.histogram(data['psd'][filter], bins=200, range=(0,0.5))\n",
    "plt.stairs(h, bins, label='low-energy');\n",
    "\n",
    "plt.xlabel('Tail-fraction (%)');\n",
    "plt.ylabel('Counts/bin');plt.legend()"
   ]
  },
  {
   "cell_type": "markdown",
   "metadata": {
    "slideshow": {
     "slide_type": "subslide"
    }
   },
   "source": [
    "## Conclusions"
   ]
  },
  {
   "cell_type": "markdown",
   "metadata": {
    "slideshow": {
     "slide_type": "-"
    }
   },
   "source": [
    "- We've only scratched the surface of what python can do for data analysis. \n",
    "- JupyterLab lends itself well to exploratory data analysis.  \n",
    "- Online Resources:\n",
    "    - Numpy (https://numpy.org)\n",
    "    - Matplotlib (https://matplotlib.org)\n",
    "    - HEP-specific tools: SciKit-HEP (https://scikit-hep.org)\n",
    "    - The repository for this tutorial: https://github.com/WrightLaboratory/data_analysis\n",
    "    - Slides can be viewed here: https://wrightlaboratory.github.io/data_analysis/#/\n",
    "    - Live notebook environment here: https://mybinder.org/v2/gh/WrightLaboratory/data_analysis/HEAD\n",
    "    \n",
    "- Further reading (O'Reilly Books available through Yale Library):\n",
    "    - [Data Analysis with Python by Wes McKinney](https://learning.oreilly.com/library/view/python-for-data/9781491957653/)\n",
    "    - [High Performance Python](https://learning.oreilly.com/library/view/high-performance-python/9781492055013/)\n"
   ]
  },
  {
   "cell_type": "code",
   "execution_count": null,
   "metadata": {},
   "outputs": [],
   "source": []
  }
 ],
 "metadata": {
  "celltoolbar": "Slideshow",
  "kernelspec": {
   "display_name": "Python 3 (ipykernel)",
   "language": "python",
   "name": "python3"
  },
  "language_info": {
   "codemirror_mode": {
    "name": "ipython",
    "version": 3
   },
   "file_extension": ".py",
   "mimetype": "text/x-python",
   "name": "python",
   "nbconvert_exporter": "python",
   "pygments_lexer": "ipython3",
   "version": "3.10.6"
  }
 },
 "nbformat": 4,
 "nbformat_minor": 4
}
